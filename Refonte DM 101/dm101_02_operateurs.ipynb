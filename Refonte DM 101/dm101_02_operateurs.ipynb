{
 "cells": [
  {
   "cell_type": "markdown",
   "metadata": {
    "deletable": false,
    "dst-cell-id": "f72e358a-7700-4608-a8d9-59d16c397c55",
    "editable": false,
    "run_control": {
     "frozen": true
    }
   },
   "source": [
    "<img src=\"https://datascientest.fr/train/assets/logo_datascientest.png\" style=\"height:150px\">\n",
    "\n",
    "<hr style=\"border-width:2px;border-color:#75DFC1\">\n",
    "<center><H1>Introdcution à Python</H1></center>\n",
    "<center><H2>Les opérateurs</H2></center>\n",
    "<hr style=\"border-width:2px;border-color:#75DFC1\">\n",
    "\n",
    "\n",
    "\n",
    "## Introduction\n",
    "\n",
    "> Les opérateurs comme `+` ou `=` servent à effectuer des opérations sur des variables et leurs valeurs. Ces opérateurs appartiennent à la grande famille des opérateurs de Python. Dans cet exercice, nous allons apprendre à manipuler les catégories d'opérateurs suivantes:\n",
    "> * Les opérateurs arithmétiques.\n",
    "> * Les opérateurs d'affectation.\n",
    "> * Les opérateurs de comparaison.\n",
    "> * Les opérateurs d'appartenance.\n",
    "> * Les opérateurs logiques.\n",
    ">\n",
    "> Nous verrons ensuite comment utiliser ces opérateurs pour contrôler l'éxécution de code à l'aide des instructions `if`, `else` et `elif`. \n",
    ">\n",
    "> Ces opérateurs sont très utiles pour manipuler tout type de donnée et donnent à Python énormément de flexibilité.\n",
    "\n",
    "## Les Opérateurs Arithmétiques\n",
    "\n",
    "> Les **opérateurs arithmétiques** applicables sur les variables de  types numériques sont les suivants:\n",
    ">\n",
    "> | Symbole | Opération        | Exemple               |\n",
    "> |:-------:|:----------------:|:---------------------|\n",
    "> | `+`       | Addition         | `6+4` renvoie `10`    |\n",
    "> | `-`       | Soustraction     | `6-4`  renvoie `2`    |\n",
    "> | `*`       | Multiplication   | `6*4` renvoie `24`    |\n",
    "> | `/`       | Division réelle  | `6/4` renvoie `1.5`   |\n",
    "> | `//`      | Division entière | `6.0//4` renvoie `1`  |\n",
    "> | `**`      | Puissance        | `6**4` renvoie `1296` |\n",
    "> | `%`       | Modulo           | `6 % 4` renvoie `2`   |\n",
    ">\n",
    "> \n",
    "> La division entière **`//`** correspond au quotient d'une division euclidienne (ou [division entière](https://fr.wikipedia.org/wiki/Division_euclidienne)) . Cela reveint donc à compter le nombre de fois que le nombre de droite peut diviser entièrement le nombre de gauche. Par exemple, `7 // 2` vaut 3 car 2 peut entrer 3 fois dans 7.\n",
    ">\n",
    "> L'opérateur **modulo** **`%`** permet d'obtenir le **reste** de la divison euclidienne entre 2 nombres. Par exemple, `7 % 2` vaut 1 car 7 est divisible par 2 trois fois et il reste 1 : **`7%2` = 2*3 +1**\n",
    ">\n",
    "> L'opérateur **`%`** est utile pour savoir si un nombre est pair ou impair. En effet, si un nombre `n` est pair, alors nécessairement `n % 2` vaut 0. De même, si `n` est impair, alors `n % 2` vaut 1.\n",
    "\n",
    "* Créer la variable **`distance`** et lui assigner la valeur ``750`` (distance Paris-Marseille en km).\n",
    "\n",
    "\n",
    "* Créer la variable **`vitesse`** et lui assigner la valeur ``4.8`` (vitesse moyenne d'un marcheur en km/h).\n",
    "\n",
    "\n",
    "* Créer une nouvelle variable **`temps`** qui correspond au quotient des deux variables précédentes.\n",
    "\n",
    "La variable `temps` nous donne le temps en **heures** qu'il faudrait à un marcheur pour voyager de Paris à Marseille sans s'arrêter. \n",
    "\n",
    "\n",
    "* Combien de jours et d'heures faudrait-il à notre marcheur pour aller de Paris à Marseille sans s'arrêter ? L'affichage de votre réponse doit être sous la forme `\"Il faudrait au marcheur 4.0 jours et 14.1 heures.\"`."
   ]
  },
  {
   "cell_type": "code",
   "execution_count": null,
   "metadata": {
    "dst-cell-id": "b04c02a7-fb04-407f-8c59-f9b855d507d2"
   },
   "outputs": [],
   "source": [
    "# Insérez votre code ici \n",
    "\n",
    "\n"
   ]
  },
  {
   "cell_type": "code",
   "execution_count": null,
   "metadata": {
    "deletable": false,
    "dst-cell-id": "71fd7642-3296-45a2-be23-bd97a0452db6",
    "editable": false,
    "function": "solution"
   },
   "outputs": [],
   "source": [
    "# Distance en km entre Paris et Marseille\n",
    "distance = 750\n",
    "\n",
    "# Vitesse moyenne d'un marcheur en km/h\n",
    "vitesse = 4.8\n",
    "\n",
    "# Temps en heures qu'il faudrait pour aller de Paris à Marseille sans s'arrêter\n",
    "temps = distance / vitesse\n",
    "\n",
    "# Jours de marche (Quotient de la division entière par 24 pour avoir le nombre de jours contenus dans la vble temps)\n",
    "jours = temps // 24\n",
    "\n",
    "# Nombre d'heures restantes (Reste de la division entière)\n",
    "heures_restantes = temps % 24\n",
    "\n",
    "\n",
    "print(\"Il faudrait au marcheur\", jours,\n",
    "      \"jours et\", heures_restantes, \"heures.\")"
   ]
  },
  {
   "cell_type": "markdown",
   "metadata": {
    "deletable": false,
    "dst-cell-id": "b3adf7d7-c710-4473-8bce-ad55027d9152",
    "editable": false,
    "run_control": {
     "frozen": true
    }
   },
   "source": [
    "## Les Opérateurs d'Assignation\n",
    "\n",
    "> Pour toutes les opérations arithmétiques, telles que l'addition ou la multiplication, il existe un moyen d'appliquer l'opération et l'affectation d'un seul coup grâce aux opérateurs '`+=`' ou '`*=`' par exemple. \n",
    ">\n",
    "> | Symbole    | Opération        |\n",
    "> |:----------:|:----------------:|\n",
    "> | `+=`       | Addition         |\n",
    "> | `-=`       | Soustraction     |\n",
    "> | `*=`       | Multiplication   |\n",
    "> | `/=`       | Division réelle  |\n",
    "> | `//=`      | Division entière |\n",
    "> | `**=`      | Puissance        |\n",
    "> | `%=`       | Modulo           |\n",
    ">\n",
    ">\n",
    "> Ainsi `x += 3` est **équivalent** à `x = x + 3`. De même, `z **= 2` revient à écrire `z = z**2`.\n",
    "\n",
    "* Un magicien dit que si:\n",
    "    * On choisit un nombre **premier** différent de 2 et 3.\n",
    "    * On l'élève au carré.\n",
    "    * On lui ajoute 17.\n",
    "    * On le divise par 12 et on garde le reste de cette divison, alors le reste de cette divison vaut 6.\n",
    "\n",
    "**A-t-il raison ?**\n",
    "\n",
    "On rappelle qu'un nombre *premier* est un nombre qui n'est divisible que par 1 ou lui-même. Les 10 nombres premiers les plus petits différents de 2 et 3 sont 5, 7, 11, 13, 17, 19, 23, 29, 31, 37."
   ]
  },
  {
   "cell_type": "code",
   "execution_count": null,
   "metadata": {
    "dst-cell-id": "e971772a-0c92-45bc-a1ed-800b796dc75b"
   },
   "outputs": [],
   "source": [
    "nombres_premiers = [5, 7, 11, 13, 17, 19, 23, 29, 31, 37]\n",
    "x = nombres_premiers[0]\n",
    "\n",
    "# Insérez votre code ici \n",
    "\n",
    "\n"
   ]
  },
  {
   "cell_type": "code",
   "execution_count": null,
   "metadata": {
    "deletable": false,
    "dst-cell-id": "60902f3f-b731-436c-a4fb-b4a3c4075570",
    "editable": false,
    "function": "solution"
   },
   "outputs": [],
   "source": [
    "nombres_premiers = [5, 7, 11, 13, 17, 19, 23, 29, 31, 37]\n",
    "x = nombres_premiers[0]\n",
    "\n",
    "# On élève x au carré\n",
    "x **= 2\n",
    "\n",
    "# On ajoute 17 à x\n",
    "x += 17\n",
    "\n",
    "# On garde le reste de la divison entière de x par 12\n",
    "x %= 12\n",
    "\n",
    "print(x)"
   ]
  },
  {
   "cell_type": "markdown",
   "metadata": {
    "deletable": false,
    "dst-cell-id": "c4e766a4-e5b8-48cb-b369-498b3054bdc8",
    "editable": false,
    "run_control": {
     "frozen": true
    }
   },
   "source": [
    "## Les Opérateurs de Comparaison\n",
    "\n",
    "> Les opérateurs de comparaisons permettent de comparer les valeurs de deux variables. Les opérations de comparaison renvoient la valeur booléenne `True` si l'expression est vraie, ou `False` si elle s'avère fausse. Par exemple:\n",
    ">\n",
    "> ```python\n",
    "> x, y = 3, 5\n",
    ">\n",
    "> # Est-ce que x est plus petit que y?\n",
    "> print(x < y)\n",
    "> >>> True\n",
    "> ```\n",
    ">\n",
    "> Les opérateurs de comparaison de Python sont: \n",
    ">\n",
    "> | Expression | Exemple  | Signification                                   |\n",
    "> | :--------- | :------: | :---------------------------------------------- | \n",
    "> | `<`        | `x < y`  | Est-ce que x est **strictement inférieur** à y? |\n",
    "> | `<=`       | `x <= y` | Est-ce que x **inférieur ou égal** à y?         |\n",
    "> | `>`        | `x > y`  | Est-ce que x est **strictement supérieur** à y? |\n",
    "> | `>=`       | `x >= y` | Est-ce que x est **supérieur ou égal** à y?     |\n",
    "> | `==`       | `x == y` | Est-ce que x est **égal** à y?                  |\n",
    "> | `!=`       | `x != y` | Est-ce que x est **différent** de y?            |\n",
    ">\n",
    "> Exemple:\n",
    "> ```py\n",
    "> x, y = 3, 5\n",
    ">\n",
    "> # Est-ce que x est égal à y?\n",
    "> print(x == y)\n",
    "> >>> False\n",
    "> ```\n",
    "> **IL NE FAUT PAS CONFONDRE `x == y` avec `x = y`**. La première instruction est une comparaison tandis que la deuxième est une assignation.\n",
    "\n",
    "* En une ligne de code, détérminer par une valeur booléene si $7$ divise $3^{7} + 2^{14}$.\n",
    "\n",
    "Comme sur une calculatrice, vous pouvez utiliser des **parenthèses** pour définir les priorités d'opération.\n",
    "\n",
    "<div class=\"alert alert-info\">\n",
    "<i class=\"fa fa-info-circle\"></i> &emsp; \n",
    " Pour rappel, A et divisible par B si le résultat du quotient de la division entière de A par B vaut 0. Autrement dit : A%B = 0.</div> "
   ]
  },
  {
   "cell_type": "code",
   "execution_count": null,
   "metadata": {
    "dst-cell-id": "bbcd7eb2-dadf-4dd7-823c-c489070678bc"
   },
   "outputs": [],
   "source": [
    "# Insérez votre code ici\n",
    "\n",
    "\n"
   ]
  },
  {
   "cell_type": "code",
   "execution_count": null,
   "metadata": {
    "deletable": false,
    "dst-cell-id": "e5e8d159-8269-4fb3-9eb6-094fbb4cbc34",
    "editable": false,
    "function": "solution"
   },
   "outputs": [],
   "source": [
    "# Première question\n",
    "print((3**7 + 2**14)%7 == 0)\n",
    "\n",
    "# Deuxième question\n",
    "n = 4\n",
    "x = 3**(2*n + 1) + 2**(4*n + 2)\n",
    "print(x%7 == 0)\n",
    "\n",
    "n = 5\n",
    "x = 3**(2*n + 1) + 2**(4*n + 2)\n",
    "print(x%7 == 0)\n",
    "\n",
    "n = 10\n",
    "x = 3**(2*n + 1) + 2**(4*n + 2)\n",
    "print(x%7 == 0)"
   ]
  },
  {
   "cell_type": "markdown",
   "metadata": {
    "deletable": false,
    "dst-cell-id": "d082d23a-9227-4f6d-b123-1deb4ad265c0",
    "editable": false,
    "run_control": {
     "frozen": true
    }
   },
   "source": [
    "## Les Opérateurs d'Appartenance\n",
    "\n",
    "> Les opérateurs d'appartenance permettent de tester si une valeur est **absente ou présente** dans une séquence comme une liste ou un tuple en renvoyant une valeure booléenne. L'opérateur qui détermine si une valeur est présente dans une séquence est l'opérateur **`in`** et l'opérateur qui détermine si une valeur est absente est **`not in`**:\n",
    ">\n",
    "> ```python\n",
    "> une_liste = [1, 3, 102, 32, 11, -12, 33]\n",
    "> x = 14\n",
    ">\n",
    "> # Est-ce que la valeur de x fait partie des valeurs de une_liste?\n",
    "> print(x in une_liste)\n",
    "> >>> False\n",
    ">\n",
    "> # Est-ce que la valeur de x ne fait PAS partie des valeurs de une_liste?\n",
    "> print(x not in une_liste)\n",
    "> >>> True\n",
    "> ```\n",
    "\n",
    "La variable `extrait` contient un extrait de l'article Wikipédia sur la [Coupe du monde de football](https://fr.wikipedia.org/wiki/Coupe_du_monde_de_football) sous forme d'une **liste** de mots.\n",
    "\n",
    "* Lancer la cellule suivante pour instancier la variable `extrait`."
   ]
  },
  {
   "cell_type": "code",
   "execution_count": null,
   "metadata": {
    "dst-cell-id": "55b99bce-f7c8-4dcd-99f8-403cb23016a3"
   },
   "outputs": [],
   "source": [
    "extrait = ['Le', 'Brésil,', 'seule', 'équipe', 'à', 'avoir', 'disputé', 'toutes',\n",
    "           'les', 'phases', 'finales', 'de', 'la', 'compétition,', 'détient', 'le', 'record',\n",
    "           'avec', 'cinq', 'titres', 'mondiaux', 'et', \"s'est\", 'acquis', 'le', 'droit', 'de',\n",
    "           'conserver', 'la', 'Coupe', 'Jules-Rimet', 'en', '1970', 'après', 'sa', '3e',\n",
    "           'victoire', 'finale', 'dans', 'la', 'compétition,', 'avec', 'Pelé', 'seul',\n",
    "           'joueur', 'triple', 'champion', 'du', 'monde.', \"l'\", \"Italie\", 'et',\n",
    "           \"l'\", \"Allemagne\", 'comptent', 'quatre', 'trophées.', \"l'\", \"Uruguay,\", 'vainqueur',\n",
    "           'à', 'domicile', 'de', 'la', 'première', 'édition,', \"l'\", \"Argentine\", 'et',\n",
    "           'la', 'France', 'ont', 'gagné', 'chacune', 'deux', 'fois', 'la', 'Coupe,',\n",
    "           \"l'\", \"Angleterre\", 'et', \"l'\", \"Espagne\", 'une', 'fois.', 'La', 'dernière', 'édition',\n",
    "           \"s'est\", 'déroulée', 'en', 'Russie', 'en', '2018,', 'la', 'prochaine', 'doit',\n",
    "           'avoir', 'lieu', 'au', 'Qatar', 'en', '2022.', 'Celle', 'de', '2026,', 'aux',\n",
    "           'États-Unis,', 'au', 'Canada', 'et', 'au', 'Mexique)', 'sera', 'la', 'première',\n",
    "           'édition', 'à', '48', 'équipes', 'participantes.', 'La', 'Coupe', 'du', 'monde',\n",
    "           'de', 'football', 'est', \"l'\", \"événement\", 'sportif', 'le', 'plus', 'regardé', 'à',\n",
    "           'la', 'télévision', 'dans', 'le', 'monde', 'avec', 'les', 'Jeux', 'olympiques',\n",
    "           'et', 'la', 'Coupe', 'du', 'monde', 'de', 'cricket.']"
   ]
  },
  {
   "cell_type": "markdown",
   "metadata": {
    "deletable": false,
    "dst-cell-id": "37bf9e58-7579-40f7-9d8a-5c17fee33690",
    "editable": false,
    "run_control": {
     "frozen": true
    }
   },
   "source": [
    "* En une ligne de code, déterminer si la `\"France\"` est mentionnée dans cet extrait.\n",
    "\n",
    "\n",
    "* Malheureusement, les perdants sont vite oubliés même si leur performance a été historique. Vérifier que la `\"Croatie\"` n'est pas mentionnée dans l'extrait."
   ]
  },
  {
   "cell_type": "code",
   "execution_count": null,
   "metadata": {
    "dst-cell-id": "fd6674eb-cd47-444c-a0c1-e4e7d6500a4c"
   },
   "outputs": [],
   "source": [
    "# Insérez votre code ici\n",
    "\n",
    "\n"
   ]
  },
  {
   "cell_type": "code",
   "execution_count": null,
   "metadata": {
    "deletable": false,
    "dst-cell-id": "bdfe4a3d-0329-493f-b8c6-9f268a72b708",
    "editable": false,
    "function": "solution"
   },
   "outputs": [],
   "source": [
    "# Est-ce que la France est mentionnée dans l'extrait?\n",
    "print(\"France\" in extrait)\n",
    "\n",
    "# Est-ce que la Croatie n'est PAS mentionnée dans l'extrait?\n",
    "print(\"Croatie\" not in extrait)"
   ]
  },
  {
   "cell_type": "markdown",
   "metadata": {
    "deletable": false,
    "dst-cell-id": "1137d9ca-abfd-4be1-a52c-e728f3ee0666",
    "editable": false,
    "run_control": {
     "frozen": true
    }
   },
   "source": [
    "## Les Opérateurs Logiques \n",
    "\n",
    "> Les opérateurs logiques permettent de faire ce qu'on appelle de l'**arithmétique booléene**. Typiquement, lorsque nous avons plusieurs expressions booléenes, les opérateurs logiques permettent de déterminer si:\n",
    ">    * **Toutes** les expressions sont vraies.\n",
    ">    * Au moins une des expressions est vraie.\n",
    ">\n",
    "> ```python\n",
    "> x, y = 3, 5\n",
    ">\n",
    "> # Est-ce que x est inférieur à y?\n",
    "> expression1 = (x < y)\n",
    ">\n",
    "> # Est-ce que y est divisible par x?\n",
    "> expression2 = (y%x == 0)\n",
    ">\n",
    "> # Est-ce que les deux expressions sont vraies?\n",
    "> print(expression1 and expression2)\n",
    "> >>> False\n",
    ">\n",
    "> # Est-ce que au moins une des expressions est vraie?\n",
    "> print(expression1 or expression2)\n",
    "> >>> True\n",
    "> ```\n",
    ">\n",
    "> L'opérateur **`not`** permet d'obtenir la **négation** d'une expression:\n",
    "> ```python\n",
    "> x, y = 3, 5\n",
    ">\n",
    "> expression = (y%x == 0)\n",
    "> \n",
    "> # Est-ce que y est divisible par x?\n",
    "> print(expression)\n",
    "> >>> False\n",
    ">\n",
    "> > # Est-ce que y n'est PAS divisible par x?\n",
    "> print(not expression)\n",
    "> >>> True\n",
    "> ```\n",
    ">\n",
    "> Les opérateurs logiques sont récapitulés ci-dessous:\n",
    ">\n",
    "> | Opérateur | Exemple   | Signification                                                        |\n",
    "> | :-------: | :-------: | -------------------------------------------------------------------- |  \n",
    "> | `and`     | `P and Q` | Est-ce que P et Q sont **toutes** deux vraies?                        |\n",
    "> | `or`      | `P or Q`  | Est-ce que **au moins une** des expressions parmi P et Q est vraie? |\n",
    "> | `not`     | `not P`   | La négation de l'expression P                                        |\n",
    "\n",
    "Le gouvernement a décidé d'offrir une prime de 300€ à certains fonctionnaires en fonction de leur salaire et de leur ancienneté. Comme toutes les autres mesures prises par le gouvernement, il est difficile de comprendre à qui cette mesure s'applique.\n",
    "\n",
    "De ce que vous avez compris, une personne peut toucher à la prime si:\n",
    "* Critère 1: Elle a **moins** de **5 ans** d'ancienneté **et** son salaire est **strictement inférieur** à **1500** euros.\n",
    "* Critère 2: Elle a **entre 5 et 10 ans** d'ancienneté **et** son salaire est compris **entre 1500 et 2300** euros.\n",
    "* Critère 3: Elle a **plus** de **10 ans** d'ancienneté **et** son salaire est **inférieur** à **1500** euros **ou** **supérieur** à **2300** euros. C'est à dire qu'une personne ayant plus de 10 ans d'ancienneté et un salaire entre 1500 et 2300 euros ne peut pas toucher à cette prime.\n",
    "   \n",
    "Bernadette a **12** ans d'ancienneté et un salaire de **2400** euros. \n",
    "\n",
    "Marc a **6** ans d'ancienneté et un salaire de **1490** euros. \n",
    "\n",
    "\n",
    "* Déterminer à l'aide des mêmes expressions logiques qui parmi Bernadette et Marc peut toucher à cette prime. Pour cela vous pourrez:\n",
    "    * Créer deux variables `anciennete` et `salaire`.\n",
    "    * Évaluer les 3 critères de décision en fonction des variables `anciennete` et `salaire`.\n",
    "    * Vérifier si au moins un des critères est satisfait.\n",
    "    \n",
    "Pour tester si une valeur `x` est entre deux valeurs `a` et `b`, vous pouvez soit:\n",
    "* Faire deux comparaisons en deux expressions avec un ET logique: `x > a and x < b`\n",
    "* Faire deux comparaisons en une unique expression: `a < x < b`"
   ]
  },
  {
   "cell_type": "code",
   "execution_count": null,
   "metadata": {
    "dst-cell-id": "44d65f64-9f5b-4d9a-a635-e2ff2eb91991"
   },
   "outputs": [],
   "source": [
    "# Insérez votre code ici\n",
    "\n",
    "\n"
   ]
  },
  {
   "cell_type": "code",
   "execution_count": null,
   "metadata": {
    "deletable": false,
    "dst-cell-id": "790720eb-1aed-4cea-a520-af9e294c3f00",
    "editable": false,
    "function": "solution"
   },
   "outputs": [],
   "source": [
    "# Bernadette\n",
    "anciennete = 12\n",
    "salaire = 2400\n",
    "\n",
    "# Est-ce que Bernadette a moins de 5 ans d'ancienneté et son salaire est strictement inférieur à 1500 euros?\n",
    "critere1 = anciennete < 5 and salaire < 1500\n",
    "\n",
    "# Est-ce que Bernadette a entre 5 et 10 ans d'ancienneté et son salaire est compris entre 1500 et 2300 euros?\n",
    "critere2 = (5 <= anciennete <= 10) and (1500 < salaire <= 2300)\n",
    "\n",
    "# Est-ce que Bernadette a plus de 10 ans d'ancienneté et son salaire est inférieur à 1500 ou supérieur à 2300?\n",
    "critere3 = (anciennete > 10) and (1500 > salaire or salaire > 2300)\n",
    "\n",
    "# Est-ce que Bernadette peut toucher à la prime?\n",
    "print(\"Bernadette peut-elle toucher la prime?\", critere1 or critere2 or critere3)\n",
    "\n",
    "\n",
    "# Marc\n",
    "anciennete = 6\n",
    "salaire = 1490\n",
    "\n",
    "# Est-ce que Marc a moins de 5 ans d'ancienneté et son salaire est strictement inférieur à 1500 euros?\n",
    "critere1 = anciennete < 5 and salaire < 1500\n",
    "\n",
    "# Est-ce que Marc a entre 5 et 10 ans d'ancienneté et son salaire est compris entre 1500 et 2300 euros?\n",
    "critere2 = (5 <= anciennete <= 10) and (1500 < salaire <= 2300)\n",
    "\n",
    "# Est-ce que Marc a plus de 10 ans d'ancienneté et son salaire est inférieur à 1500 ou supérieur à 2300?\n",
    "critere3 = (anciennete > 10) and (1500 < salaire or salaire > 2300)\n",
    "\n",
    "# Est-ce que Marc peut toucher à la prime?\n",
    "print(\"Marc peut-il toucher la prime?\", critere1 or critere2 or critere3)"
   ]
  },
  {
   "cell_type": "markdown",
   "metadata": {
    "deletable": false,
    "dst-cell-id": "15252620-90c8-4962-a791-f1a4da1aa67f",
    "editable": false,
    "run_control": {
     "frozen": true
    }
   },
   "source": [
    "## Les Structures de Contrôle (conditions)\n",
    "\n",
    "> Il est souvent utile de **conditionner** si un bloc de code devrait s'éxécuter ou non.\n",
    ">\n",
    "> Par exemple, si nous voulons automatiquement créditer le compte des fonctionnaires éligibles à la prime du gouvernement, il faut que les variables contenant leurs soldes ne soient mises à jour **que** pour les fonctionnaires **éligibles** à la prime. \n",
    ">\n",
    "> Les structures de contrôle permettent d'exécuter un bloc d'instructions sous condition. Il existe deux mots-clés permettant de conditionner des instructions: \n",
    "> * **`if`** (si)\n",
    ">* **`else`** (sinon)\n",
    ">\n",
    "> Supposons que la variable `eligible` est une variable booléene (i.e. de valeur `True` ou `False`) nous disant si un fonctionnaire est éligible à la prime et supposons que la variable `solde` correspond à la quantité d'argent dont dispose ce fonctionnaire.\n",
    ">\n",
    "> Afin de créditer le compte d'un fonctionnaire éligible à la prime, nous pouvons structurer notre code de cette façon:\n",
    ">\n",
    "> ```python\n",
    "> # Est-ce que le fonctionnaire est eligible à la prime?\n",
    "> if eligible == True:\n",
    ">    solde += 300\n",
    ">    # Si oui, on augmente son solde de 300 euros\n",
    "> ```\n",
    ">\n",
    "> Suite à de nombreuses plaintes, le gouvernement va quand même offrir une prime de **50€** aux personnes qui ne sont **pas** éligibles à la prime de 300€. Afin de créditer le compte de ces gens-là, nous allons ajouter une clause **`else`** à notre programme, dont les instructions associées s'éxécuteront si `eligible` vaut `False`:\n",
    ">\n",
    "> ```python\n",
    "> # Est-ce que le fonctionnaire est eligible à la prime?\n",
    "> if eligible == True:\n",
    ">    solde += 300\n",
    ">    # Si oui, on augmente son solde de 300 euros\n",
    "> else:\n",
    ">    solde += 50\n",
    ">    # Sinon, on n'augmente son solde que de 50 euros\n",
    "> ```\n",
    ">\n",
    "> Le caractère `:` après une clause `if` ou `else` permet de **débuter un bloc de code**. Afin de déterminer le début et la fin d'un bloc, les instructions qui doivent s'éxécuter dans un bloc doivent être **indentées**, c'est-à-dire décalées d'une tabulation ou de 4 espaces:\n",
    ">\n",
    "> <br>\n",
    ">\n",
    "> <img src=\"https://assets-datascientest.s3-eu-west-1.amazonaws.com/train/if_else.png\" style = \"height:300px\">\n",
    ">\n",
    "> <br>\n",
    ">\n",
    "> En comparaison, `Excel` possède la commande `Then` : \n",
    "> <pre><font color=\"#000080\">Sub</font> macro()\n",
    "> <font color=\"#000080\">If</font> condition <font color=\"#000080\">Then</font> expression 1\n",
    "> <font color=\"#000080\">Else</font> expression 2\n",
    "> <font color=\"#000080\">End if</font>\n",
    "> <font color=\"#000080\">End Sub</font></pre>\n",
    ">\n",
    ">\n",
    "> Un professeur peu scrupuleux veut générer des appréciations automatiquement en fonction de la note d'un élève. Pour cela, il peut tester plusieurs conditions les unes après les autres en utilisant une clause **`elif`** (contraction de `else` et `if`). \n",
    "> \n",
    "> ```python\n",
    "> if note < 5:\n",
    ">     print(\"Travail très insuffisant.\")\n",
    "> elif note < 10:\n",
    ">     print(\"Peut mieux faire.\")\n",
    "> elif note < 15:\n",
    ">     print(\"Du bon travail. Je vous encourage à continuer ainsi.\")\n",
    "> else:\n",
    ">     print(\"Excellent travail. Toutes mes félicitations.\")\n",
    "> ```\n",
    "> \n",
    "> \n",
    "\n",
    "* Ré-écrire le bloc suivant à l'aide d'une clause `if`, d'une clause `elif` et d'une clause `else`.\n",
    "\n",
    "```py\n",
    "if nombre >= 0:\n",
    "    if nombre == 0:\n",
    "        print(\"Ce nombre vaut 0.\")\n",
    "    else:\n",
    "        print(\"Ce nombre est strictement positif.\")\n",
    "else:\n",
    "    print(\"Ce nombre est strictement négatif.\")\n",
    "```"
   ]
  },
  {
   "cell_type": "code",
   "execution_count": null,
   "metadata": {
    "dst-cell-id": "7b7a4372-0460-45c8-a618-a2abab1a7f2e"
   },
   "outputs": [],
   "source": [
    "nombre = -2\n",
    "\n",
    "## Insérez votre code ici\n",
    "\n",
    "\n"
   ]
  },
  {
   "cell_type": "code",
   "execution_count": null,
   "metadata": {
    "deletable": false,
    "dst-cell-id": "ac0192d6-c43c-48ea-875c-5882f7770977",
    "editable": false,
    "function": "solution"
   },
   "outputs": [],
   "source": [
    "nombre = -2\n",
    "\n",
    "if nombre == 0:\n",
    "    print(\"Ce nombre vaut 0.\")\n",
    "elif nombre > 0:\n",
    "    print(\"Ce nombre est strictement positif.\")\n",
    "else:\n",
    "    print(\"Ce nombre est strictement négatif.\")"
   ]
  },
  {
   "cell_type": "markdown",
   "metadata": {
    "deletable": false,
    "dst-cell-id": "827f5d14-3f6c-42d5-98f0-ea3802fdd152",
    "editable": false,
    "run_control": {
     "frozen": true
    }
   },
   "source": [
    "* Est-ce que la syntaxe du bloc suivant est correcte? Si non, proposez une correction.\n",
    "```py\n",
    "if taille < 160:\n",
    "    print(\"Cette personne est petite.\")\n",
    "else if 160 <= taille < 180:\n",
    "    print(\"Cette personne a une taille moyenne.\")\n",
    "else 180 <= taille < 200:\n",
    "    print(\"Cette personne est très grande\")\n",
    "else:\n",
    "    print(\"Cette personne est très très grande\")\n",
    "```"
   ]
  },
  {
   "cell_type": "code",
   "execution_count": null,
   "metadata": {
    "dst-cell-id": "d0f08857-3b21-4738-b06c-45b47a6ae88c"
   },
   "outputs": [],
   "source": [
    "taille = 205\n",
    "\n",
    "# Insérez votre code ici\n",
    "\n"
   ]
  },
  {
   "cell_type": "code",
   "execution_count": null,
   "metadata": {
    "deletable": false,
    "dst-cell-id": "83e4df88-ebb6-4642-99ce-ddc7bc1697a7",
    "editable": false,
    "function": "solution"
   },
   "outputs": [],
   "source": [
    "taille = 205\n",
    "\n",
    "if taille < 160:\n",
    "    print(\"Cette personne est petite.\")\n",
    "elif 160 <= taille < 180:\n",
    "    print(\"Cette personne a une taille moyenne.\")\n",
    "elif 180 <= taille < 200:\n",
    "    print(\"Cette personne est très grande.\")\n",
    "else:\n",
    "    print(\"Cette personne est très très grande.\")"
   ]
  },
  {
   "cell_type": "markdown",
   "metadata": {
    "deletable": false,
    "dst-cell-id": "746c2b1b-ac32-43c5-b334-923f0aa87349",
    "editable": false,
    "run_control": {
     "frozen": true
    }
   },
   "source": [
    "## Conclusion et Récap\n",
    "\n",
    ">  Les **opérateurs arithmétiques** applicables sur les variables de  types numériques permettent d'effectuer des opérations élémentaires et sont récapitulées ci-dessous:\n",
    ">\n",
    "> | Symbole   | Opération        | Exemple               |\n",
    "> |:---------:|:----------------:|:----------------------|\n",
    "> | `+`       | Addition         | `6+4` renvoie `10`    |\n",
    "> | `-`       | Soustraction     | `6-4`  renvoie `2`    |\n",
    "> | `*`       | Multiplication   | `6*4` renvoie `24`    |\n",
    "> | `/`       | Division réelle  | `6/4` renvoie `1.5`   |\n",
    "> | `//`      | Division entière | `6.0//4` renvoie `1`  |\n",
    "> | `**`      | Puissance        | `6**4` renvoie `1296` |\n",
    "> | `%`       | Modulo           | `6 % 4` renvoie `2`   |\n",
    ">\n",
    "> Pour toutes les opérations arithmétiques, il existe un moyen d'appliquer l'opération et l'affectation d'un seul coup grâce aux **opérateurs d'assignation** suivants:\n",
    ">\n",
    "> | Symbole    | Opération        |\n",
    "> |:----------:|:----------------:|\n",
    "> | `+=`       | Addition         |\n",
    "> | `-=`       | Soustraction     |\n",
    "> | `*=`       | Multiplication   |\n",
    "> | `/=`       | Division réelle  |\n",
    "> | `//=`      | Division entière |\n",
    "> | `**=`      | Puissance        |\n",
    "> | `%=`       | Modulo           |\n",
    ">\n",
    "> Exemple : `x += 10` est équivalent à `x = x + 10`.\n",
    ">\n",
    "> Les **opérateurs de comparaison** de Python sont: \n",
    ">\n",
    "> | Expression | Exemple  | Signification                                   |\n",
    "> | :--------- | :------: | :---------------------------------------------- | \n",
    "> | `<`        | `x < y`  | Est-ce que x est **strictement inférieur** à y? |\n",
    "> | `<=`       | `x <= y` | Est-ce que x **inférieur ou égal** à y?         |\n",
    "> | `>`        | `x > y`  | Est-ce que x est **strictement supérieur** à y? |\n",
    "> | `>=`       | `x >= y` | Est-ce que x est **supérieur ou égal** à y?     |\n",
    "> | `==`       | `x == y` | Est-ce que x est **égal** à y?                  |\n",
    "> | `!=`       | `x != y` | Est-ce que x est **différent** de y?            |\n",
    ">\n",
    "> Ces opérateurs servent surtout à construire des structures de contrôle grâce aux clauses **`if`**, **`else`** et **`elif`**:\n",
    ">\n",
    "> ```python\n",
    "> if taille < 160:\n",
    ">     print(\"Cette personne est petite.\")\n",
    "> elif 160 <= taille < 180:\n",
    ">     print(\"Cette personne a une taille moyenne.\")\n",
    "> elif 180 <= taille < 200:\n",
    ">     print(\"Cette personne est très grande.\")\n",
    "> else:\n",
    ">     print(\"Cette personne est très très grande.\")\n",
    "> ```\n",
    ">\n",
    "> Les **opérateurs logiques** permettent de construire des conditions plus complexes:\n",
    ">\n",
    "> | Opérateur | Exemple   | Signification                                                        |\n",
    "> | :-------: | :-------: | -------------------------------------------------------------------- |  \n",
    "> | `and`     | `P and Q` | Est-ce que P et Q sont **toutes** deux vraies?                        |\n",
    "> | `or`      | `P or Q`  | Est-ce que **au moins une** des expressions parmi P et Q est vraie? |\n",
    "> | `not`     | `not P`   | La négation de l'expression P                                        |\n",
    ">\n",
    ">\n",
    "> ```python\n",
    "> if (anciennete > 10) and (1500 < salaire or salaire > 2300):\n",
    ">     print(\"Cette personne est éligible à la prime.\")\n",
    "> ```\n"
   ]
  }
 ],
 "metadata": {
  "hide_input": false,
  "kernelspec": {
   "display_name": "Python 3",
   "language": "python",
   "name": "python3"
  },
  "language_info": {
   "codemirror_mode": {
    "name": "ipython",
    "version": 3
   },
   "file_extension": ".py",
   "mimetype": "text/x-python",
   "name": "python",
   "nbconvert_exporter": "python",
   "pygments_lexer": "ipython3",
   "version": "3.8.3"
  },
  "latex_envs": {
   "LaTeX_envs_menu_present": true,
   "autoclose": false,
   "autocomplete": true,
   "bibliofile": "biblio.bib",
   "cite_by": "apalike",
   "current_citInitial": 1,
   "eqLabelWithNumbers": true,
   "eqNumInitial": 1,
   "hotkeys": {
    "equation": "Ctrl-E",
    "itemize": "Ctrl-I"
   },
   "labels_anchors": false,
   "latex_user_defs": false,
   "report_style_numbering": false,
   "user_envs_cfg": false
  },
  "nbTranslate": {
   "displayLangs": [],
   "hotkey": "alt-t",
   "langInMainMenu": true,
   "sourceLang": "fr",
   "targetLang": "en",
   "useGoogleTranslate": true
  },
  "owner": "DataScientest"
 },
 "nbformat": 4,
 "nbformat_minor": 4
}
