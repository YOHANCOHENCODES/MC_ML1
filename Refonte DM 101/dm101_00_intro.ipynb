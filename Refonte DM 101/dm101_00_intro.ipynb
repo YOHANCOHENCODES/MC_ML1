{
 "cells": [
  {
   "cell_type": "markdown",
   "metadata": {
    "deletable": false,
    "editable": false,
    "run_control": {
     "frozen": true
    }
   },
   "source": [
    "<img src=\"https://datascientest.fr/train/assets/logo_datascientest.png\" style=\"height:150px\">\n",
    "<hr style=\"border-width:2px;border-color:#75DFC1\">\n",
    "<center><H1>Introduction à Python</H1></center>\n",
    "<center><H2>Quels intérêts et comment réussir ?</H2></center>\n",
    "<hr style=\"border-width:2px;border-color:#75DFC1\">\n",
    "\n",
    "## Contexte et objectifs\n",
    "\n",
    "> L'objectif de ce module est d'apprendre un nouveau language de programmation (`Python`) grâce à un outil avec lequel vous êtes peut-être déjà familier (`Microsoft Excel`).\n",
    ">\n",
    "> `Microsoft Excel` est un logiciel tableur appartenant à la suite bureautique `Microsoft Office` développée et distribuée par l'éditeur `Microsoft`. \n",
    ">\n",
    "> Ce logiciel permet la création et le traitement de tableaux, la réalisation de représentations graphiques et d'analyses de données, il intègre également des fonctions de calcul numérique et même un langage de programmation : `VBA` (Visual Basic for Applications).\n",
    ">\n",
    "> Nous verrons dans ce module que certaines analogies peuvent être faites entre `Microsoft Excel` et les objets manipulés en `Python`. Ceci facilitera l'apprentissage de ce nouveau language de programmation.\n",
    ">\n",
    "\n",
    "## Compétences requises\n",
    "\n",
    "> Maîtrise de `Microsoft Excel` (toute version confondue) et notions élémentaires d'algorithmique.\n",
    "\n",
    "## Quelques mots sur `Python` \n",
    "\n",
    "> `Python` est un langage de programmation développé par Guido van Rossum en 1989 et qui continue d'être développé par de nombreux contributeurs bénévoles. Il s'agit d'un langage libre, ouvert et gratuit (ce qui signifie que vous pouvez en télécharger les sources et les modifier). \n",
    ">\n",
    "> Ses domaines d'application sont très variés, ce qui en fait un langage très populaire :\n",
    ">\n",
    "> * Développement web\n",
    "> * Applications mobiles\n",
    "> * Manipulation de base de données\n",
    "> * Calcul scientifique / Machine Learning\n",
    "> * Analyse et Visualisation de données\n",
    "\n",
    "## Quels sont les principaux intérêts de passer d'`Excel` vers `Python`?\n",
    "\n",
    "> Plusieurs raisons font qu'il est préférable d'utiliser `Excel` pour des travaux rapides et peu importants mais de l'éviter lorsque l'on doit faire des analyses un peu plus poussées :\n",
    ">\n",
    "> * **Gestion des fichiers volumineux :** Elle pose beaucoup de problèmes avec `Excel` (fichiers longs à charger, crash inattendu, etc.). Ce problème est moins fréquent avec `Python`, surtout grâce à ses librairies dédiées à des données volumineuses.\n",
    ">\n",
    ">\n",
    "> * **Reproductibilité des analyses :** Pour répliquer les analyses faites sur un certain tableau `Excel` sur un autre, on peut avoir recours à des macros ou un simple copier/coller. Ces deux options sont génératrices d'erreurs lorsque de nombreuses analyses sont effectuées. Avec `Python`, nous pouvons écrire un script que l'on peut automatiser et exécuter sur n'importe quel fichier pour garantir la reproductibilité de nos analyses.\n",
    ">\n",
    ">\n",
    "> * **Revue du code :** Les feuilles de calcul rendent la revue du code compliquée car il est caché derrière de nombreuses cellules, ce qui rend plus difficile la détection des erreurs d'inattention et des coquilles. Beaucoup de temps est finalement perdu à la vérification des résultats générés.\n",
    ">\n",
    ">\n",
    "> * **Difficultés rencontrées lors d'analyses statistiques :** Parmi elles, on peut citer la gestion parfois peu cohérente des valeurs manquantes, la modification systématique du format des dates, l'organisation des données différentes selon le type d'analyse souhaitée, etc.\n",
    "\n",
    "## Construction du module\n",
    "\n",
    "> Dans chacun des chapitres de ce module, nous apprendrons à faire des manipulations de données avec `Python`.\n",
    ">\n",
    "> La manipulation équivalente sous `Excel` vous sera donnée pour vous permettre de mieux comprendre les notions abordées. "
   ]
  }
 ],
 "metadata": {
  "hide_input": false,
  "kernelspec": {
   "display_name": "Python 3",
   "language": "python",
   "name": "python3"
  },
  "language_info": {
   "codemirror_mode": {
    "name": "ipython",
    "version": 3
   },
   "file_extension": ".py",
   "mimetype": "text/x-python",
   "name": "python",
   "nbconvert_exporter": "python",
   "pygments_lexer": "ipython3",
   "version": "3.8.3"
  },
  "latex_envs": {
   "LaTeX_envs_menu_present": true,
   "autoclose": false,
   "autocomplete": true,
   "bibliofile": "biblio.bib",
   "cite_by": "apalike",
   "current_citInitial": 1,
   "eqLabelWithNumbers": true,
   "eqNumInitial": 1,
   "hotkeys": {
    "equation": "Ctrl-E",
    "itemize": "Ctrl-I"
   },
   "labels_anchors": false,
   "latex_user_defs": false,
   "report_style_numbering": false,
   "user_envs_cfg": false
  },
  "nbTranslate": {
   "displayLangs": [],
   "hotkey": "alt-t",
   "langInMainMenu": true,
   "sourceLang": "fr",
   "targetLang": "en",
   "useGoogleTranslate": true
  }
 },
 "nbformat": 4,
 "nbformat_minor": 2
}
