{
 "cells": [
  {
   "cell_type": "markdown",
   "metadata": {
    "deletable": false,
    "dst-cell-id": "115c6422-f213-4ccd-8fb3-486d8203615a",
    "editable": false,
    "run_control": {
     "frozen": true
    }
   },
   "source": [
    "<img src=\"https://datascientest.fr/train/assets/logo_datascientest.png\" style=\"height:150px\">\n",
    "\n",
    "<hr style=\"border-width:2px;border-color:#75DFC1\">\n",
    "<center><H1>Introduction à Python</H1></center>\n",
    "<center><H2>Initiation à Pandas</H2></center>\n",
    "<hr style=\"border-width:2px;border-color:#75DFC1\">\n",
    "\n",
    "\n",
    "## Contexte et objectif\n",
    "\n",
    "> Le module `pandas` a été développé pour apporter à `Python` les outils nécessaires pour manipuler et analyser de gros volumes de données. \n",
    ">\n",
    "> `Pandas` introduit l'objet **`DataFrame`**, une structure de données qui s'apparente à un tableau qui propose une manipulation et exploration de données plus avancées que les listes ou dictionnaires.\n",
    ">\n",
    "> Les principales fonctionnalités de `pandas` sont :\n",
    "> - La **récupération** des données depuis des fichiers (CSV, tableaux Excel, serveur SQL, etc.) \n",
    "> - La **manipulation** de ces données (suppression/ajout, modification, analyse statistique, etc.). \n",
    ">\n",
    "> Ce notebook a pour objectif de :\n",
    ">- Comprendre le **format** d'un `DataFrame`.\n",
    ">- Créer un **premier `Dataframe`**.\n",
    ">- Réaliser une **première exploration** d'un dataset (*jeu de données* en français) grâce à la classe `DataFrame`.\n",
    "\n",
    "## Format d'un DataFrame\n",
    "\n",
    "> Un `DataFrame` se présente sous forme d'une **matrice** dont chaque ligne et chaque colonne porte un **indice**. En général, les colonnes sont indexées par leur nom. \n",
    ">  \n",
    "> Un `DataFrame` sert à stocker des **bases de données**. Les différentes **entrées** de la base (individus, animaux, objets, etc.) sont les différentes **lignes** et leurs **caractéristiques** sont les différentes **colonnes**:\n",
    ">\n",
    ">\n",
    "> |  |  Nom   |  Sexe |  Taille|Age|\n",
    "> |--|--------|-------|--------|---|\n",
    "> |**0** |  Robert|   M   |   174  |23 |\n",
    "> |**1** |  Mark  |   M   |   182  |40 |\n",
    "> |**2** |  Aline |   F   |   169  |56 |\n",
    ">\n",
    ">\n",
    ">\n",
    ">- Le `DataFrame` ci-dessus regroupe des informations sur **3 individus** : le tableau possède donc **3 lignes**. \n",
    ">- Pour chacun de ces individus, nous disposons de **4 variables** (le nom, le sexe, la taille et l'âge) : le tableau possède donc **4 colonnes**. \n",
    ">\n",
    ">\n",
    ">\n",
    ">\n",
    ">La colonne contenant **les numérotations des lignes** est appelée l'**index** et ne se gère pas de la même façon qu'une colonne du dataset. \n",
    ">\n",
    ">On peut laisser l'index par défault (numérotation des lignes), indexer avec une des colonnes du `DataFrame` ou indexer avec une liste que l'on définit nous-même.\n",
    "> \n",
    "> <span style=\"color:#09b038; text-decoration : underline\"> Exemple :</span>  Indexation par défaut (numérotation des lignes):\n",
    ">\n",
    ">|  |  Nom   |  Sexe |  Taille|Age|            \n",
    ">|--|--------|-------|--------|---|          \n",
    ">|**0** |  Robert|   M   |   174  |23 |           \n",
    ">|**1** |  Mark  |   M   |   182  |40 |           \n",
    ">|**2** |  Aline |   F   |   169  |56 | \n",
    ">\n",
    ">\n",
    "> <span style=\"color:#09b038; text-decoration : underline\"> Exemple :</span>  Indexation par la colonne `'Nom'`:\n",
    ">\n",
    ">|            | Sexe | Taille | Age |\n",
    ">|------------|------|--------|-----| \n",
    ">| **Robert** |  M   | 174    | 23  |\n",
    ">| **Mark**   |  M   | 182    | 40  |\n",
    ">| **Aline**  |  F   | 169    | 56  |\n",
    ">\n",
    ">\n",
    "> <span style=\"color:#09b038; text-decoration : underline\"> Exemple :</span>  Indexation par la liste `['personne_1', 'personne_2', 'personne_3']`:\n",
    ">\n",
    ">|                |  Nom   |  Sexe |  Taille|Age|            \n",
    ">|----------------|--------|-------|--------|---|          \n",
    ">| **personne_1** |  Robert|   M   |   174  |23 |           \n",
    ">| **personne_2** |  Mark  |   M   |   182  |40 |           \n",
    ">| **personne_3** |  Aline |   F   |   169  |56 | \n",
    ">\n",
    ">\n",
    ">\n",
    ">Nous détaillerons plus loin comment définir l'index lors de la création d'un `DataFrame`.\n",
    ">\n",
    "> La classe `DataFrame` présente plusieurs avantages par rapport aux listes et dictionnaires:\n",
    ">\n",
    ">- Visuellement, un `DataFrame` est beaucoup plus **lisible** grâce à une indexation des colonnes et des lignes plus explicite. \n",
    ">\n",
    ">\n",
    ">- La classe `DataFrame` contient davantage de méthodes pour la manipulation et le pré-traitement de bases de données, tandis que les listes et dictionnaires sont des objets très basiques.\n",
    "\n",
    "## Création d'un DataFrame : à partir d'un dictionnaire\n",
    "\n",
    "\n",
    ">Une méthode simple pour créer un `DataFrame` consiste à utiliser un dictionnaire. Grâce à cette technique, les colonnes peuvent être de types différents et leur noms sont déja définis lors de la création du `DataFrame`.\n",
    ">\n",
    ">\n",
    "> <span style=\"color:#09b038; text-decoration : underline\"> Exemple: </span>\n",
    ">\n",
    "> ```py\n",
    "> # Cette ligne permet d'importer le module pandas sous l'abréviation pd\n",
    "> import pandas as pd \n",
    "> \n",
    "> # Création d'un dictionnaire\n",
    "> dictionnaire = {'A': [1, 5, 9], \n",
    ">                 'B': [2, 6, 10],\n",
    ">                 'C': [3, 7, 11],\n",
    ">                 'D': [4, 8, 12]}\n",
    ">\n",
    "> # Instanciation d'un DataFrame \n",
    "> df = pd.DataFrame(data = dictionnaire,\n",
    ">                   index = ['i_1', 'i_2', 'i_3'])\n",
    "> ```\n",
    "> Ceci produit le même `DataFrame` que précédemment :\n",
    ">\n",
    "> |         | A | B  | C  | D  |\n",
    "> |---------|---|----|----|----|\n",
    "> | **i_1** | 1 | 2  | 3  | 4  |\n",
    "> | **i_2** | 5 | 6  | 7  | 8  |\n",
    "> | **i_3** | 9 | 10 | 11 | 12 |\n",
    ">\n",
    "\n",
    "\n",
    "Le directeur d'une épicerie recense les informations suivantes sur son stock de produits alimentaires : \n",
    "1. **100** pots de miel dont la date d'expiration est le **10/08/2025** et valant **2€** l'unité.\n",
    "2. **55** paquets de farine expirant le **25/09/2024** coûtant chacun **3€**.\n",
    "3. **1800** bouteilles de vin à **10€** l'unité expirant **le 15/10/2023**.\n",
    "\n",
    "\n",
    "* Importer le module `pandas` sous l'alias **`pd`**.\n",
    "\n",
    "\n",
    "* À partir d'un **dictionnaire**, créer et afficher le `DataFrame` **`df`** qui **pour chaque produit** doit contenir de manière organisée:\n",
    "    * Son nom.\n",
    "    * Sa date d'expiration.\n",
    "    * Sa quantité.\n",
    "    * Son prix à l'unité.\n",
    "\n",
    "Vous choisirez des noms de colonne pertinents et l'index sera celui par défaut (dans ce cas on ne spécifie pas de paramètre `index` lors de l'instanciation du `DataFrame`).\n",
    "\n",
    "* Afficher le `DataFrame` créé."
   ]
  },
  {
   "cell_type": "code",
   "execution_count": null,
   "metadata": {
    "dst-cell-id": "a7c39486-5408-4ec6-9f3c-02682cf15309"
   },
   "outputs": [],
   "source": [
    "# Insérez le code ici\n",
    "\n"
   ]
  },
  {
   "cell_type": "code",
   "execution_count": null,
   "metadata": {
    "deletable": false,
    "dst-cell-id": "78d523e8-a6a1-4bb3-8c23-a23bb80fa6a7",
    "editable": false,
    "function": "solution"
   },
   "outputs": [],
   "source": [
    "import pandas as pd\n",
    "\n",
    "dictionnaire = {\"Produit\"          : ['miel', 'farine', 'vin'],\n",
    "                \"Date d'expiration\": ['10/08/2025', '25/09/2024', '15/10/2023'],\n",
    "                \"Quantité\"         : [100, 55, 1800], \n",
    "                \"Prix à l'unité\"   : [2, 3, 10]}\n",
    "\n",
    "df = pd.DataFrame(dictionnaire)\n",
    "\n",
    "print(df)"
   ]
  },
  {
   "cell_type": "markdown",
   "metadata": {
    "deletable": false,
    "dst-cell-id": "4161df64-9cb6-4cc0-abea-a9cab794ae3f",
    "editable": false,
    "run_control": {
     "frozen": true
    }
   },
   "source": [
    "## Création d'un DataFrame : à partir d'un fichier de données\n",
    "\n",
    "> Le plus souvent, les `DataFrames` sont directement créés à partir de fichiers contenant les données d'intérêt. Cela peut être un fichier de format CSV, Excel, Texte etc.\n",
    ">\n",
    "> Le format le plus courant est le format CSV, qui signifie *Comma-Separated Values* et désigne un fichier de type tableur dont les valeurs sont séparées par des virgules. \n",
    ">\n",
    "> En voici un exemple :\n",
    "> ```\n",
    "> A, B, C, D\n",
    "> 1, 2, 3, 4\n",
    "> 5, 6, 7, 8\n",
    "> 9, 10, 11, 12\n",
    "> ```\n",
    "> Dans ce format:\n",
    "> * **La première ligne contient le nom des colonnes**, mais il arrive que le nom des colonnes **ne soit pas renseigné**.\n",
    "> * Chaque **ligne** correspond à une **entrée** de la base de données.\n",
    "> * Les valeurs sont séparées par un **caractère de séparation**. Dans cet exemple, il s'agit de `','` mais cela pourrait être un `';'`. \n",
    ">\n",
    ">\n",
    ">\n",
    "> Pour importer ces données dans un `DataFrame`, on utilise alors la fonction `read_csv` de `pandas` dont l'en-tête est la suivante :\n",
    ">\n",
    "> ```python\n",
    "> pd.read_csv(filepath_or_buffer , sep = ',', header = 0, index_col = 0 ... )\n",
    "> ```\n",
    ">\n",
    ">\n",
    ">Les **arguments essentiels** de la fonction **`pd.read_csv`** à connaître sont:\n",
    ">\n",
    "> * `filepath_or_buffer`: Le **chemin d'accès du fichier** .csv relativement à l'environnement d'exécution. Si le fichier se trouve dans le même dossier que l'environnement Python, il suffit de renseigner le nom du fichier. Ce chemin doit être renseigné sous forme de **chaîne de caractères**.\n",
    ">\n",
    ">\n",
    "> * `sep`: Le caractère utilisé dans le fichier .csv pour **séparer** les différentes colonnes. Cet argument doit être \n",
    "spécifié sous forme de **caractère**.\n",
    ">\n",
    ">\n",
    "> * `header`: Le **numéro de la ligne qui contient les noms des colonnes**. Si par exemple les noms de colonnes sont renseignés dans la première ligne du fichier `.csv`, alors il faut spécifier **`header = 0`**. Si les noms ne sont pas renseignés, on mettra `header = None`.\n",
    ">\n",
    ">\n",
    "> * `index_col` : Le **nom ou numéro de la colonne** contenant les **indices** de la base de données. Si les entrées de la base sont indexées par la première colonne, il faudra renseigner **`index_col = 0`**. Alternativement, si les entrées sont indexées\n",
    "par une colonne qui porte le nom `\"Id\"`, on pourra spécifier **`index_col = \"Id\"`**.\n",
    ">\n",
    "> Cette fonction retournera un objet de type `DataFrame` qui contient toutes les données du fichier.\n",
    "\n",
    "\n",
    "* Charger les données contenues dans le fichier **`transactions.csv`** dans un `DataFrame` nommé **`transactions`**:\n",
    "\n",
    "    - Le fichier se trouve dans le **même dossier** que l'environnement de ce notebook.\n",
    "    \n",
    "    - Les colonnes sont séparées par une **virgule**. \n",
    "    \n",
    "    - Les noms des colonnes sont renseignés sur la **première ligne** du fichier.\n",
    "    \n",
    "    - Les lignes de la base sont indexées par la colonne **\"transaction_id\"** qui est aussi la **première colonne**."
   ]
  },
  {
   "cell_type": "code",
   "execution_count": null,
   "metadata": {
    "dst-cell-id": "91277469-4868-4d41-b1ee-b02529b94b4b"
   },
   "outputs": [],
   "source": [
    "# Insérez votre code ici \n",
    "\n",
    "\n"
   ]
  },
  {
   "cell_type": "code",
   "execution_count": null,
   "metadata": {
    "deletable": false,
    "dst-cell-id": "cddecb27-bddc-4b98-bdb9-682b64685b77",
    "editable": false,
    "function": "solution"
   },
   "outputs": [],
   "source": [
    "# On peut directement spécifier le nom de la colonne contenant les indices\n",
    "\n",
    "transactions = pd.read_csv(filepath_or_buffer = 'transactions.csv',    # chemin du fichier\n",
    "                           sep = ',',                    # caractère séparant les valeurs\n",
    "                           header = 0,                   # numéro de la ligne contenant le nom des colonnes\n",
    "                           index_col = 'transaction_id') # nom de la colonne qui indexe les entrées\n",
    "\n",
    "\n",
    "# On peut aussi directement renseigner le numéro de la colonne qui indexe les entrées\n",
    "\n",
    "transactions = pd.read_csv(filepath_or_buffer = 'transactions.csv',\n",
    "                           sep = ',',\n",
    "                           header = 0,\n",
    "                           index_col = 0)  # numéro de la colonne qui indexe les entrées"
   ]
  },
  {
   "cell_type": "markdown",
   "metadata": {
    "deletable": false,
    "dst-cell-id": "7bdfb84e-1e3e-45f0-9be5-3df1238369f9",
    "editable": false,
    "run_control": {
     "frozen": true
    }
   },
   "source": [
    "> Nous avons chargé le fichier `transactions.csv` dans le `DataFrame` **`transactions`** qui regroupe un historique de transactions effectuées entre 2011 et 2014. Dans la section suivante, nous allons étudier ce dataset.\n",
    "\n",
    "\n",
    "##  Première exploration d'un dataset grâce à la classe `DataFrame`\n",
    "\n",
    "> La suite de ce notebook présente brièvement les principales **méthodes** de la classe `DataFrame` qui vont nous permettre de faire une rapide analyse de notre jeu de données, c'est-à-dire :\n",
    "> - Avoir un bref **aperçu des données** (méthode `head`, attributs `columns` et `shape`).\n",
    "> - **Sélectionner des valeurs** dans le `DataFrame` (méthodes `loc` et `iloc`).\n",
    "> - Réaliser une rapide **étude statistique** de nos données (méthodes `info`, `describe` et `value_counts`)\n",
    ">\n",
    ">\n",
    "><div class=\"alert alert-info\">\n",
    "<i class=\"fa fa-info-circle\"></i> &emsp; \n",
    " Pour rappel, pour appliquer une méthode à un objet en Python (comme un DataFrame par exemple), il faut accoler la méthode en suffixe de l'objet. <span style=\"color:#09b038; text-decoration : underline\"> Exemple :</span> mon_objet.ma_méthode()</div> \n",
    ">\n",
    "\n",
    "## Visualisation d'un `DataFrame`: méthode `head`, attributs `columns` et `shape`\n",
    "\n",
    "> - Il est possible d'avoir un aperçu d'un jeu de données en affichant **seulement les premières lignes** du `DataFrame`.  \n",
    ">\n",
    ">   Pour cela, il faut utiliser la méthode **`head()`** en lui spécifiant en argument **le nombre de lignes** que nous souhaitons afficher (par défaut 5).\n",
    ">\n",
    "> Il est aussi possible d'avoir un aperçu des **dernières lignes** en utilisant la méthode **`tail()`** qui s'applique de la même manière:\n",
    ">\n",
    "> ```py\n",
    "> # Affichage des 10 premières lignes d'un DataFrame mon_dataframe\n",
    "> mon_dataframe.head(10)\n",
    ">\n",
    "> ```\n",
    "\n",
    "- Afficher les 20 **premières** lignes du `DataFrame` `transactions`."
   ]
  },
  {
   "cell_type": "code",
   "execution_count": null,
   "metadata": {
    "dst-cell-id": "7f3a0917-b1c0-4355-9b97-aabca246d41a"
   },
   "outputs": [],
   "source": [
    "# Insérez votre code ici \n",
    "\n",
    "\n"
   ]
  },
  {
   "cell_type": "code",
   "execution_count": null,
   "metadata": {
    "deletable": false,
    "dst-cell-id": "0f2d5ad7-d440-4351-9dde-c82036c5b945",
    "editable": false,
    "function": "solution"
   },
   "outputs": [],
   "source": [
    "transactions.head(20)"
   ]
  },
  {
   "cell_type": "markdown",
   "metadata": {
    "deletable": false,
    "dst-cell-id": "b987b422-3c2c-4a3d-8b77-4c58c2e8fe89",
    "editable": false,
    "run_control": {
     "frozen": true
    }
   },
   "source": [
    "- Afficher les 10 **dernières** lignes du `DataFrame` `transactions`."
   ]
  },
  {
   "cell_type": "code",
   "execution_count": null,
   "metadata": {
    "dst-cell-id": "557771e9-edcd-42ea-8c95-f295c0f10a4c"
   },
   "outputs": [],
   "source": [
    "# Insérez votre code ici \n",
    "\n",
    "\n"
   ]
  },
  {
   "cell_type": "code",
   "execution_count": null,
   "metadata": {
    "deletable": false,
    "dst-cell-id": "30d931aa-73d9-437c-8508-7b535314de37",
    "editable": false,
    "function": "solution"
   },
   "outputs": [],
   "source": [
    "transactions.tail(10)"
   ]
  },
  {
   "cell_type": "markdown",
   "metadata": {
    "deletable": false,
    "dst-cell-id": "02249e1a-5d61-41ee-b9a4-383f69379d5b",
    "editable": false,
    "run_control": {
     "frozen": true
    }
   },
   "source": [
    "> - Il est possible de récupérer le **nom des colonnes** d'un `DataFrame` grâce à son attribut `columns`.\n",
    ">\n",
    "> ```py\n",
    "> # Création d'un DataFrame df à partir d'un dictionnaire\n",
    "> dictionnaire = {'A': [1, 5, 9], \n",
    ">                 'B': [2, 6, 10],\n",
    ">                 'C': [3, 7, 11],\n",
    ">                 'D': [4, 8, 12]}\n",
    ">\n",
    "> df = pd.DataFrame(data = dictionnaire, index = ['i_1', 'i_2', 'i_3'])\n",
    ">```\n",
    "> Ces instructions produisent le même `DataFrame` que précédemment :\n",
    ">\n",
    "> |         | A | B  | C  | D  |\n",
    "> |---------|---|----|----|----|\n",
    "> | **i_1** | 1 | 2  | 3  | 4  |\n",
    "> | **i_2** | 5 | 6  | 7  | 8  |\n",
    "> | **i_3** | 9 | 10 | 11 | 12 |\n",
    ">\n",
    ">```py\n",
    "> # Affichage des colonnes du DataFrame df\n",
    ">  print(df.columns)\n",
    "> >>> ['A', 'B', 'C', 'D']\n",
    ">```\n",
    "> \n",
    "> La liste des noms de colonnes est utile pour parcourir les colonnes d'un `DataFrame` à l'aide d'une boucle.\n",
    ">\n",
    ">\n",
    ">- Il peut être intéressant de savoir combien de transactions (lignes) et combien de caractéristiques (colonnes) le dataset contient. \n",
    ">\n",
    "> Pour cela nous allons utiliser l'attribut **`shape`** du `DataFrame` qui affiche les **dimensions** de notre `DataFrame` sous la forme d'un tuple (nombre de lignes, nombre de colonnes):\n",
    ">```py\n",
    "> # Affichage des dimensions de mon_dataframe\n",
    "> print(mon_dataframe.shape)\n",
    "> >>> (3,4)\n",
    ">```\n",
    ">\n",
    "- Afficher les **dimensions** du `DataFrame` `transactions` ainsi que **le nom de la 5ème colonne**. Rappelez-vous qu'en Python les indices commencent à 0."
   ]
  },
  {
   "cell_type": "code",
   "execution_count": null,
   "metadata": {
    "dst-cell-id": "dc0a40b9-5b75-4115-994d-c00b32685bd7"
   },
   "outputs": [],
   "source": [
    "# Insérez votre code ici \n",
    "\n",
    "\n"
   ]
  },
  {
   "cell_type": "code",
   "execution_count": null,
   "metadata": {
    "deletable": false,
    "dst-cell-id": "796a0b87-f455-4ff4-a63b-7523f1b18ca6",
    "editable": false,
    "function": "solution"
   },
   "outputs": [],
   "source": [
    "print(transactions.shape)\n",
    "print(transactions.columns[4])"
   ]
  },
  {
   "cell_type": "markdown",
   "metadata": {
    "deletable": false,
    "dst-cell-id": "59492829-58d8-47db-83e9-42daa66d49af",
    "editable": false,
    "run_control": {
     "frozen": true
    }
   },
   "source": [
    "## Sélection de colonnes d'un `DataFrame`\n",
    "\n",
    "> L'extraction des colonnes d'un `DataFrame` est presque identique à l'extraction de données d'un dictionnaire.\n",
    ">\n",
    "> * Pour extraire une **colonne** d'un `DataFrame`, il suffit de renseigner **entre crochets** le **nom** de la colonne à extraire. Pour extraire **plusieurs** colonnes, il faut mettre entre crochets **la liste des noms** des colonnes à extraire:\n",
    ">\n",
    "> ```py\n",
    "> # Affichage de la colonne 'cust_id' \n",
    "> print(transactions['cust_id'])\n",
    ">\n",
    "> # Extraction des colonnes 'cust_id' et 'Qty' de transactions\n",
    "> cust_id_qty = transactions[[\"cust_id\",\"Qty\"]] \n",
    ">\n",
    ">\n",
    "> ```\n",
    ">\n",
    "> `cust_id_qty` est un **nouveau** `DataFrame` ne contenant que les colonnes `'cust_id'` et `'Qty'`. L'affichage des 3 premières lignes de **`cust_id_qty`** donne :\n",
    ">\n",
    ">\n",
    ">|<br><br><br> transactions_id | cust_id | Qty |\n",
    ">|-----------------------------|---------|-----|         \n",
    ">| **80712190438**             | 270351  | -5  |            \n",
    ">| **29258453508**             | 270384  | -5  |            \n",
    ">| **51750724947**             | 273420  | -2  |   \n",
    ">\n",
    "\n",
    "Lorsque nous préparons un jeu de données pour l'exploiter plus tard, il est préférable de **séparer** les variables **catégorielles** des variables **quantitatives**:\n",
    "* Une variable *catégorielle* ou *qualitative* est une variable qui ne prend qu'un nombre **fini** de *modalités* ou *valeurs* différentes.\n",
    "* Une variable *quantitative* est une variable qui mesure une quantité pouvant potentiellement prendre une **infinité** de valeurs différentes.\n",
    "\n",
    "Cette distinction est faite parce que certaines opérations basiques comme le calcul d'une moyenne n'a de sens que pour les variables quantitatives.\n",
    "\n",
    "Les variables qualitatives du `DataFrame` `transactions` sont: `['cust_id', 'tran_date', 'prod_subcat_code', 'prod_cat_code', 'Store_type']`\n",
    "\n",
    "Les variables quantitatives de `transactions` sont: `['Qty', 'Rate', 'Tax', 'total_amt']`\n",
    "\n",
    "* Dans un `DataFrame` nommé **`cat_vars`**, stocker les variables **qualitatives** de `transactions`.\n",
    "\n",
    "\n",
    "* Dans un `DataFrame` nommé **`num_vars`**, stocker les variables **quantitatives** de `transactions`.\n",
    "\n",
    "\n",
    "* Afficher les 5 premières lignes de chaque `DataFrame`."
   ]
  },
  {
   "cell_type": "code",
   "execution_count": null,
   "metadata": {
    "dst-cell-id": "28e95b68-af69-4e53-80a7-ff608a2dce48"
   },
   "outputs": [],
   "source": [
    "# Insérez votre code ici\n",
    "\n",
    "\n"
   ]
  },
  {
   "cell_type": "code",
   "execution_count": null,
   "metadata": {
    "deletable": false,
    "dst-cell-id": "a921c892-8a8c-4f21-b802-01e2f397da36",
    "editable": false,
    "function": "solution"
   },
   "outputs": [],
   "source": [
    "# Extraction des variables catégorielles\n",
    "cat_var_names = ['cust_id', 'tran_date', 'prod_subcat_code', 'prod_cat_code', 'Store_type']\n",
    "cat_vars = transactions[cat_var_names]\n",
    "\n",
    "# Extraction des variables quantitatives\n",
    "num_var_names = ['Qty', 'Rate', 'Tax','total_amt']\n",
    "num_vars = transactions[num_var_names]\n",
    "\n",
    "# Affichage des 5 premières lignes de chaque DataFrame\n",
    "print(\"Variables catégorielles: \\n\")\n",
    "print(cat_vars.head(), \"\\n \\n\")\n",
    "\n",
    "print(\"Variables quantitatives: \\n\")\n",
    "print(num_vars.head())"
   ]
  },
  {
   "cell_type": "markdown",
   "metadata": {
    "deletable": false,
    "dst-cell-id": "602f9b72-a672-4e74-84f0-bdecca53017f",
    "editable": false,
    "run_control": {
     "frozen": true
    }
   },
   "source": [
    "## Sélection de lignes d'un `DataFrame`: méthodes `loc` et `iloc`\n",
    "\n",
    "> Pour extraire une ou plusieurs **lignes** d'un `DataFrame`, nous utilisons la méthode **`loc`**. `loc` est un type de méthode très spécial car les arguments sont renseignés **entre crochets** et non entre parenthèses. L'utilisation de cette méthode est très similaire à l'indexation des listes.\n",
    ">    \n",
    "> Afin de récupérer la ligne d'indice `i` d'un `DataFrame`, il suffit de renseigner `i` en argument de la méthode `loc`:\n",
    ">\n",
    "> ```py\n",
    "> # On récupère la ligne d'indice 80712190438 du DataFrame num_vars\n",
    "> print(num_vars.loc[80712190438])\n",
    "> ```\n",
    "> ```\n",
    "> >>>                 Rate    Tax  total_amt\n",
    "> >>> transaction_id                         \n",
    "> >>> 80712190438    -772.0  405.3    -4265.3\n",
    "> >>> 80712190438     772.0  405.3     4265.3\n",
    ">\n",
    "> ```\n",
    ">\n",
    "> Afin de récupérer **plusieurs lignes**, nous pouvons soit:\n",
    "> * Renseigner une **liste d'indices**.\n",
    "> * Utiliser le **slicing** en précisant les indices de début et de fin de la plage. Pour l'utiliser, il faut que les indices soient **uniques**, ce qui n'est pas le cas pour `transactions`.\n",
    ">\n",
    "> ```py\n",
    "> # On récupère les lignes d'indice 80712190438, 29258453508 et 51750724947 du DataFrame transactions\n",
    "> transactions.loc[[80712190438, 29258453508, 51750724947]]\n",
    ">\n",
    "> ```\n",
    ">\n",
    "> `loc` peut aussi prendre en argument une colonne ou **liste de colonnes** afin d'affiner l'extraction de données:\n",
    "> \n",
    "> ```python\n",
    "> # On extrait les colonnes 'Tax' et 'total_amt' des lignes d'indices 80712190438 et 29258453508\n",
    "> transactions.loc[[80712190438, 29258453508], ['Tax', 'total_amt']]  \n",
    "> ```\n",
    ">\n",
    "> Cette instruction produit le `DataFrame` suivant:\n",
    ">\n",
    "> | <br><br><br> transaction_id | Tax     | total_amt |\t\n",
    "> |-----------------------------|---------|-----------|\n",
    "> | **80712190438**             | 405.300 |\t-4265.300 |\n",
    "> | **80712190438**             | 405.300 |\t4265.300  |\n",
    "> | **29258453508**             | 785.925 |\t-8270.925 |\n",
    "> | **29258453508**             | 785.925 |\t8270.925  |\n",
    ">\n",
    "> La méthode **`iloc`** permet d'indexer un `DataFrame` **exactement comme une liste**, c'est-à-dire en ne renseignant que les indexes ordinaux des lignes et colonnes. C'est-à-dire que l'on a accès à la première ligne avec l'indice `0`, à la deuxième avec l'indice `1`, etc..\n",
    ">\n",
    "> Cette technique permet d'utiliser le slicing sans contraintes:\n",
    ">\n",
    "> ```python\n",
    "> # Extraction des 4 premières lignes et des 3 premières colonnes de transactions\n",
    "> transactions.iloc[0:4, 0:3]\n",
    "> ```\n",
    ">\n",
    "> Cette instruction produit le `DataFrame` suivant:\n",
    ">\n",
    "> | <br><br><br> transaction_id | cust_id     | tran_date  | prod_subcat_code |\n",
    "> |-----------------------------|-------------|------------|------------------|\n",
    "> | **80712190438**             | 270351      | 28-02-2014 | 1.0              |\n",
    "> | **29258453508**             | 270384      | 27-02-2014 | 5.0              |\n",
    "> | **51750724947**             | 273420      | 24-02-2014 | 6.0              |\n",
    "> | **93274880719**             | 271509      | 24-02-2014 | 11.0             |\n",
    ">\n",
    "> Dans le cas où l'indexation des lignes est celle par défaut (numérotation des lignes), les méthodes `loc` et `iloc` sont **équivalentes**. \n",
    "\n",
    "## Indexation Conditionelle d'un `DataFrame`\n",
    "\n",
    "> Nous pouvons utiliser **l'indexation conditionnelle** pour extraire les lignes d'un `Dataframe` qui vérifient une condition donnée. Sur `Excel`, ceci correspond à **filtrer** les valeurs d'une colonne.\n",
    ">\n",
    "> Dans l'illustration suivante, nous séléctionnons les lignes du `DataFrame` `df` **pour lesquelles la colonne `col 2` vaut 3**.\n",
    "> \n",
    "> <br>\n",
    ">\n",
    ">  <img src=\"https://assets-datascientest.s3-eu-west-1.amazonaws.com/train/indexation_cond_final.png\" style = 'height:200px'>\n",
    ">\n",
    "> <br>\n",
    ">\n",
    "> Il existe deux syntaxes pour indexer conditionellement un `DataFrame`:\n",
    ">        \n",
    "> ```py\n",
    ">\n",
    "> # On séléctionne les lignes du DataFrame df pour lesquelles la colonne 'col 2' vaut 3. \n",
    "> df[df['col 2'] == 3]\n",
    ">\n",
    "> df.loc[df['col 2'] == 3]\n",
    ">\n",
    "> ```\n",
    ">\n",
    "> Si nous souhaitons **assigner** une nouvelle valeur à ces entrées, il faut absolument utiliser la méthode **`loc`**. En effet, l'indexation avec la syntaxe `df[df['col 2'] == 3]` ne renvoie qu'une **copie** de ces entrées et ne permet pas d'accéder à l'emplacement mémoire où se trouvent les données.\n",
    "\n",
    "Le gérant des transactions répertoriées dans le `DataFrame` **`transactions`** souhaite avoir accès aux **identifiants** des clients ayant fait un achat **en ligne** (c'est-à-dire dans un `\"e-Shop\"`) ainsi que **la date de la transaction correspondante**. \n",
    "\n",
    "Nous avons les informations suivantes concernant les colonnes de `transactions`:\n",
    "\n",
    "| Nom de la colonne | Description                                          |\n",
    "|:------------------|:-----------------------------------------------------|\n",
    "| `'cust_id'`       | Les **identifiants** des clients                     |\n",
    "| `'Store_type'`    | Le **type de magasin** où s'est faite la transaction |\n",
    "| `'tran_date'`     | La **date** des transactions                         |\n",
    "\n",
    "<br>\n",
    "\n",
    "* Dans un `DataFrame` nommé **`transactions_eshop`**, stocker les transactions qui ont lieu dans un magasin de type `\"e-Shop\"`.\n",
    "\n",
    "\n",
    "* Dans un autre `DataFrame` nommé **`transactions_id_date`**, stocker les identifiants des clients et la date des transactions du `DataFrame` `transactions_eshop`.\n",
    "\n",
    "\n",
    "* Afficher les 5 premières lignes de `transactions_id_date`."
   ]
  },
  {
   "cell_type": "code",
   "execution_count": null,
   "metadata": {
    "dst-cell-id": "218d0b34-4cb9-4af3-b9d7-0827af2370c7"
   },
   "outputs": [],
   "source": [
    "# Insérez votre code ici \n",
    "\n",
    "\n"
   ]
  },
  {
   "cell_type": "code",
   "execution_count": null,
   "metadata": {
    "deletable": false,
    "dst-cell-id": "a063548e-868c-443c-9eaf-09dc0aa4b529",
    "editable": false,
    "function": "solution"
   },
   "outputs": [],
   "source": [
    "# Création de transactions_eshop par indexation conditionnelle\n",
    "transactions_eshop = transactions.loc[transactions['Store_type'] == 'e-Shop']\n",
    "\n",
    "# Extraction des colonnes cust_id' et 'tran_date'\n",
    "transactions_id_date = transactions_eshop[['cust_id', 'tran_date']]\n",
    "\n",
    "# Affichage des 5 premières lignes de transactions_id_date\n",
    "transactions_id_date.head()"
   ]
  },
  {
   "cell_type": "markdown",
   "metadata": {
    "deletable": false,
    "dst-cell-id": "27c65441-d93c-44b1-bdf2-12d09468fab8",
    "editable": false,
    "run_control": {
     "frozen": true
    }
   },
   "source": [
    "À présent, le gérant voudrait avoir accès aux transactions effectuées par le client d'identifiant `268819`.\n",
    "\n",
    "* Dans un `DataFrame` nommé **`transactions_client_268819`**, stocker toutes les transactions dont l'identifiant du client est `268819`.\n",
    "\n",
    "\n",
    "* Pour calculer la somme des valeurs d'une colonne d'un `DataFrame`, on peut utiliser la méthode `sum` après avoir séléctionné la colonne en question:\n",
    "\n",
    "> ```py\n",
    "> # Somme des valeurs de la colonne 'col 1' du DataFrame df\n",
    "> df['col 1'].sum()\n",
    "> \n",
    "> ```\n",
    "\n",
    "* À l'aide de la méthode `sum`, calculer et afficher le montant total des transactions du client 268819. Les montants des transactions sont stockés dans la colonne **`'total_amt'`**."
   ]
  },
  {
   "cell_type": "code",
   "execution_count": null,
   "metadata": {
    "dst-cell-id": "1029ef1f-c501-4767-a360-ee61869f93f1"
   },
   "outputs": [],
   "source": [
    "# Insérez votre code ici \n",
    "\n",
    "\n"
   ]
  },
  {
   "cell_type": "code",
   "execution_count": null,
   "metadata": {
    "deletable": false,
    "dst-cell-id": "6fe0ed08-87f9-416d-90a3-3ee6998b4521",
    "editable": false,
    "function": "solution"
   },
   "outputs": [],
   "source": [
    "# Extraction des transactions du client 268819\n",
    "transactions_client_268819 = transactions[transactions['cust_id'] == 268819]\n",
    "\n",
    "\n",
    "# Calcul du montant total des transactions\n",
    "total = transactions_client_268819['total_amt'].sum()\n",
    "\n",
    "print(total)"
   ]
  },
  {
   "cell_type": "markdown",
   "metadata": {
    "deletable": false,
    "dst-cell-id": "ecc30e67-023b-4508-8cb1-3d5037b43bbe",
    "editable": false,
    "run_control": {
     "frozen": true
    }
   },
   "source": [
    "## Rapide étude des données d'un `DataFrame`\n",
    "\n",
    "> Les méthodes **`info`** et **`describe`** d'un `DataFrame` retournent respectivement un résumé sur les variables du `DataFrame` ainsi qu'un résumé des statistiques descriptives (min, max, moyenne, quantiles,..) de ses variables **quantitatives**. C'est donc un outil très utile pour une première visualisation du type et de la distribution ce ces variables.\n",
    ">\n",
    "> \n",
    "> Pour analyser les variables **catégorielles**, il est préférable de commencer par utiliser la méthode **`value_counts`** qui renvoie le nombre d'occurrences pour chaque modalité de ces variables. La méthode `value_counts` ne peut pas s'utiliser directement sur un `DataFrame` mais que sur les colonnes du `DataFrame` qui sont des objets de la classe **`pd.Series`**.\n",
    ">\n",
    "\n",
    "* Utiliser les méthodes `info` et `describe` du `DataFrame` `transactions`. \n",
    "\n",
    "\n",
    "* Les variables quantitatives sont `'Qty'`, `'Rate'`, `'Tax'` et `total_amt`. Est-ce que par défaut les statistiques produites par la méthode `describe` ne sont calculées **que** sur les variables quantitatives?\n",
    "\n",
    "\n",
    "* Afficher le nombre d'occurences de chaque modalité que prend la variable `Store_type` à l'aide de la méthode `value_counts`."
   ]
  },
  {
   "cell_type": "code",
   "execution_count": null,
   "metadata": {
    "dst-cell-id": "97ea4201-d592-461e-b76b-94725d152221"
   },
   "outputs": [],
   "source": [
    "# Insérez votre code ici \n",
    "\n",
    "\n"
   ]
  },
  {
   "cell_type": "code",
   "execution_count": null,
   "metadata": {
    "deletable": false,
    "dst-cell-id": "e75e1327-bad3-4bd9-b831-111aac986c24",
    "editable": false,
    "function": "solution"
   },
   "outputs": [],
   "source": [
    "transactions.info()\n",
    "\n",
    "transactions.describe()\n",
    "\n",
    "transactions['Store_type'].value_counts()"
   ]
  },
  {
   "cell_type": "markdown",
   "metadata": {
    "deletable": false,
    "dst-cell-id": "17de538f-2a02-4d58-96bf-6ec4f8e7ee2c",
    "editable": false,
    "run_control": {
     "frozen": true
    }
   },
   "source": [
    "> La méthode `describe` a calculé des statistiques sur les variables `cust_id`, `prod_subcat_code` et `prod_cat_code` alors que celles-ci sont des variables **qualitatives**.\n",
    ">\n",
    ">\n",
    "> Bien sûr, ces statistiques n'ont **aucun sens**. La méthode `describe` a traité ces variables comme quantitatives car les modalités qu'elles prennent sont de type numérique. C'est pourquoi il faut **faire attention** aux résultats retournés par la méthode `describe` et toujours **prendre du recul** sur ce que représentent les variables contenues dans le `DataFrame`.\n",
    ">\n",
    ">\n",
    "\n",
    "Le gérant des transactions souhaite faire un rapport rapide sur les caractéristiques des transactions : il souhaite notamment connaître le **montant moyen dépensé** ainsi que la **quantité maximale** achetée.\n",
    "\n",
    "- Quel est le montant total moyen dépensé ? On s'intéressera à la colonne `'total_amt'` de **`transactions`**.\n",
    "\n",
    "\n",
    "- Quelle est la quantité maximale achetée? On s'intéressera à la colonne `'Qty'` de **transactions**."
   ]
  },
  {
   "cell_type": "code",
   "execution_count": null,
   "metadata": {
    "dst-cell-id": "01b20fa8-26da-40b1-bc52-ee07fb6e44a7"
   },
   "outputs": [],
   "source": [
    "# Insérez votre code ici \n",
    "\n",
    "\n"
   ]
  },
  {
   "cell_type": "code",
   "execution_count": null,
   "metadata": {
    "deletable": false,
    "dst-cell-id": "68220c5f-e857-4c38-b0a9-b0d7f8fc628e",
    "editable": false,
    "function": "solution"
   },
   "outputs": [],
   "source": [
    "# On applique la méthode describe à transactions\n",
    "transactions.describe()\n",
    "\n",
    "# Le montant moyen de la transaction est de 2109€.\n",
    "# La quantité maximale achetée est 5. "
   ]
  },
  {
   "cell_type": "markdown",
   "metadata": {
    "deletable": false,
    "dst-cell-id": "8080a68f-191a-4bc7-92ac-86f316505d32",
    "editable": false,
    "run_control": {
     "frozen": true
    }
   },
   "source": [
    "## Conclusion et récap\n",
    "\n",
    "> La classe `DataFrame` du module `pandas` sera votre structure de données de choix pour explorer, analyser et traiter des bases de données.\n",
    ">\n",
    "> Dans cette brève introduction, vous avez appris à:\n",
    ">\n",
    "> * Créer un `DataFrame` à partir d'un dictionnaire à l'aide du constructeur **`pd.DataFrame`**.\n",
    ">\n",
    ">\n",
    "> * Créer un `DataFrame` à partir d'un fichier .csv à l'aide de la fonction **`pd.read_csv`**.\n",
    ">\n",
    ">\n",
    "> * Visualiser les premières et dernières lignes d'un `DataFrame` à l'aide des méthodes **`head`** et **`tail`**.\n",
    ">\n",
    ">\n",
    "> * Sélectionner une ou plusieurs colonnes d'un `DataFrame` en renseignant leur noms entre crochets comme pour un dictionnaire.\n",
    ">\n",
    ">\n",
    "> * Sélectionner une ou plusieurs lignes d'un `DataFrame` en renseignant leur indice à l'aide des méthodes **`loc`** et **`iloc`**.\n",
    ">\n",
    ">\n",
    "> * Sélectionner les lignes d'un `DataFrame` qui vérifient une condition spécifique à l'aide de l'**indexation conditionelle**.\n",
    ">\n",
    ">\n",
    "> * Effectuer une rapide étude statistique des variables quantitatives d'un `DataFrame` à l'aide de la méthode **`describe`**.\n",
    ">\n",
    "> Le dataset `transactions` que nous avons utilisé est très propre. Les variables sont proprement renseignées et ne contiennent pas de valeurs manquantes. En pratique, ceci est **rarement** le cas. C'est pourquoi en pratique il faudra utiliser des outils spécifiques au nettoyage de données à l'aide de `pandas`."
   ]
  }
 ],
 "metadata": {
  "hide_input": false,
  "kernelspec": {
   "display_name": "Python 3",
   "language": "python",
   "name": "python3"
  },
  "language_info": {
   "codemirror_mode": {
    "name": "ipython",
    "version": 3
   },
   "file_extension": ".py",
   "mimetype": "text/x-python",
   "name": "python",
   "nbconvert_exporter": "python",
   "pygments_lexer": "ipython3",
   "version": "3.8.3"
  },
  "latex_envs": {
   "LaTeX_envs_menu_present": true,
   "autoclose": false,
   "autocomplete": true,
   "bibliofile": "biblio.bib",
   "cite_by": "apalike",
   "current_citInitial": 1,
   "eqLabelWithNumbers": true,
   "eqNumInitial": 1,
   "hotkeys": {
    "equation": "Ctrl-E",
    "itemize": "Ctrl-I"
   },
   "labels_anchors": false,
   "latex_user_defs": false,
   "report_style_numbering": false,
   "user_envs_cfg": false
  },
  "nbTranslate": {
   "displayLangs": [],
   "hotkey": "alt-t",
   "langInMainMenu": true,
   "sourceLang": "fr",
   "targetLang": "en",
   "useGoogleTranslate": true
  },
  "owner": "DataScientest"
 },
 "nbformat": 4,
 "nbformat_minor": 2
}
