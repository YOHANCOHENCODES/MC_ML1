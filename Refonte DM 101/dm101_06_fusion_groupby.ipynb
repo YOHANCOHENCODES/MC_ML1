{
 "cells": [
  {
   "cell_type": "markdown",
   "metadata": {
    "deletable": false,
    "editable": false,
    "run_control": {
     "frozen": true
    }
   },
   "source": [
    "<img src=\"https://datascientest.fr/train/assets/logo_datascientest.png\" style=\"height:150px\">\n",
    "\n",
    "<hr style=\"border-width:2px;border-color:#75DFC1\">\n",
    "<center><H1>Introdcution à Python pour la Datascience</H1></center>\n",
    "<center><H2>Fusion et regroupements</H2></center>\n",
    "<hr style=\"border-width:2px;border-color:#75DFC1\">\n",
    "\n",
    "## Contexte\n",
    "> Une des fonctionnalités que vous allez être amener à utiliser et celle de la fusion de plusieurs `DataFrames`.\n",
    "> \n",
    "> En effet, dans le cas suivant, nous disposons de deux bases de données : \n",
    ">> * **transactions** : Retrace l'historique des transactions effectuées sur un site e-commerce\n",
    ">>\n",
    ">>\n",
    ">> * **customer** : Informations relatives aux clients de ce site.\n",
    ">\n",
    "> Il peut alors être intérréssant de pouvoir joindre ces deux fichiers afin de pouvoir faire une ananlyse complète de ces données.\n",
    ">\n",
    "### Fusion de `Dataframes` : Fonction `concat` et méthode `merge` \n",
    ">\n",
    "> La fonction `concat` du module `pandas`  permet de concaténer plusieurs `DataFrames`, c'est-à-dire les juxtaposer horizontalement ou verticalement.\n",
    ">\n",
    ">\n",
    "> L'en-tête de cette fonction est la suivante :\n",
    ">\n",
    "> `pandas.concat(objs, axis..)`\n",
    ">\n",
    "> - Le paramètre `objs` contient la liste des `DataFrames` à concaténer.\n",
    "> - Le paramètre `axis` précise si l'on doit concaténer verticalement (`axis = 0`) ou horizontalement (`axis = 1`).\n",
    ">\n",
    ">\n",
    "> <br/>\n",
    "> <img src= 'https://assets-datascientest.s3-eu-west-1.amazonaws.com/train/pd_concat.png', style = \"height:400px\">\n",
    "> <br/>\n",
    ">\n",
    "> Lorsque le nombre de lignes ou de colonnes des `DataFrames` ne concordent pas, la fonction `concat` remplit les cases vides par des valeurs manquantes :`NaN`, comme dans l'illustration ci-dessous.\n",
    ">\n",
    "> <br/>\n",
    "> <img src= 'https://assets-datascientest.s3-eu-west-1.amazonaws.com/train/pd_concat_none.png', style = \"height:400px\">\n",
    "> <br/>\n",
    ">\n",
    "\n",
    "- Lire le fichier **transactions** dans un `DataFrame` nommé **`transactions`**\n",
    "\n",
    "\n",
    "- Séparer les variables du `DataFrame` **`transactions`** en deux avec la moitié des variables dans un `DataFrame` nommé **`part_1`** et la deuxième moitié dans un `DataFrame` nommé **`part_2`**. \n",
    "\n",
    "\n",
    "- Reconstituer **`transactions`** dans un `DataFrame` nommé **`union`** en concaténant **`part_1`** et **`part_2`**.\n",
    "\n",
    "\n",
    "- Que se passe-t-il si on concatène `part_1` et `part_2` en renseignant l'argument **`axis = 0`**?\n"
   ]
  },
  {
   "cell_type": "code",
   "execution_count": null,
   "metadata": {},
   "outputs": [],
   "source": [
    "## Insérez votre code ici\n",
    "\n"
   ]
  },
  {
   "cell_type": "code",
   "execution_count": null,
   "metadata": {
    "deletable": false,
    "editable": false
   },
   "outputs": [],
   "source": [
    "import pandas as pd\n",
    "\n",
    "transactions = pd.read_csv('transactions.csv')\n",
    "\n",
    "# Séparation du DataFrame transactions\n",
    "part_1 = transactions[transactions.columns[:4]]\n",
    "part_2 = transactions[transactions.columns[4:]]\n",
    "\n",
    "# Reconstitution du DataFrame transactions par concaténation\n",
    "union = pd.concat([part_1,part_2], axis = 1)\n",
    "\n",
    "# Si on concatène en renseignant \"axis = 0\", on obtient un DataFrame dont la moitié des valeurs sont des valeurs manquantes\n",
    "#\n",
    "# Ceci est dû au fait que l'argument \"axis = 0\" force la fonction pd.concat à créer de nouvelles LIGNES\n",
    "# dans part_1 mais elle n'arrive pas à les remplir correctement car part_1 et part_2 n'ont aucune colonne en commun.\n",
    "\n",
    "union.head()"
   ]
  },
  {
   "cell_type": "markdown",
   "metadata": {
    "deletable": false,
    "editable": false,
    "run_control": {
     "frozen": true
    }
   },
   "source": [
    "### Fusion de `DataFrames` avec la méthode `merge`\n",
    "\n",
    "> Deux `DataFrames` peuvent être fusionnés s'ils ont une colonne en commun. Ceci se fait grâce à la méthode `merge` de la classe `DataFrame` dont l'en-tête est la suivante: \n",
    ">\n",
    "> ```py\n",
    "> merge(right, on, how, ...)\n",
    "> ```\n",
    ">\n",
    "> - Le paramètre **`right`** est le `DataFrame` à fusionner avec celui qui appelle la méthode.\n",
    ">\n",
    ">\n",
    "> - Le paramètre **`on`** est le nom des colonnes des `DataFrame` qui serviront de référence pour la fusion. Elles doivent être **communes** aux deux `DataFrames`.\n",
    ">\n",
    ">\n",
    "> - Le paramètre **`how`** permet de choisir le **type de jointure** à effectuer pour la fusion des `DataFrames` :\n",
    ">\n",
    ">> - **`'inner'`**: La jointure interne retourne les lignes dont les valeurs dans les colonnes communes sont **présentes dans les deux `DataFrames`**. Ce type de jointure est souvent **déconseillé** car il peut amener à la perte de beaucoup d'entrées. En revanche, la jointure interne ne produit **aucune valeurs manquantes*. \n",
    ">>\n",
    ">> Le résultat de la jointure interne `Personnes.merge(right = Vehicule, on = 'Voiture', how = 'inner')` sera:\n",
    ">\n",
    "> <br>\n",
    "> <img src= 'https://assets-datascientest.s3-eu-west-1.amazonaws.com/train/pd_join_inner.png' style=\"height:700px\">\n",
    "> <br>\n",
    "> <br>\n",
    ">\n",
    ">> - **`'outer'`**: La jointure externe fusionne la **totalité** des deux `DataFrames`. Aucune ligne ne sera supprimée. Cette méthode peut générer énormément de valeurs manquantes (NANs).\n",
    ">>\n",
    ">> Le résultat de la jointure externe `Personnes.merge(right = Vehicule, on = 'Voiture', how = 'outer')` sera:\n",
    ">\n",
    "> <img src= 'https://assets-datascientest.s3-eu-west-1.amazonaws.com/train/pd_join_outer.png' style=\"height:700px\">\n",
    "> <br>\n",
    ">\n",
    ">>  - **`'left'`**: La jointure à gauche retourne **toutes les lignes** du `DataFrame` de **gauche**, et les complète avec les lignes du second `DataFrame` qui coïncident selon les valeurs de la colonne commune. C'est la **valeur par défaut du paramètre `how`**.\n",
    ">>\n",
    ">> Le résultat de la jointure à gauche `Personnes.merge(right = Vehicule, on = 'Voiture', how = 'left')` sera:\n",
    ">\n",
    "> <img src= 'https://assets-datascientest.s3-eu-west-1.amazonaws.com/train/pd_join_left.png' style=\"height:700px\">\n",
    ">\n",
    ">> - **`'right'`** La jointure à droite retourne **toutes les lignes** du `DataFrame` de **droite**, et les complète avec les lignes du `DataFrame` de gauche qui coïncident selon les indices de la colonne commune.\n",
    ">>\n",
    ">> Le résultat de la jointure à droite `Personnes.merge(right = Vehicule, on = 'Voiture', how = 'right')` sera:\n",
    ">\n",
    "> <img src= 'https://assets-datascientest.s3-eu-west-1.amazonaws.com/train/pd_join_right.png' style=\"height:700px\">\n",
    ">\n",
    "\n",
    "\n",
    "Le `DataFrame` **`customer`** contient des informations sur des clients de la colonne `'cust_id'` de `transactions`. \n",
    "\n",
    "La colonne **`'customer_Id'`** du `DataFrame` `customer` permettra de faire la jointure entre `transactions` et `customer`. Cela permettra d'enrichir le jeu de données **`transactions`** avec des informations supplémentaires.\n",
    "\n",
    "* Lire le fichier 'customer.csv' dans un `DataFrame` portant le même nom.\n",
    "\n",
    "\n",
    "\n",
    "* À l'aide de la méthode `rename` et d'un dictionnaire, renommer la colonne **`'customer_Id'`** du `DataFrame` **`customer`** par **`'cust_id'`**.\n",
    "\n",
    "\n",
    "* En utilisant la méthode `merge`,  effectuer la **jointure à gauche** entre les `DataFrames` **`transactions`** et **`customer`** sur la variable `'cust_id'`. Nommer le `DataFrame` créé **`fusion`**.\n",
    "\n",
    "\n",
    "* Afficher les premières lignes de **`fusion`**. Quelles sont les nouvelles colonnes?"
   ]
  },
  {
   "cell_type": "code",
   "execution_count": null,
   "metadata": {},
   "outputs": [],
   "source": [
    "## Insérez votre code ici\n",
    "\n"
   ]
  },
  {
   "cell_type": "code",
   "execution_count": null,
   "metadata": {
    "deletable": false,
    "editable": false
   },
   "outputs": [],
   "source": [
    "customer = pd.read_csv('customer.csv')\n",
    "\n",
    "# On renomme la colonne 'customer_Id' en 'cust_id' pour faire la fusion\n",
    "customer = customer.rename(columns = {'customer_Id':'cust_id'})\n",
    "\n",
    "# Jointure à gauche entre transactions et customer sur la colonne 'cust_id'\n",
    "fusion = transactions.merge(right = customer, on = 'cust_id', how = 'left')\n",
    "\n",
    "# Les colonnes DOB, Gender, city_code ont bien été ajoutées à transactions\n",
    "fusion.head()"
   ]
  },
  {
   "cell_type": "markdown",
   "metadata": {
    "deletable": false,
    "editable": false,
    "run_control": {
     "frozen": true
    }
   },
   "source": [
    "> La fusion de ces deux `DataFrame` semble avoir bien marché. Le seul point négatif que l'on peut relever est celui de l'index. \n",
    ">\n",
    "> En effet, l'index par défaut est la numérotation de chaque ligne. Pour remédier à cet effet, nous pouvons utiliser la méthode **`set_index`** qui va vous permettre de choisir l'index de votre jeu de données. \n",
    "> \n",
    "> **La syntaxe est la suivante :**\n",
    "> ```python\n",
    "> fusion = fusion.set_index('Nom')\n",
    ">```\n",
    "> Le **'Nom'** qui est appelé dans cette méthode peut correspondre au nom d'une des colonnes de votre `DataFrame` mais il peut également faire référence à un index que vous avez vous-même défini. Il faudra bien évidemment faire attention à ce que cet index soit de la même taille que le nombre de lignes de votre `DataFrame`.\n",
    ">\n",
    "* Changer l'index du `DataFrame` **fusion** avec la variable **'transaction_id'**."
   ]
  },
  {
   "cell_type": "code",
   "execution_count": null,
   "metadata": {},
   "outputs": [],
   "source": [
    "## Insérez votre code ici\n",
    "\n"
   ]
  },
  {
   "cell_type": "code",
   "execution_count": null,
   "metadata": {
    "deletable": false,
    "editable": false
   },
   "outputs": [],
   "source": [
    "fusion = fusion.set_index('transaction_id')\n",
    "\n",
    "fusion"
   ]
  },
  {
   "cell_type": "markdown",
   "metadata": {
    "deletable": false,
    "editable": false,
    "run_control": {
     "frozen": true
    }
   },
   "source": [
    "> Pour pouvoir faire des analyses un peu plus ciblées, il est important de pouvoir **'grouper'** un jeu de données selon une ou plusieurs variables afin d'effectuer des opérations sur les observations de chaque groupe.\n",
    ">\n",
    ">\n",
    "# Grouper les éléments d'un `DataFrame`: méthodes `groupby`, `agg` et `crosstab`.\n",
    "\n",
    "> La méthode **`groupby`** permet de **grouper les lignes** d'un `DataFrame` qui partagent une valeur commune sur une colonne.\n",
    ">\n",
    "> **Cette méthode ne renvoie pas un `DataFrame`.** L'objet renvoyé par la méthode `groupby` est un objet de la classe **`DataFrameGroupBy`**.\n",
    ">\n",
    ">\n",
    "> Cette classe permet de réaliser des opérations comme le calcul de statistiques (somme, moyenne, maximum, etc.) pour chaque modalité de la colonne sur laquelle on groupe les lignes. \n",
    ">\n",
    "> Toutes les méthodes statistiques usuelles (`count`, `mean`, `max`, etc.) peuvent s'utiliser en suffixe de la méthode `groupby`. Celles-ci s'effectueront uniquement sur les colonnes de type compatibles.\n",
    ">\n",
    "> Il est possible de spécifier pour chaque colonne quelle fonction doit être utilisée à l'étape ***Application*** d'une opération `groupby`. Pour cela, on utilise la méthode **`agg`** de la classe `DataFrameGroupBy` en lui renseignant un **dictionnaire** où chaque **clé** est le **nom** d'une colonne et la **valeur** est la **fonction** à appliquer.\n",
    ">\n",
    ">\n",
    "> <span style=\"color:#09b038; text-decoration : underline\"> Exemple :</span><br> \n",
    "> \n",
    "> Revenons au `DataFrame` `transactions`:\n",
    ">\n",
    "> |transaction_id|cust_id|tran_date |prod_subcat_code|prod_cat_code|Qty|rate |Tax    |total_amt|store_type|\n",
    "> |-------------:|------:|:---------|---------------:|------------:|--:|----:|------:|--------:|:---------|\n",
    "> |80712190438   |270351 |28-02-2014|1               |1            |-5 |-772 |405.3  |-4265.3  |e-Shop    |\n",
    "> |29258453508   |270384 |27-02-2014|5               |3            |-5 |-1497|785.925|-8270.92 |e-Shop    |\n",
    "> |51750724947   |273420 |24-02-2014|6               |5            |-2 |-791 |166.11 |-1748.11 |TeleShop  |\n",
    "> |93274880719   |271509 |24-02-2014|11              |6            |-3 |-1363|429.345|-4518.35 |e-Shop    |\n",
    "> |51750724947   |273420 |23-02-2014|6               |5            |-2 |-791 |166.11 |-1748.11 |TeleShop  |\n",
    ">\n",
    ">\n",
    "> Nous voulons, **pour chaque client** (`cust_id`), déterminer pour la colonne `total_amt` le **minimum**, **maximum** ainsi que le **montant total dépensé**.\n",
    ">\n",
    "> Nous pouvons effectuer ces calculs à l'aide d'une **opération `groupby`**:\n",
    ">\n",
    "> ```python\n",
    "> transactions.groupby('cust_id').agg({'total_amt' : ['min','max','sum']})\n",
    "> ```\n",
    ">\n",
    "> Ce qui produit le `DataFrame` suivant:\n",
    "> \n",
    "> | <br><br><br><br><br> cust_id | total_amt <br><br> min | <br><br> max | <br><br> sum |\n",
    "> |-----------------------------:|:-----------------------|:-------------|:-------------|\n",
    "> | **266783**                   | -5838.82               | 5838.82      | 3113.89      |                          |\n",
    "> | **266784**                   | 442                    | 4279.66      | 5694.07      |                              |\n",
    "> | **266785**                   | -6828.9                | 6911.77      | 21613.8      |                              |\n",
    "> | **266788**                   | 1312.74                | 1927.12      | 6092.9 7     |                              |\n",
    "> | **266794**                   | -135.915               | 4610.06      | 27981.9      |                              |\n",
    "> | **...**                   | ...              | ...      | ...      |                |\n",
    "> |**275257**\t|12574.900|\t7657.650|\t-1150.305|\n",
    "\n",
    "\n",
    "\n",
    "\n",
    "* À l'aide d'une opération `groupby`, déterminer pour chaque client : \n",
    "    * La taxe maximale.\n",
    "    * La taxe minimale \n",
    "    * Le total des taxes.\n",
    "    * La quantité totale achetée"
   ]
  },
  {
   "cell_type": "code",
   "execution_count": null,
   "metadata": {},
   "outputs": [],
   "source": [
    "## Insérez votre code ici\n",
    "\n"
   ]
  },
  {
   "cell_type": "code",
   "execution_count": null,
   "metadata": {
    "deletable": false,
    "editable": false
   },
   "outputs": [],
   "source": [
    "transactions.groupby('cust_id').agg({'Tax' : ['min','max','sum'] , 'Qty' : 'sum'})"
   ]
  },
  {
   "cell_type": "markdown",
   "metadata": {
    "deletable": false,
    "editable": false,
    "run_control": {
     "frozen": true
    }
   },
   "source": [
    "> Une autre manière de grouper et résumer des données est d'utiliser la fonction `crosstab` de `pandas`qui, comme son nom l'indique, sert à croiser les données des colonnes d'un `DataFrame`.\n",
    ">\n",
    "> Elle permet de visualiser la **fréquence** d'apparition de **paires de modalités** dans un `DataFrame`.\n",
    ">\n",
    "> <span style=\"color:#09b038; text-decoration : underline\"> Exemple :</span><br> \n",
    ">\n",
    "> Dans le `DataFrame` `transactions`, nous voulons savoir quelles sont les couples de catégorie et sous-catégories les plus fréquents (colonnes `prod_cat_code` et `prod_subcat_code`)\n",
    ">\n",
    "> La fonction `crosstab` de pandas nous donne ce résultat en s'utilisant ainsi:\n",
    "> \n",
    "> ```python\n",
    "> colonne1 = transactions['prod_cat_code']\n",
    "> colonne2 = transactions['prod_subcat_code']\n",
    "> pd.crosstab(colonne1, colonne2)\n",
    "> ```\n",
    "> \n",
    "> Cette instruction produit le `DataFrame` suivant:\n",
    ">\n",
    "> |<br><br> prod_subcat_code <br><br> prod_cat_code| -1 | 1  | 2  | 3  |  4 | 5 | 6 |  7 | 8 | 9 | 10 | 11 | 12 |\n",
    "> |-----------------------------------------------:|---:|--: |-- :|---:|---:|--:|--:|---:|--:|--:|---:|---:|---:|\n",
    "> | **1**                                          | 4  |1001|0   |981 |958 |0  |0  |0   |0  |0  |0   |0   |0   |\n",
    "> | **2**                                          | 4  |934 |0   |1040|1005|0  |0  |0   |0  |0  |0   |0   |0   |\n",
    "> | **3**                                          | 11 |0   |0   |0   |1020|950|0  |0   |966|976|945 |0   |0   |\n",
    "> | **4**                                          | 5  |993 |0   |0   |988 |0  |0  |0   |0  |0  |0   |0   |0   |\n",
    "> | **5**                                          | 3  |0   |0   |1023|0   |0  |984|1037|0  |0  |998 |1029|962 |\n",
    "> | **6**                                          | 5  |0   |1002|0   |0   |0  |0  |0   |0  |0  |1025|1013|1057|\n",
    "> \n",
    "> La case `(i, j)` du `DataFrame` résultat contient le nombre d'élements du `DataFrame` ayant la modalité `i` pour la colonne 1 et la modalité `j` pour la colonne 2.\n",
    ">\n",
    "> Ainsi, il est facile de déterminer par exemple que **les sous-catégories dominantes** de la catégorie **`4`** sont `1` et `4`.\n",
    ">\n",
    "> \n",
    "> L'argument **`normalize`** de `crosstab` permet d'afficher les fréquences sous forme de pourcentage.\n",
    ">\n",
    "> Ainsi, l'argument **`normalize = 1`** normalise le tableau sur l'axis 1 c'est-à-dire sur chaque **colonne**, respectivement sur chaque ligne sur l'argument vaut 0 : \n",
    ">\n",
    "> ```python\n",
    "> colonne1 = transactions['prod_cat_code']\n",
    "> colonne2 = transactions['prod_subcat_code']\n",
    "> pd.crosstab(colonne1, colonne2, normalize = 1)\n",
    "> \n",
    "> ```\n",
    "\n",
    "* Afficher un crosstab qui compte le nombre de produits vendus dans chaque catégorie en fonction du site de vente.\n",
    "\n",
    "\n",
    "\n",
    "* Répéter l'opération en normalisant par colonne puis par ligne."
   ]
  },
  {
   "cell_type": "code",
   "execution_count": null,
   "metadata": {},
   "outputs": [],
   "source": [
    "## Insérez votre code ici\n",
    "\n"
   ]
  },
  {
   "cell_type": "code",
   "execution_count": null,
   "metadata": {
    "deletable": false,
    "editable": false
   },
   "outputs": [],
   "source": [
    "# Crosstab\n",
    "\n",
    "colonne1 = transactions['Store_type']\n",
    "colonne2 = transactions['prod_cat_code']\n",
    "pd.crosstab(colonne1, colonne2)\n",
    "\n",
    "\n",
    "# Par colonne\n",
    "\n",
    "pd.crosstab(colonne1, colonne2, normalize=1)\n",
    "\n",
    "\n",
    "# Par ligne\n",
    "\n",
    "#pd.crosstab(colonne1, colonne2, normalize=0)"
   ]
  },
  {
   "cell_type": "markdown",
   "metadata": {
    "deletable": false,
    "editable": false,
    "run_control": {
     "frozen": true
    }
   },
   "source": [
    "## Conclusion & récapitulatif\n",
    ">Dans ce notebook vous avez appris à:\n",
    ">\n",
    ">Fusionner des DataFrames grâce à la fonction concat et la méthode merge : \n",
    ">\n",
    "> **Concaténation verticale :**\n",
    "> \n",
    ">```py\n",
    ">   pd.concat([df1, df2], axis = 0)\n",
    ">```\n",
    ">\n",
    "> **Concaténation horizontal :**\n",
    ">```py\n",
    ">   pd.concat([df1, df2], axis = 1)\n",
    ">\n",
    ">```\n",
    "> **Différents types de jointures :**\n",
    ">\n",
    ">```py\n",
    ">   df1.merge(right = df2, on = 'column', how = 'inner')\n",
    ">\n",
    ">   df1.merge(right = df2, on = 'column', how = 'outer')\n",
    ">\n",
    ">   df1.merge(right = df2, on = 'column', how = 'left')\n",
    ">\n",
    ">   df1.merge(right = df2, on = 'column', how = 'right')\n",
    "> \n",
    ">```\n",
    ">\n",
    "> **Trier et ordonner les valeurs d'un DataFrame grâce aux méthodes sort_values et sort_index**\n",
    ">\n",
    "> **Effectuer une opération groupby complexe grâce aux fonctions lambda et aux méthodes groupby et agg :**\n",
    ">\n",
    ">```py\n",
    ">   df.groupby('column_to_group_by').agg({'column1' : ['min', 'max'],'column2 : ['mean']})\n",
    ">```"
   ]
  }
 ],
 "metadata": {
  "kernelspec": {
   "display_name": "Python 3",
   "language": "python",
   "name": "python3"
  },
  "language_info": {
   "codemirror_mode": {
    "name": "ipython",
    "version": 3
   },
   "file_extension": ".py",
   "mimetype": "text/x-python",
   "name": "python",
   "nbconvert_exporter": "python",
   "pygments_lexer": "ipython3",
   "version": "3.8.3"
  }
 },
 "nbformat": 4,
 "nbformat_minor": 4
}
