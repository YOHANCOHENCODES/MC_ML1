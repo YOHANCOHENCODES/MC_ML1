{
 "cells": [
  {
   "cell_type": "markdown",
   "metadata": {
    "deletable": false,
    "dst-cell-id": "f1f0dec5-11b9-406b-a499-5c2c96881571",
    "editable": false,
    "run_control": {
     "frozen": true
    }
   },
   "source": [
    "<img src=\"https://datascientest.fr/train/assets/logo_datascientest.png\" style=\"height:150px\">\n",
    "\n",
    "<hr style=\"border-width:2px;border-color:#75DFC1\">\n",
    "<center><H1>Introdcution à Python</H1></center>\n",
    "<center><H2>Les boucles</H2></center>\n",
    "<hr style=\"border-width:2px;border-color:#75DFC1\">\n",
    "\n",
    "> Avec Python, il  est possible de construire des boucles d'instructions et d'évaluer des conditions sur des objets. L'objectif de ce chapitre est de présenter la syntaxe des boucles, ainsi que celle des conditions et dans quel contexte on peut les utiliser. \n",
    ">\n",
    ">\n",
    "> Il existe deux types de boucles en Python : Les boucles **`for`** et **`while`**.\n",
    "\n",
    "## La boucle `while`\n",
    "\n",
    "> Le mot-clé **while** signifie \"tant que\" en anglais. La boucle **`while`** permet de répéter un bloc d'instructions **tant que** la condition de départ est vraie (où **jusqu'à** ce qu'elle soit fausse).\n",
    ">\n",
    "> Par exemple, pour déterminer l'indice du mot `\"trouvé\"` dans une liste de mots, il suffit de parcourir tous les indices de la liste jusqu'à trouver la chaîne `\"trouvé\"`:\n",
    ">\n",
    ">```python\n",
    "> # La liste de mots dans laquelle nous voulons trouver le mot \"trouvé\".\n",
    "> phrase = ['La', 'boucle', 'while', 'parcourt', 'tous', 'les', 'éléments', 'de', 'la', 'liste', \"jusqu'à\", 'ce', \"qu'elle\", 'ait', 'trouvé', 'ce', \"qu'elle\", 'cherche', '.']\n",
    ">\n",
    "> # La variable i va stocker l'indice dans lequel nous sommes\n",
    "> i=0\n",
    ">\n",
    "> # Tant que le mot à l'indice où nous sommes est différent de \"trouvé\"\n",
    "> while phrase[i] != 'trouvé':\n",
    ">     # On incrémente la valeur de i de 1 pour passer à l'indice suivant\n",
    ">     i += 1\n",
    ">\n",
    "> # La boucle s'arrête lorsque nous avons trouvé le bon mot\n",
    "> print(\"Le mot 'trouvé' est à l'indice\", i)\n",
    "> >>>> Le mot 'trouvé' est à l'indice 14\n",
    ">```\n",
    ">\n",
    "> La structure générale d'une boucle **`while`** est la suivante :\n",
    ">\n",
    ">```python\n",
    "> while condition:\n",
    ">     instruction1\n",
    ">     ...\n",
    ">     instructionN\n",
    ">\n",
    "> autre_instruction                \n",
    ">```\n",
    ">\n",
    "> À chaque **itération** de la boucle **`while`**, la condition est évaluée. Si la condition est vérifiée, le bloc d'instructions est éxécuté, sinon la boucle se termine.\n",
    ">\n",
    ">\n",
    "> Les lignes en dehors du bloc d'instruction ne font pas partie de la boucle, elles ne sont donc exécutées qu'une fois lorsque la boucle est terminée.\n",
    ">\n",
    ">\n",
    "> Si la condition est **fausse** dès le départ, le bloc d'instruction n’est **jamais exécuté**.\n",
    ">\n",
    ">\n",
    "> Inversement, si la condition reste **toujours vraie**, le bloc d'instruction est executé **indéfiniment**. Il est donc important de **s'assurer que la boucle va se terminer** avant de l'éxécuter.\n",
    "\n",
    "* Instancier une **liste** qui prend les valeurs de 1 à 7.\n",
    "* A l'aide d'une boucle **for**, afficher tous les éléments de la liste.\n",
    "* Instancier une variable **i** avec la valeur 1.\n",
    "* A l'aide d'une boucle **while**, afficher les 7 entiers naturels à partir de 1."
   ]
  },
  {
   "cell_type": "code",
   "execution_count": null,
   "metadata": {
    "dst-cell-id": "9b37af6d-276f-46f8-a184-befe1e37abe4"
   },
   "outputs": [],
   "source": [
    "## Insérez le code ici\n",
    "\n",
    "\n"
   ]
  },
  {
   "cell_type": "code",
   "execution_count": null,
   "metadata": {
    "deletable": false,
    "dst-cell-id": "0842c762-f9a2-441e-a945-6257e8f3c3fb",
    "editable": false,
    "function": "solution"
   },
   "outputs": [],
   "source": [
    "liste = [1, 2, 3, 4, 5, 6, 7]\n",
    "for chiffre in liste:\n",
    "    print(chiffre)\n",
    "    \n",
    "i = 1\n",
    "while i<=7:\n",
    "    print(i)\n",
    "    i += 1"
   ]
  },
  {
   "cell_type": "markdown",
   "metadata": {
    "deletable": false,
    "dst-cell-id": "329a430a-0576-438c-8ff6-38721143ea05",
    "editable": false,
    "run_control": {
     "frozen": true
    }
   },
   "source": [
    "Nous disposons d'une liste contenant les temps effectués par des athlètes lors d'une course de 100m. \n",
    "Les résultats sont **triés par ordre croissant**. \n",
    "\n",
    "\n",
    "* En utilisant une boucle **`while`**, déterminer combien d'athlètes ont réalisé un temps **inférieur à 10s**."
   ]
  },
  {
   "cell_type": "code",
   "execution_count": null,
   "metadata": {
    "dst-cell-id": "5369664d-565c-4f31-bd48-9f953c93325c"
   },
   "outputs": [],
   "source": [
    "results = [9.81, 9.89, 9.91, 9.93, 9.94, 9.95, 9.96, 9.97, 9.98, 10.03, 10.04, 10.05, 10.06, 10.08, 10.11, 10.23]\n",
    "\n",
    "## Insérer votre code ici\n",
    "\n"
   ]
  },
  {
   "cell_type": "code",
   "execution_count": null,
   "metadata": {
    "deletable": false,
    "dst-cell-id": "9edaa795-62bd-44f6-818e-37a4226dfa6a",
    "editable": false,
    "function": "solution"
   },
   "outputs": [],
   "source": [
    "results = [9.81, 9.89, 9.91, 9.93, 9.94, 9.95, 9.96, 9.97, 9.98, 10.03, 10.04, 10.05, 10.06, 10.08, 10.11, 10.23]\n",
    "\n",
    "# La variable i va compter le nombre d'athlètes qui ont\n",
    "# effectué un temps inférieur à 10 secondes\n",
    "i = 0\n",
    "\n",
    "# Tant que le temps effectué par l'athlète à l'indice i est inférieur à 10 sec\n",
    "while results[i] < 10:\n",
    "    # On incrémente i\n",
    "    i += 1\n",
    "\n",
    "print(\"Le nombre d'athlètes ayant eu un temps inférieur à 10s est de\", i)"
   ]
  },
  {
   "cell_type": "markdown",
   "metadata": {
    "deletable": false,
    "dst-cell-id": "848e4fd6-4475-40bb-bf80-9d720eb3a6f7",
    "editable": false,
    "run_control": {
     "frozen": true
    }
   },
   "source": [
    "## La boucle `for`\n",
    "\n",
    "> La boucle **`for`** permet de répéter un bloc d'instructions de manière plus contrôlée. En effet, il n'est pas clair avec une boucle `while` le **nombre de fois** que la boucle va s'éxécuter.\n",
    ">\n",
    "> La boucle `for` est très **explicite** par rapport à la variable qui va être modifiée à chaque itération de la boucle et le nombre d'itérations de la boucle effectuées est **toujours** fini.\n",
    ">\n",
    "> Par exemple, pour afficher une par une les lettres du mot boucle :\n",
    ">\n",
    ">```python\n",
    ">for letter in \"boucle\":\n",
    ">    print(letter)\n",
    ">>>> b\n",
    ">>>> o\n",
    ">>>> u\n",
    ">>>> c\n",
    ">>>> l\n",
    ">>>> e\n",
    ">```\n",
    "> \n",
    "> La structure générale d'une boucle **`for`** est la suivante :\n",
    ">\n",
    "> ```python\n",
    "> for element in sequence:\n",
    ">     instruction1\n",
    ">     ...\n",
    ">     instructionN\n",
    ">   \n",
    "> autre_instruction              \n",
    "> ```\n",
    ">\n",
    "> La boucle **`for`** exécute le **bloc d'instructions** pour chaque élément de la **séquence**. \n",
    ">\n",
    "> Comme pour la boucle `while`, les lignes en dehors du bloc d'instruction ne font pas partie de la boucle, elles ne seront donc exécutées qu'une fois la boucle terminée.\n",
    ">\n",
    "> Les actions se déroulent dans l'ordre suivant :\n",
    ">\n",
    "> - La variable `element` prend la valeur du **premier** élément de `sequence`.\n",
    "> - Le bloc d'instruction est executé.\n",
    "> - La variable `element` prend la valeur du **deuxième** élément de `sequence`.\n",
    "> - Le bloc d'instruction est executé.\n",
    "> - ...\n",
    "> - ...\n",
    "> - La variable `element` prend la valeur du **dernier** élément de `sequence`.\n",
    "> - Le bloc d'instruction est executé et **la boucle se termine**.\n",
    "> - L'instruction `autre_instruction` est executée.\n",
    ">\n",
    "> La séquence peut être tout type d'objet **indexable** comme une `liste`, un `tuple`, une chaîne de caractères, etc.\n",
    ">\n",
    "> Dans la boucle **`for`** il est inutile de modifier la variable `element`, Python s'en charge automatiquement.\n",
    "> Attention cependant à ne pas oublier dans la syntaxe **`in`** et `:` qui sont indispensables. \n",
    "\n",
    "Un professeur a sous-évalué ses élèves, et souhaite réhausser les notes de ceux-ci pour obtenir une moyenne de classe supérieure à 10/20. \n",
    "\n",
    "Les notes des élèves ont été intégrées à la liste suivante : \n",
    "```python\n",
    "bad_marks = [0, 2, 3, 3, 3, 3, 4, 5, 5, 5, 6, 6, 6, 6, 6, 7, 7, 8, 8, 8, 8, 8, 8, 9, 10, 10, 10, 11, 12, 14]\n",
    "```\n",
    "A l'aide de boucles **`for`** :\n",
    "* Calculer et afficher la moyenne de la classe. Il y a **30 élèves** dans la classe. \n",
    "\n",
    "\n",
    "* Créer une liste `good_marks` où vous stockerez les notes **augmentées de 4 points**. Pour cela, vous pouvez créer une liste vide puis ajouter les notes une par une.\n",
    "\n",
    "\n",
    "* Vérifier que la nouvelle moyenne est supérieure à 10."
   ]
  },
  {
   "cell_type": "code",
   "execution_count": null,
   "metadata": {
    "dst-cell-id": "a6fdb6dc-edde-4e57-b1b1-f7e70e363161"
   },
   "outputs": [],
   "source": [
    "bad_marks = [0, 2, 3, 3, 3, 3, 4, 5, 5, 5, 6, 6, 6, 6, 6, 7, 7, 8, 8, 8, 8, 8, 8, 9, 10, 10, 10, 11, 12, 14]\n",
    "\n",
    "# Insérez votre code ici\n",
    "\n",
    "\n"
   ]
  },
  {
   "cell_type": "code",
   "execution_count": null,
   "metadata": {
    "deletable": false,
    "dst-cell-id": "0e8fa143-da32-41e3-ac4e-c822347d58fc",
    "editable": false,
    "function": "solution"
   },
   "outputs": [],
   "source": [
    "bad_marks = [0, 2, 3, 3, 3, 3, 4, 5, 5, 5, 6, 6, 6, 6, 6, 7, 7, 8, 8, 8, 8, 8, 8, 9, 10, 10, 10, 11, 12, 14]\n",
    "\n",
    "# Calcul de la moyenne de la classe : \n",
    "total = 0\n",
    "\n",
    "# On somme toutes les notes des élèves\n",
    "for mark in bad_marks :\n",
    "    total+=mark\n",
    "# On divise la somme des notes par le nombre d'élèves\n",
    "moyenne = total / 30\n",
    "    \n",
    "print(\"Moyenne initiale :\", moyenne)\n",
    "\n",
    "# La moyenne est de 6.7, on ajoute donc 4 points à chaque élève:\n",
    "good_marks = []\n",
    "\n",
    "# Pour chaque note dans bad_marks\n",
    "for mark in bad_marks :\n",
    "    # On stock dans good_marks la note augmentée de 4 points\n",
    "    good_marks.append(mark + 4)\n",
    "\n",
    "# Calcul de la nouvelle moyenne de la classe\n",
    "total = 0\n",
    "for mark in good_marks :\n",
    "    total+=mark\n",
    "moyenne = total / 30\n",
    "    \n",
    "print(\"Moyenne finale :\", moyenne)"
   ]
  },
  {
   "cell_type": "markdown",
   "metadata": {
    "deletable": false,
    "dst-cell-id": "20dfeb9f-c717-4d9d-96cb-270c95dc84d5",
    "editable": false,
    "run_control": {
     "frozen": true
    }
   },
   "source": [
    "## La fonction range\n",
    "\n",
    "> La fonction `range` est souvent utilisée avec les boucles **`for`**. Elle prend en argument un **début**, une **fin** et un **pas**. Elle renvoit une suite de nombres allant du début à la fin (Le nombre de début inclus, mais **le nombre de fin est exclu**) avec comme incrément entre deux nombres le pas. \n",
    ">\n",
    "> <img src=\"https://assets-datascientest.s3-eu-west-1.amazonaws.com/train/Range.png\" style=\"height:200px\">\n",
    ">\n",
    "> Par défaut le début est 0 et le pas est de 1.\n",
    ">\n",
    "> Ainsi: \n",
    ">\n",
    "> * la saisie de `range(5)` renvoie la suite des nombres entiers de 0 à 4.\n",
    ">\n",
    ">\n",
    "> * la saisie de `range(1, 10)` renvoie la suite des nombres entiers de 1 à 10.\n",
    ">\n",
    ">\n",
    "> * la saisie de `range(1, 10, 3)` renvoie la suite 1, 4, 7.\n",
    "\n",
    "* A l'aide d'une boucle **for**, sur la liste des entiers de 0 à 20, créer une nouvelle liste qui ne contient que les entiers pairs."
   ]
  },
  {
   "cell_type": "code",
   "execution_count": null,
   "metadata": {
    "dst-cell-id": "1dbf25f9-0eb3-4c4c-95ba-12e4ec91300b"
   },
   "outputs": [],
   "source": [
    "# Insérer votre code ici\n",
    "\n"
   ]
  },
  {
   "cell_type": "code",
   "execution_count": null,
   "metadata": {
    "deletable": false,
    "dst-cell-id": "77c4e0af-43a7-4b35-b50f-a51d497fc496",
    "editable": false,
    "function": "solution"
   },
   "outputs": [],
   "source": [
    "pairs = []\n",
    "\n",
    "for number in range(20):\n",
    "    if number % 2 == 0:\n",
    "        pairs.append(number)\n",
    "        \n",
    "pairs"
   ]
  },
  {
   "cell_type": "markdown",
   "metadata": {
    "deletable": false,
    "dst-cell-id": "c7ad2963-b9a1-4ca9-a53d-a079bcfbef15",
    "editable": false,
    "run_control": {
     "frozen": true
    }
   },
   "source": [
    "## Boucles emboîtées\n",
    "\n",
    "> Il est possible d'emboiter des boucles les unes dans les autres. Par exemple, lorsque l'on a une liste de listes, il est possible de parcourir tous ses éléments avec deux boucles emboîtées.\n",
    ">\n",
    "> La syntaxe est la suivante :\n",
    ">\n",
    "> ```python\n",
    "> # Pour chaque liste dans la liste de listes\n",
    "> for liste in liste_de_listes:\n",
    ">     # Pour chaque élément dans la liste\n",
    ">     for element in liste:\n",
    ">         ...\n",
    ">         ...\n",
    "> ```\n",
    "> \n",
    "> **Il faut faire très attention à l'indentation des blocs**. Comme pour les clauses `if`, l'indentation délimite le début et la fin des blocs.\n",
    "\n",
    "* Déterminer le nombre de fois que le caractère `'e'` apparait dans le texte suivant. Pour cela, vous pourrez parcourir **chaque mot du texte avec une boucle**, puis parcourir **chaque lettre de chaque mot** en comptant chaque occurence du caractère `'e'`."
   ]
  },
  {
   "cell_type": "code",
   "execution_count": null,
   "metadata": {
    "dst-cell-id": "c121f94e-1d9b-43a5-9220-b0cd9c542d87"
   },
   "outputs": [],
   "source": [
    "text = ['Le', 'Brésil,', 'seule', 'équipe', 'à', 'avoir', 'disputé', 'toutes',\n",
    "        'les', 'phases', 'finales', 'de', 'la', 'compétition,', 'détient', 'le', 'record',\n",
    "        'avec', 'cinq', 'titres', 'mondiaux', 'et', \"s'est\", 'acquis', 'le', 'droit', 'de',\n",
    "        'conserver', 'la', 'Coupe', 'Jules-Rimet', 'en', '1970', 'après', 'sa', '3e',\n",
    "        'victoire', 'finale', 'dans', 'la', 'compétition,', 'avec', 'Pelé', 'seul',\n",
    "        'joueur', 'triple', 'champion', 'du', 'monde.', \"l'\", \"Italie\", 'et',\n",
    "        \"l'\", \"Allemagne\", 'comptent', 'quatre', 'trophées.', \"l'\", \"Uruguay,\", 'vainqueur',\n",
    "        'à', 'domicile', 'de', 'la', 'première', 'édition,', \"l'\", \"Argentine\", 'et',\n",
    "        'la', 'France', 'ont', 'gagné', 'chacune', 'deux', 'fois', 'la', 'Coupe,',\n",
    "        \"l'\", \"Angleterre\", 'et', \"l'\", \"Espagne\", 'une', 'fois.', 'La', 'dernière', 'édition',\n",
    "        \"s'est\", 'déroulée', 'en', 'Russie', 'en', '2018,', 'la', 'prochaine', 'doit',\n",
    "        'avoir', 'lieu', 'au', 'Qatar', 'en', '2022.', 'Celle', 'de', '2026,', 'aux',\n",
    "        'États-Unis,', 'au', 'Canada', 'et', 'au', 'Mexique)', 'sera', 'la', 'première',\n",
    "        'édition', 'à', '48', 'équipes', 'participantes.', 'La', 'Coupe', 'du', 'monde',\n",
    "        'de', 'football', 'est', \"l'\", \"événement\", 'sportif', 'le', 'plus', 'regardé', 'à',\n",
    "        'la', 'télévision', 'dans', 'le', 'monde', 'avec', 'les', 'Jeux', 'olympiques',\n",
    "        'et', 'la', 'Coupe', 'du', 'monde', 'de', 'cricket.']\n",
    "\n",
    "# Insérez votre code ici\n",
    "\n",
    "\n"
   ]
  },
  {
   "cell_type": "code",
   "execution_count": null,
   "metadata": {
    "deletable": false,
    "dst-cell-id": "931a6707-f3d4-405e-93e7-83c7429bdbc1",
    "editable": false,
    "function": "solution"
   },
   "outputs": [],
   "source": [
    "text = ['Le', 'Brésil,', 'seule', 'équipe', 'à', 'avoir', 'disputé', 'toutes',\n",
    "        'les', 'phases', 'finales', 'de', 'la', 'compétition,', 'détient', 'le', 'record',\n",
    "        'avec', 'cinq', 'titres', 'mondiaux', 'et', \"s'est\", 'acquis', 'le', 'droit', 'de',\n",
    "        'conserver', 'la', 'Coupe', 'Jules-Rimet', 'en', '1970', 'après', 'sa', '3e',\n",
    "        'victoire', 'finale', 'dans', 'la', 'compétition,', 'avec', 'Pelé', 'seul',\n",
    "        'joueur', 'triple', 'champion', 'du', 'monde.', \"l'\", \"Italie\", 'et',\n",
    "        \"l'\", \"Allemagne\", 'comptent', 'quatre', 'trophées.', \"l'\", \"Uruguay,\", 'vainqueur',\n",
    "        'à', 'domicile', 'de', 'la', 'première', 'édition,', \"l'\", \"Argentine\", 'et',\n",
    "        'la', 'France', 'ont', 'gagné', 'chacune', 'deux', 'fois', 'la', 'Coupe,',\n",
    "        \"l'\", \"Angleterre\", 'et', \"l'\", \"Espagne\", 'une', 'fois.', 'La', 'dernière', 'édition',\n",
    "        \"s'est\", 'déroulée', 'en', 'Russie', 'en', '2018,', 'la', 'prochaine', 'doit',\n",
    "        'avoir', 'lieu', 'au', 'Qatar', 'en', '2022.', 'Celle', 'de', '2026,', 'aux',\n",
    "        'États-Unis,', 'au', 'Canada', 'et', 'au', 'Mexique)', 'sera', 'la', 'première',\n",
    "        'édition', 'à', '48', 'équipes', 'participantes.', 'La', 'Coupe', 'du', 'monde',\n",
    "        'de', 'football', 'est', \"l'\", \"événement\", 'sportif', 'le', 'plus', 'regardé', 'à',\n",
    "        'la', 'télévision', 'dans', 'le', 'monde', 'avec', 'les', 'Jeux', 'olympiques',\n",
    "        'et', 'la', 'Coupe', 'du', 'monde', 'de', 'cricket.']\n",
    "\n",
    "# Le nombre d'occurence du caractère 'e' sera stocké dans la variable n\n",
    "n = 0\n",
    "\n",
    "# Pour chaque mot dans le texte\n",
    "for word in text :\n",
    "    # Pour chaque lettre du mot\n",
    "    for letter in word :\n",
    "        # Si le caractère est 'e'\n",
    "        if letter == 'e':\n",
    "            # On incrémente n de 1\n",
    "            n += 1\n",
    "\n",
    "print(\"Le caractère 'e' apparait\", n, \"fois dans le texte.\")"
   ]
  },
  {
   "cell_type": "markdown",
   "metadata": {
    "deletable": false,
    "dst-cell-id": "a91b7bb2-9d85-413c-9b19-88af41837914",
    "editable": false,
    "run_control": {
     "frozen": true
    }
   },
   "source": [
    "> Pour les boucles **for**, il est également possible de donner en entrée plusieurs listes à parcourir. Ceci est réalisable à l'aide de la fonction **zip** qui prendra en entrée les différentes listes à parcourir. \n",
    "> \n",
    "> Qui dit plusieurs listes, dit bien évidemment plusieurs variables à définir : \n",
    ">\n",
    "> ```python\n",
    "> liste_1 = [2,4,6]\n",
    "> liste_2 = [1,3,5]\n",
    ">\n",
    "> for pair,impaire in zip(liste_1,liste_2) : \n",
    ">     print(pair, 'est pair')\n",
    ">     print(impair, 'est impair')\n",
    "> ```\n",
    ">\n",
    "* Pour la liste ['Le', 'Brésil,'est','champion','du','monde']. Afficher à l'aide d'une boucle for parcourant 2 listes, chaque mot ainsi que son indice dans la liste.\n"
   ]
  },
  {
   "cell_type": "code",
   "execution_count": null,
   "metadata": {},
   "outputs": [],
   "source": [
    "ma_liste = ['Le', 'Brésil,'est','champion','du','monde']\n",
    "            \n",
    "## Insérez votre code ici\n",
    "            "
   ]
  },
  {
   "cell_type": "code",
   "execution_count": null,
   "metadata": {
    "deletable": false,
    "editable": false
   },
   "outputs": [],
   "source": [
    "ma_liste = ['Le', 'Brésil', 'est', 'champion', 'du', 'monde']\n",
    "\n",
    "for mot, indice in zip(ma_liste, range(len(ma_liste))):\n",
    "\n",
    "    print('Le mot numéro', indice, 'est', mot)"
   ]
  },
  {
   "cell_type": "markdown",
   "metadata": {
    "deletable": false,
    "dst-cell-id": "85b8fc7d-8f99-4281-846e-5558e573067c",
    "editable": false,
    "run_control": {
     "frozen": true
    }
   },
   "source": [
    "\n",
    "## Conclusion et récap\n",
    "\n",
    "> Les boucles sont des outils indispensables de la programmation. Elles permettent de répéter des instructions de manière contrôlée.\n",
    ">\n",
    "> Dans ce notebook, vous avez appris à:\n",
    "> \n",
    "> * Définir une boucle `while` qui s'éxécute tant que la condition la définissant est vérifiée.\n",
    ">\n",
    ">\n",
    "> * Définir une boucle `for` qui permet de parcourir des séquences.\n",
    ">\n",
    ">\n",
    "> * Utiliser la fonction **`range`** pour parcourir des nombres entiers."
   ]
  }
 ],
 "metadata": {
  "hide_input": false,
  "kernelspec": {
   "display_name": "Python 3",
   "language": "python",
   "name": "python3"
  },
  "language_info": {
   "codemirror_mode": {
    "name": "ipython",
    "version": 3
   },
   "file_extension": ".py",
   "mimetype": "text/x-python",
   "name": "python",
   "nbconvert_exporter": "python",
   "pygments_lexer": "ipython3",
   "version": "3.8.3"
  },
  "nbTranslate": {
   "displayLangs": [],
   "hotkey": "alt-t",
   "langInMainMenu": true,
   "sourceLang": "fr",
   "targetLang": "en",
   "useGoogleTranslate": true
  },
  "owner": "DataScientest"
 },
 "nbformat": 4,
 "nbformat_minor": 4
}
