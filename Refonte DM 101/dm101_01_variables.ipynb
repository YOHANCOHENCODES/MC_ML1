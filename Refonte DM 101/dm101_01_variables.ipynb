{
 "cells": [
  {
   "cell_type": "markdown",
   "metadata": {
    "deletable": false,
    "dst-cell-id": "b0406a11-24fb-4ae7-8fc3-49fd8accaf38",
    "editable": false,
    "run_control": {
     "frozen": true
    }
   },
   "source": [
    "<img src=\"https://datascientest.fr/train/assets/logo_datascientest.png\" style=\"height:150px\">\n",
    "\n",
    "<hr style=\"border-width:2px;border-color:#75DFC1\">\n",
    "<center><H1>Introdcution à Python</H1></center>\n",
    "<center><H2>Initiation aux variables et types</H2></center>\n",
    "<hr style=\"border-width:2px;border-color:#75DFC1\">\n",
    "\n",
    "\n",
    "## Contexte et objectif\n",
    "\n",
    "> Nous allons introduire dans ce chapitre:\n",
    "> * Le concept de **variable** dans `Python`.\n",
    "> * Les différents **types** de variables et leurs caractéristiques.\n",
    "> * Les manipulations que l'on peut faire avec ces derniers. \n",
    ">\n",
    ">\n",
    "> Nous comparerons cette notion de variable avec les manipulations que l'on peut effectuer sur une feuille de calcul `Excel`.\n",
    "\n",
    "## Les Variables\n",
    "\n",
    "> Les variables sont utilisées en informatique pour stocker les données que nous voulons manipuler dans nos programmes.\n",
    ">\n",
    "> Avec Python, la **création** et l'**assignation d'une valeur** à une variable se font simultanément avec la syntaxe suivante:\n",
    ">\n",
    "> ```python\n",
    "> une_variable = une_valeur\n",
    "> ```\n",
    ">\n",
    "> La variable que nous avons créée s'appelle **`une_variable`** et nous lui avons assigné la valeur **`une_valeur`**.\n",
    ">\n",
    ">\n",
    "> Une variable peut contenir des types de valeurs différents:\n",
    ">\n",
    "> ```python\n",
    "> # Une valeur entière (int)\n",
    "> une_variable = 9\n",
    ">\n",
    "> # Une valeur réelle (float)\n",
    "> une_variable = 9.345678\n",
    ">\n",
    "> # Un booléen (bool)\n",
    "> une_variale = True\n",
    "> une_autre_variable = False\n",
    ">\n",
    "> # Une chaîne de caractère (str)\n",
    "> une_variable = \"Bonjour\"\n",
    ">\n",
    "> # Une liste\n",
    "> une_liste = [2, 3.0, \"Bonjour\"]\n",
    "> ```\n",
    ">\n",
    "> Il est tout à fait possible d'effectuer des opérations sur ces variables comme : \n",
    ">\n",
    "> ```python\n",
    "> # Création d'une variable \n",
    "> une_variable = 9\n",
    "> une_autre_variable = une_variable + 3 \n",
    "> ```\n",
    "> À chaque fois que nous utilisons l'opérateur `=` sur une variable, son ancienne valeur est **écrasée** par la nouvelle valeur que nous voulons lui assigner.\n",
    ">\n",
    "> Pour afficher la valeur d'une variable, Python dispose de la fonction **`print`**:\n",
    ">\n",
    "> ```python\n",
    "> # Création des variables\n",
    "> une_variable = 10.5\n",
    "> une_autre_variable = une_variable * 3\n",
    ">\n",
    "> # Affichage des variables\n",
    "> print(une_variable)\n",
    "> print(une_autre_variable)\n",
    "> >>> 10.5\n",
    "> >>> 31.5\n",
    "> ```\n",
    "\n",
    "\n",
    "* Créer une variable nommée **`ma_variable`** et assignez-lui la valeur `123456789`.\n",
    "\n",
    "\n",
    "* Créer une variable nommée **`ma_variable_fois_2`** dont la valeur sera le **double** de la valeur de `ma_variable`. La multiplication s'effectue avec le caractère `*`.\n",
    "\n",
    "\n",
    "* Affichez les deux variables.\n",
    "\n",
    "<div class=\"alert alert-info\">\n",
    "<i class=\"fa fa-info-circle\"></i> &emsp; \n",
    "    Le caractère <code>#</code> vous permet de commenter votre programme lorsqu'il est inseré au début d'une ligne de code. \n",
    "</div>"
   ]
  },
  {
   "cell_type": "code",
   "execution_count": null,
   "metadata": {
    "dst-cell-id": "c30e251d-ecad-49c9-b414-b6b2af67c444"
   },
   "outputs": [],
   "source": [
    "# Insérez le code ici\n",
    "\n"
   ]
  },
  {
   "cell_type": "code",
   "execution_count": null,
   "metadata": {
    "deletable": false,
    "dst-cell-id": "cc88248f-492b-468f-a376-762c58741a72",
    "editable": false,
    "function": "solution"
   },
   "outputs": [],
   "source": [
    "# Création des variables\n",
    "ma_variable = 123456789\n",
    "ma_variable_fois_2 = ma_variable * 2\n",
    "\n",
    "# Affichage des variables\n",
    "print(ma_variable)\n",
    "print(ma_variable_fois_2)"
   ]
  },
  {
   "cell_type": "markdown",
   "metadata": {
    "deletable": false,
    "dst-cell-id": "d9707820-6a29-4423-bdbd-4d7648193a80",
    "editable": false,
    "run_control": {
     "frozen": true
    }
   },
   "source": [
    "> Les variables peuvent avoir des noms simples comme `x` ou `y`, mais aussi des noms plus descriptifs comme `transactions_clients_2018_2019` ou `volume_total_ventes_2020`. Pour nommer les variables, il existe plusieurs **règles** à respecter:\n",
    ">\n",
    "> * Le nom d'une variable doit **commencer** par une **lettre** ou un **tiret bas** (`_`).\n",
    ">\n",
    "> * Le nom d'une variable **ne peut pas commencer** par un **chiffre**.\n",
    ">\n",
    "> * Le nom d'une variable ne peut contenir que des **caractères alpha-numériques et des tirets bas**.\n",
    ">\n",
    "> * Les noms des variables sont **sensibles à la casse**. `une_variable`, `Une_variable` et `UNE_VARIABLE` sont trois variables **différentes**.\n",
    "\n",
    "\n",
    "\n",
    "## Les Listes : Indexation\n",
    "\n",
    "\n",
    "\n",
    "> Une liste est un type de variable très particulier car elle peut contenir plusieurs valeurs et sa création est faite avec une syntaxe particulière:\n",
    ">\n",
    "> ```python\n",
    "> une_liste = [2, 3.0, \"Bonjour\"]\n",
    "> ```\n",
    ">\n",
    "> * Cette liste contient **3 éléments**: `2`, `3.0` et `\"Bonjour\"`.\n",
    ">\n",
    "> * Les crochets **`[`** et **`]`** délimitent le début et la fin de la liste.\n",
    ">\n",
    "> * Les éléments de la liste sont séparés par une **virgule**.\n",
    ">\n",
    "> Pour accéder à un élément de la liste, il faut spécifier **son indice** entre crochets : \n",
    ">\n",
    "> ```python\n",
    "> # Affichage du premier élément de la liste\n",
    "> print(une_liste[0])\n",
    "> >>> 2\n",
    "> ```\n",
    ">```python\n",
    "> # Affichage du deuxième élément de la liste\n",
    "> print(une_liste[1])\n",
    "> >>> 3.0\n",
    "> ```\n",
    ">\n",
    "> Il est aussi possible de mettre à jour des éléments d'une liste grâce à leur indice:\n",
    ">\n",
    "> ```python\n",
    "> # Modification du 2ème élément de la liste\n",
    "> une_liste[1] = 4\n",
    "> ```\n",
    ">\n",
    "> Comme vous avez pu le remarquer, l'indexation d'une liste **débute à 0**. Il est aussi possible d'indexer les éléments dans l'ordre inverse, c'est ce qu'on appelle l'indexation **négative**.\n",
    ">\n",
    "> <br> <br>\n",
    ">\n",
    "> <img src=\"https://assets-datascientest.s3-eu-west-1.amazonaws.com/train/liste_1.png\" style = 'height:200px'>\n",
    ">\n",
    "> <br> <br>\n",
    ">\n",
    "> Ainsi, nous pouvons récupérer le **dernier** élément d'une liste avec l'indice **`-1`**, l'avant-dernier avec l'indice `-2` et ainsi de suite. Ceci est très utile lorsque nous disposons de listes très longues dont on ne connait pas le nombre d'éléments.\n",
    ">\n",
    "> ```python\n",
    "> # Modification du dernier élément de la liste\n",
    "> une_liste[-1] = 23\n",
    "> ```\n",
    "\n",
    "* Trier la liste `ma_liste` dans l'ordre croissant en mettant à jour ses éléments 1 par 1.\n",
    "\n",
    "\n",
    "* Afficher `ma_liste`."
   ]
  },
  {
   "cell_type": "code",
   "execution_count": null,
   "metadata": {
    "dst-cell-id": "e643d5d6-4771-4627-939c-33b477359309"
   },
   "outputs": [],
   "source": [
    "ma_liste = [4, -1, 2, -3, 3]\n",
    "\n",
    "# Insérez votre code ici\n",
    "\n",
    "\n"
   ]
  },
  {
   "cell_type": "code",
   "execution_count": null,
   "metadata": {
    "deletable": false,
    "dst-cell-id": "60323e88-e1a4-4157-91e5-30c25a1bd8fe",
    "editable": false,
    "function": "solution"
   },
   "outputs": [],
   "source": [
    "ma_liste = [4, -1, 2, -3, 3]\n",
    "\n",
    "# Mise à jour des éléments de la liste\n",
    "ma_liste[0] = -3\n",
    "ma_liste[1] = -1\n",
    "ma_liste[2] = 2\n",
    "ma_liste[3] = 3\n",
    "ma_liste[4] = 4\n",
    "\n",
    "# Affichage de la liste\n",
    "print(ma_liste)"
   ]
  },
  {
   "cell_type": "markdown",
   "metadata": {
    "deletable": false,
    "dst-cell-id": "40bbc4f4-12a6-40e7-a6c1-a14eac774d22",
    "editable": false,
    "run_control": {
     "frozen": true
    }
   },
   "source": [
    "## Les Listes : Découpage\n",
    "\n",
    "> Il existe un autre type d'indexation possible, le **découpage** (*slicing* en anglais). \n",
    ">\n",
    "> Le découpage permet de récupérer une sous-liste d'éléments d'une plus grande liste en spécifiant les indices de début et de fin de la sous-liste. \n",
    "> ```python\n",
    "> ma_liste = [1, 5, \"Bonjour\", -1.4, \"ça\", 103, \"va\"]\n",
    ">\n",
    "> # Récupération des 4 PREMIERS éléments de ma_liste\n",
    "> premiers_elements = ma_liste[0:4]\n",
    "> ```\n",
    ">\n",
    "> **L'ÉLÉMENT SE TROUVANT À L'INDICE DE FIN DU DÉCOUPAGE N'EST PAS INCLUS DANS LA SOUS-LISTE**. En effet, `ma_liste[0:4]` contient uniquement les éléments aux indices `0`, `1`, `2` et `3`.\n",
    "> \n",
    "> Si l'indice de début n'est pas spécifié, alors le découpage contiendra tous les éléments depuis le début jusqu'à l'indice de fin.\n",
    "> ```python\n",
    "> # Récupération des 4 PREMIERS éléments de ma_liste\n",
    "> premiers_elements = ma_liste[:4]\n",
    "> ```\n",
    ">\n",
    "> De même, si l'indice de fin n'est pas spécifié, alors le découpage contiendra tous les éléments depuis l'indice de début jusqu'à la fin de la liste.\n",
    ">\n",
    "> ```python\n",
    "> # Récupération des 3 DERNIERS éléments de ma_liste\n",
    "> derniers_elements = ma_liste[-3:]\n",
    "> ```\n",
    "> \n",
    "> <br> <br>\n",
    "> <img src=\"https://assets-datascientest.s3-eu-west-1.amazonaws.com/train/liste_2.png\" style = 'height:200px'>\n",
    ">\n",
    "> Ainsi, le slicing d'une liste est équivalent à la séléction de plusieurs lignes d'une colonne sur `Excel` (`B1:B20` pour sélectionner les 20 premières lignes de la colonne `B` d'une feuille de calcul).\n",
    "\n",
    "* Afficher les 10 **premiers** éléments de la liste `une_liste_longue`.\n",
    "\n",
    "\n",
    "* Afficher les 10 **derniers** éléments de `une_liste_longue`."
   ]
  },
  {
   "cell_type": "code",
   "execution_count": null,
   "metadata": {
    "dst-cell-id": "4318b4aa-014d-4b74-9775-5b87bc345981"
   },
   "outputs": [],
   "source": [
    "une_liste_longue = [-16, 6, -4, -18, 18, 20, 21, -6, 19, 25, 11,\n",
    "                    2, 9, 7, -16, 16, 4, -15, 11, 7, 17, 18, 4,\n",
    "                    25, 17, 28, -6, 17, 1, 14, -20, -15, 20, -15,\n",
    "                    -8, 8, -19, -11, -20, -16, 3, 3, -10, -5, 10,\n",
    "                    24, -1, 1, -10, 6, 10, -6, -14, 25, 8, -11,\n",
    "                    -17, -9, 0, 21, 3, 14, 7, 10, 25, 24, -18, -11,\n",
    "                    2, 29, 17, -6, 6, -11, 2, -18, 20, -15, -11,\n",
    "                    15, -10, 8, -15, 25, -15, 10, 28, -12, 11, 14,\n",
    "                    27, -1, 10, -2, -15, -10, 19, 26, 3, 27]\n",
    "\n",
    "# Insérez votre code ici\n",
    "\n"
   ]
  },
  {
   "cell_type": "code",
   "execution_count": null,
   "metadata": {
    "deletable": false,
    "dst-cell-id": "593d70a5-894d-4efa-bc0e-920ef758166e",
    "editable": false,
    "function": "solution"
   },
   "outputs": [],
   "source": [
    "une_liste_longue = [-16, 6, -4, -18, 18, 20, 21, -6, 19, 25, 11,\n",
    "                    2, 9, 7, -16, 16, 4, -15, 11, 7, 17, 18, 4,\n",
    "                    25, 17, 28, -6, 17, 1, 14, -20, -15, 20, -15,\n",
    "                    -8, 8, -19, -11, -20, -16, 3, 3, -10, -5, 10,\n",
    "                    24, -1, 1, -10, 6, 10, -6, -14, 25, 8, -11,\n",
    "                    -17, -9, 0, 21, 3, 14, 7, 10, 25, 24, -18, -11,\n",
    "                    2, 29, 17, -6, 6, -11, 2, -18, 20, -15, -11,\n",
    "                    15, -10, 8, -15, 25, -15, 10, 28, -12, 11, 14,\n",
    "                    27, -1, 10, -2, -15, -10, 19, 26, 3, 27]\n",
    "\n",
    "# Affichage des 10 premiers éléments\n",
    "print(une_liste_longue[:10])\n",
    "\n",
    "# Affichage des 10 derniers éléments\n",
    "print(une_liste_longue[-10:])"
   ]
  },
  {
   "cell_type": "markdown",
   "metadata": {
    "deletable": false,
    "dst-cell-id": "a8dd9895-f24e-45b1-854d-8d610f0f2eb9",
    "editable": false,
    "run_control": {
     "frozen": true
    }
   },
   "source": [
    "## Les Listes : Méthodes\n",
    "\n",
    "> Jusqu'à maintenant, nous avons vu comment mettre à jour les éléments d'une liste. Dans la suite, nous verrons comment avoir la taille, ajouter ou supprimer des éléments d'une liste ou encore la fusionner avec une autre.\n",
    ">\n",
    "> Pour cela, nous allons utiliser les **méthodes** **`insert`** et **`pop`**.\n",
    ">\n",
    "> Dans ce qu'on appelle la *Programmation Orientée Objet*, une **méthode** est une fonctionnalitée d'une **classe** d'objets (les listes dans notre cas).\n",
    ">\n",
    "> La méthode **`len`** permet d'obtenir la taille d'une liste : \n",
    ">\n",
    "> ```python\n",
    "> ma_liste = [1, 5, \"Bonjour\", -1.4, \"ça\", 103, \"va\"]\n",
    ">\n",
    "> # Taille de cette liste\n",
    "> len(ma_liste)\n",
    "> >>> 7\n",
    "> ```\n",
    "> La méthode **`pop`** de la classe des listes permet de supprimer un élément d'une liste à l'indice spécifié:\n",
    ">\n",
    "> ```python\n",
    "> # Suppression de l'élément à l'indice 4\n",
    "> ma_liste.pop(4)\n",
    "> ```\n",
    ">\n",
    "> La syntaxe d'utilisation d'une méthode est très spécifique:\n",
    ">\n",
    "> <img src=\"https://assets-datascientest.s3-eu-west-1.amazonaws.com/train/liste_3.png\" style = 'height:200px'>\n",
    ">\n",
    "> * L'objet appelant la méthode doit exister au préalable.\n",
    "> * Le nom de la méthode doit être suivi de **parenthèses** contenant les **arguments** de la méthode. Les arguments vont paramétrer l'éxécution de la méthode.\n",
    "> * Le nom de l'objet et la méthode sont séparés par un point **`.`**.\n",
    ">\n",
    "> La méthode `pop` ne prend qu'**un seul argument**, l'indice de l'élément à supprimer.\n",
    "\n",
    "* Afficher la taille de **ma_liste**.\n",
    "\n",
    "\n",
    "* Enlever les éléments `\"Bonjour\"`, `\"ça\"` et `\"va\"` de la liste `ma_liste` à l'aide de la méthode `pop`. **Attention, les indices de la liste changent une fois qu'un élément a été supprimé**.\n",
    "\n",
    "\n",
    "* Afficher `ma_liste`.\n"
   ]
  },
  {
   "cell_type": "code",
   "execution_count": null,
   "metadata": {
    "dst-cell-id": "cd128fdc-166f-4c2b-b59b-348a6d6dae66"
   },
   "outputs": [],
   "source": [
    "ma_liste = [1, 5, \"Bonjour\", -1.4, \"ça\", 103, \"va\"]\n",
    "\n",
    "# Insérez votre code ici\n",
    "\n",
    "\n"
   ]
  },
  {
   "cell_type": "code",
   "execution_count": null,
   "metadata": {
    "deletable": false,
    "dst-cell-id": "b4f0624b-41fb-4286-99f0-99cbd740df99",
    "editable": false,
    "function": "solution"
   },
   "outputs": [],
   "source": [
    "ma_liste = [1, 5, \"Bonjour\", -1.4, \"ça\", 103, \"va\"]\n",
    "\n",
    "print(len(ma_liste))\n",
    "\n",
    "# Suppression de \"Bonjour\" qui se trouve à la 3ème position\n",
    "ma_liste.pop(2)\n",
    "\n",
    "# Suppression de \"ça\" qui se trouve maintenant à la 4ème position\n",
    "ma_liste.pop(3)\n",
    "\n",
    "# Suppression de \"va\" qui se trouve en dernière position\n",
    "ma_liste.pop(-1)\n",
    "\n",
    "\n",
    "# Affichage de la liste\n",
    "print(ma_liste)"
   ]
  },
  {
   "cell_type": "markdown",
   "metadata": {
    "deletable": false,
    "dst-cell-id": "cf0044a8-03ff-492d-a7f2-e3201889c746",
    "editable": false,
    "run_control": {
     "frozen": true
    }
   },
   "source": [
    "> Afin d'ajouter une nouvelle valeur à une liste, nous pouvons utiliser la méthode **`insert`** qui prend **2 arguments**:\n",
    ">\n",
    "> * Le premier est l'indice où nous voulons insérer la valeur.\n",
    "> * Le deuxième est la valeur que nous voulons insérer.\n",
    ">\n",
    "> ```python\n",
    "> # Insertion de la valeur \"Hello\" à l'indice 2\n",
    "> ma_liste.insert(2, \"Hello\")\n",
    "> ```\n",
    ">\n",
    "> Lorsqu'une méthode prend plusieurs arguments, ils doivent être séparés par une **virgule**.\n",
    "\n",
    "* Enlever **tous les nombres** de la liste `ma_liste` à l'aide de la méthode `pop`.\n",
    "\n",
    "\n",
    "* Insérer dans la liste `ma_liste` les éléments `\"Hello\"`, `\"how\"`, `\"are\"` et `\"you\"` aux indices appropriés afin que l'affichage de `ma_liste` soit:\n",
    "```\n",
    "[\"Bonjour\", \"Hello\", \"comment\", \"how\", \"ça\", \"are\", \"va\", \"you\"]\n",
    "```\n",
    "\n",
    "<div class=\"alert alert-info\">\n",
    "<i class=\"fa fa-info-circle\"></i> &emsp; \n",
    "    Vous pouvez relancer la cellule à l'aide du raccourci clavier Ctrl+Entrée au fur et à mesure que vous définissez des instructions pour voir les changements que vous apportez.\n",
    "</div>\n"
   ]
  },
  {
   "cell_type": "code",
   "execution_count": null,
   "metadata": {
    "dst-cell-id": "7b7042b1-ecfb-477d-b889-d43daf85f2cb"
   },
   "outputs": [],
   "source": [
    "ma_liste = [1, 5, \"Bonjour\", -1.4, \"comment\", \"ça\", 103, \"va\"]\n",
    "\n",
    "# Insérez votre code ici\n",
    "\n",
    "\n",
    "\n",
    "# Affichage de la liste\n",
    "print(ma_liste)"
   ]
  },
  {
   "cell_type": "code",
   "execution_count": null,
   "metadata": {
    "deletable": false,
    "dst-cell-id": "e97016d5-018a-43ce-b94a-b4abc03b6183",
    "editable": false,
    "function": "solution"
   },
   "outputs": [],
   "source": [
    "ma_liste = [1, 5, \"Bonjour\", -1.4, \"comment\", \"ça\", 103, \"va\"]\n",
    "\n",
    "# Suppression des nombres\n",
    "ma_liste.pop(0)\n",
    "ma_liste.pop(0)\n",
    "ma_liste.pop(1)\n",
    "ma_liste.pop(-2)\n",
    "\n",
    "# Insertion des éléments \"Hello\", \"how\", \"are\" et \"you\"\n",
    "ma_liste.insert(1, \"Hello\")\n",
    "ma_liste.insert(3, \"how\")\n",
    "ma_liste.insert(5, \"are\")\n",
    "ma_liste.insert(7, \"you\")\n",
    "\n",
    "# Affichage de la liste\n",
    "print(ma_liste)"
   ]
  },
  {
   "cell_type": "markdown",
   "metadata": {
    "deletable": false,
    "dst-cell-id": "7d715248-ca5f-4d01-9e96-fc0b98401eac",
    "editable": false,
    "run_control": {
     "frozen": true
    }
   },
   "source": [
    "> Il est possible d'ajouter un élément directement **à la fin** d'une liste à l'aide de la méthode **`append`**. \n",
    "> \n",
    "> ```python\n",
    "> # Ajout de l'élément \"Au revoir\" à la fin de la liste\n",
    "> ma_liste.append(\"Au revoir\")\n",
    ">```\n",
    "> Cette méthode est très souvent utilisée lorsqu'une liste est allongée petit à petit. Par exemple, lorsque nous voulons stocker les valeurs prises par une variable au cours du temps.\n",
    "\n",
    "* Lancer la cellule suivante pour créer une variable `x` de valeur `0` et une liste dont l'élément unique sera `x`."
   ]
  },
  {
   "cell_type": "code",
   "execution_count": null,
   "metadata": {
    "dst-cell-id": "ec26b856-77b1-42a8-babc-1f6222dc5a53"
   },
   "outputs": [],
   "source": [
    "x = 0\n",
    "une_liste = [x]"
   ]
  },
  {
   "cell_type": "markdown",
   "metadata": {
    "deletable": false,
    "dst-cell-id": "1dd44df9-3087-4539-819d-ebbd7fbdaa0e",
    "editable": false,
    "run_control": {
     "frozen": true
    }
   },
   "source": [
    "> Nous pouvons maintenant modifier `x` et stocker la nouvelle valeur de `x` dans la liste.\n",
    "\n",
    "* Lancer la cellule suivante plusieurs fois:\n",
    "    * La valeur de `x` est incrémentée de 1.\n",
    "    * La nouvelle valeur de `x` est ajoutée à la fin de la liste `une_liste`."
   ]
  },
  {
   "cell_type": "code",
   "execution_count": null,
   "metadata": {
    "dst-cell-id": "123b7c21-21d7-477d-aa78-4cdd2a9baebf"
   },
   "outputs": [],
   "source": [
    "x = x + 1\n",
    "une_liste.append(x)\n",
    "print(une_liste)"
   ]
  },
  {
   "cell_type": "markdown",
   "metadata": {
    "deletable": false,
    "dst-cell-id": "f892a4b1-c2a0-4396-a8e4-093bd60c646f",
    "editable": false,
    "run_control": {
     "frozen": true
    }
   },
   "source": [
    "> Pour fusionner deux listes, nous pouvons utiliser la méthode `extend`. L'argument de la méthode `extend` est une liste d'éléments que nous voulons ajouter à la fin de la liste appelant la méthode.\n",
    ">\n",
    "> Il est aussi possible d'utiliser l'opérateur `+`, mais il n'est pas recommandé de l'utiliser car il peut rajouter de l'ambiguïté dans le code lorsque ne nous ne sommes pas sûrs de travailler avec des nombres ou des listes."
   ]
  },
  {
   "cell_type": "code",
   "execution_count": null,
   "metadata": {
    "dst-cell-id": "c8ced01c-0dae-448a-9058-5b5868f3e2cc"
   },
   "outputs": [],
   "source": [
    "### Fusion de 2 listes avec la méthode extend\n",
    "\n",
    "liste_1 = [\"Bonjour\", \"comment\", \"ça\", \"va\", \"?\"]\n",
    "liste_2 = [\"Bien\", \"et\", \"toi\", \"?\"]\n",
    "\n",
    "# Ajout des éléments de liste_2 à la fin de liste_1\n",
    "liste_1.extend(liste_2)\n",
    "\n",
    "# Affichage de liste_1\n",
    "print(liste_1)\n",
    "\n",
    "### Fusion de 2 listes avec l'opérateur +\n",
    "\n",
    "liste_1 = [\"Bonjour\", \"comment\", \"ça\", \"va\", \"?\"]\n",
    "liste_2 = [\"Bien\", \"et\", \"toi\", \"?\"]\n",
    "\n",
    "# Ajout des éléments de liste_2 à la fin de liste_1\n",
    "liste_1 = liste_1 + liste_2\n",
    "print(liste_1)"
   ]
  },
  {
   "cell_type": "markdown",
   "metadata": {
    "deletable": false,
    "dst-cell-id": "5c2fe47a-5d3e-4dac-aa16-20b83d357f73",
    "editable": false,
    "run_control": {
     "frozen": true
    }
   },
   "source": [
    "> La classe des listes contient encore d'autres méthodes. Les méthodes que nous avons vues jusqu'à maintenant sont récapitulées dans le tableau ci-dessous:\n",
    ">\n",
    "> | Méthode | Argument | Description |\n",
    "> | --- | --- | --- |\n",
    "> | **pop** | indice | Enlève l'élément de la liste se trouvant à l'indice renseigné |\n",
    "> | **insert** | indice, valeur | Ajoute un nouvel élément à la liste à l'indice renseigné |\n",
    "> | **append** | valeur | Ajoute la valeur à la fin de la liste |\n",
    "> | **extend** | liste | Fusionne la liste appelant la méthode avec la liste en argument |\n",
    ">\n",
    "> Toutes les classes d'objets contiennent des méthodes pour les manipuler. Les notions de classes d'objets et de méthodes seront approfondies plus tard dans votre formation, mais elles forment le **coeur** de la programmation de haut niveau avec Python.\n",
    "\n",
    "<hr style=\"border-width:2px;border-color:#75DFC1\">\n",
    "<center><H2>Les Dictionnaires</H2></center>\n",
    "<hr style=\"border-width:2px;border-color:#75DFC1\">\n",
    "\n",
    "\n",
    "> Les listes sont des structures de données dont les éléments sont indexés par des **nombres entiers** de manière **ordonnée**.\n",
    ">\n",
    "> Les dictionnaires sont une structure de données très particulière car les éléments d'un dictionnaire peuvent être **indexés** librement par des **nombres** ou des **chaînes de caractères**.\n",
    ">\n",
    "> Les dictionnaires sont très utiles pour stocker des informations:\n",
    ">\n",
    "> ```python\n",
    "> # Définition d'un dictionnaire\n",
    "> un_dict = {\"age\" : 25, \"taille\" : 183, \"sexe\" : \"F\", \"prenom\" : \"Vanessa\"}\n",
    ">\n",
    "> # Affichage des éléments\n",
    "> print(un_dict[\"age\"])\n",
    "> print(un_dict[\"prenom\"])\n",
    "> ```\n",
    ">\n",
    "> <br> <br>\n",
    ">\n",
    "> <img src=\"https://assets-datascientest.s3-eu-west-1.amazonaws.com/train/dict_1.png\" style = \"height:250px\">\n",
    ">\n",
    "> <br> <br>\n",
    ">\n",
    "> * La définition d'un dictionnaire se fait **entre accolades**.\n",
    "> * Chaque élément du dictionnaire est un couple **`clé : valeur`**.\n",
    "> * L'accès aux informations du dictionnaire se fait en utilisant les **clés** comme **indice**.\n",
    ">\n",
    "> Nous pouvons récapituler les informations contenues dans ce dictionnaire dans le tableau suivant:\n",
    ">\n",
    "> | Clé        |      Valeur |\n",
    "> | ---------- | ----------- | \n",
    "> |`\"age\"`     | `25`        |\n",
    "> |`\"taille\"`  | `183`       |\n",
    "> | `\"sexe\"`   | `\"F\"`       |\n",
    "> | `\"prenom\"` | `\"Vanessa\"` |\n",
    "> \n",
    ">\n",
    "> Cette structure de données est beaucoup plus flexible que celle des listes et que celle des tableaux `Excel`. Pour cette raison, les syntaxes de création et d'indexation des dictionnaires seront très souvent utilisées lorsque nous manipulerons des bases de données.\n",
    "\n",
    "* Créer et afficher un dictionnaire `carte_id` avec les clés-valeurs suivantes:\n",
    "\n",
    "| Clé          | Valeur       |\n",
    "| ------------ | ------------ | \n",
    "| `\"prenom\"`   | `\"paul\"`     |\n",
    "| `\"nom\"`      | `\"lefebvre\"` |\n",
    "| `\"emission\"` | `1978`       |\n",
    "\n",
    "* Mettre à jour la valeur associée à la clé `\"prenom\"` avec la valeur `\"guillaume\"` et afficher le nouveau dictionnaire `carte_id`."
   ]
  },
  {
   "cell_type": "code",
   "execution_count": null,
   "metadata": {
    "dst-cell-id": "289a4f58-9a4d-4f42-af34-725719e339db"
   },
   "outputs": [],
   "source": [
    "# Insérez votre code ici\n",
    "\n"
   ]
  },
  {
   "cell_type": "code",
   "execution_count": null,
   "metadata": {
    "deletable": false,
    "dst-cell-id": "8abda0f6-5840-4f0a-8a14-a6ef59d3f3ab",
    "editable": false,
    "function": "solution"
   },
   "outputs": [],
   "source": [
    "# Création du dictionnaire\n",
    "carte_id = {\"prenom\":\"paul\", \"nom\":\"lefebvre\", \"emission\":1978}\n",
    "print(carte_id)\n",
    "\n",
    "# Mis à jour d'un champ du dictionnaire\n",
    "carte_id[\"prenom\"] = \"guillaume\"\n",
    "print(carte_id)"
   ]
  },
  {
   "cell_type": "markdown",
   "metadata": {
    "deletable": false,
    "dst-cell-id": "3cc08760-9580-450a-9f0f-617db8abf8b8",
    "editable": false,
    "run_control": {
     "frozen": true
    }
   },
   "source": [
    "> Il est possible de **rajouter** de nouvelles clés à notre dictionnaire très facilement en assignant une valeur à une nouvelle clé:\n",
    "> ```python\n",
    "> # Ajout d'une nouvelle clé au dictionnaire\n",
    "> un_dict[\"nouvelle clé\"] = une_valeur\n",
    "> ```\n",
    ">\n",
    "> Comme pour les listes, il est possible de supprimer un élément à l'aide de la méthode **`pop`**. Au lieu de spécifier l'indice à supprimer, il faut renseigner la **clé**:\n",
    ">\n",
    "> ```python\n",
    "> # Suppression de la clé \"une clé\"\n",
    "> un_dict.pop(\"une clé\")\n",
    "> ```\n",
    "\n",
    "\n",
    "* Ajouter une nouvelle clé `\"expiration\"` au dictionnaire `carte_id` en lui assignant la valeur `1993` et l'afficher.\n",
    "\n",
    "\n",
    "* Quelle a été la durée de validité de la carte?"
   ]
  },
  {
   "cell_type": "code",
   "execution_count": null,
   "metadata": {
    "dst-cell-id": "10102ae9-f29b-4d93-bfa2-c7f0df284159"
   },
   "outputs": [],
   "source": [
    "# Insérez votre code ici\n",
    "\n"
   ]
  },
  {
   "cell_type": "code",
   "execution_count": null,
   "metadata": {
    "deletable": false,
    "dst-cell-id": "e9f980f1-b3fc-4cbc-946f-53bd63a0fd90",
    "editable": false,
    "function": "solution"
   },
   "outputs": [],
   "source": [
    "# Création d'une nouvelle clé \n",
    "carte_id[\"expiration\"] = 1993\n",
    "print(carte_id)\n",
    "\n",
    "# Calcul de la durée de validité de la carte\n",
    "duree_validite = carte_id[\"expiration\"] - carte_id[\"emission\"]\n",
    "print(\"La durée de validité de la carte a été de\", duree_validite, \"ans.\")"
   ]
  },
  {
   "cell_type": "markdown",
   "metadata": {
    "deletable": false,
    "dst-cell-id": "edadc2c3-e632-4b79-a4de-bcf7bd5368b1",
    "editable": false,
    "run_control": {
     "frozen": true
    }
   },
   "source": [
    "## Conclusion\n",
    "\n",
    ">Les listes et les dictionnaires sont des variables **indexables** comme les colonnes `Excel` et peuvent contenir de nombreux éléments différents. Ces structures de données sont très flexibles car elles peuvent être mises à jour et manipulées très facilement.\n",
    ">\n",
    "> Dans ce notebook introductif, nous avons appris à les manipuler car la syntaxe que nous avons utilisée sera la même pour **tous** les objets indexables que nous utiliserons dans cette formation, dont particulièrement les **bases de données**.\n",
    ">\n",
    "> * L'accès aux éléments d'une variables de type indexable se fait par l'intermédiaire de crochets **`[ ]`** en indiquant : \n",
    "    >  *  Pour les listes: l'**indice** de la **position**. Les indices d'une liste commencent toujours par **0**. Il est aussi possible d'accéder à plusieurs indices grâce au **slicing** (découpage).\n",
    "    >  * Pour les dictionnaires : la **clé**.\n",
    ">\n",
    "> Chaque type indexable a son symbole spécifique pour sa création :\n",
    ">    * pour une **liste**, on utilise les **crochets** : **`[ ]`**\n",
    ">    * pour un dictionnaire, les **accolades** : **`{ }`** \n",
    ">\n",
    "> Tous ces types sont en fait des **classes** d'objets. Il est possible d'intéragir avec ces classes avec plus de profondeur  grâce à leurs **méthodes**.\n",
    ">\n",
    "> Nous avons vu certaines méthodes de la classe des listes pour utiliser davantage de fonctionnalités de cette classe:\n",
    ">\n",
    "> | Méthode | Argument | Description |\n",
    "> | --- | --- | --- |\n",
    "> | **pop** | indice | Enlève l'élément de la liste se trouvant à l'indice renseigné |\n",
    "> | **insert** | indice, valeur | Ajoute un nouvel élément à la liste à l'indice renseigné |\n",
    "> | **append** | valeur | Ajoute la valeur à la fin de la liste |\n",
    "> | **extend** | liste | Fusionne la liste appelant la méthode avec la liste en argument |"
   ]
  }
 ],
 "metadata": {
  "hide_input": false,
  "kernelspec": {
   "display_name": "Python 3",
   "language": "python",
   "name": "python3"
  },
  "language_info": {
   "codemirror_mode": {
    "name": "ipython",
    "version": 3
   },
   "file_extension": ".py",
   "mimetype": "text/x-python",
   "name": "python",
   "nbconvert_exporter": "python",
   "pygments_lexer": "ipython3",
   "version": "3.8.3"
  },
  "latex_envs": {
   "LaTeX_envs_menu_present": true,
   "autoclose": false,
   "autocomplete": true,
   "bibliofile": "biblio.bib",
   "cite_by": "apalike",
   "current_citInitial": 1,
   "eqLabelWithNumbers": true,
   "eqNumInitial": 1,
   "hotkeys": {
    "equation": "Ctrl-E",
    "itemize": "Ctrl-I"
   },
   "labels_anchors": false,
   "latex_user_defs": false,
   "report_style_numbering": false,
   "user_envs_cfg": false
  },
  "nbTranslate": {
   "displayLangs": [],
   "hotkey": "alt-t",
   "langInMainMenu": true,
   "sourceLang": "fr",
   "targetLang": "en",
   "useGoogleTranslate": true
  },
  "owner": "DataScientest"
 },
 "nbformat": 4,
 "nbformat_minor": 2
}
