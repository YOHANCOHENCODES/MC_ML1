{
 "cells": [
  {
   "cell_type": "markdown",
   "metadata": {
    "deletable": false,
    "editable": false,
    "run_control": {
     "frozen": true
    }
   },
   "source": [
    "<img src=\"https://datascientest.fr/train/assets/logo_datascientest.png\" style=\"height:150px\">\n",
    "\n",
    "<hr style=\"border-width:2px;border-color:#75DFC1\">\n",
    "<center><H1>Introduction à Python</H1></center>\n",
    "<center><H2>Les fonctions</H2></center>\n",
    "<hr style=\"border-width:2px;border-color:#75DFC1\">\n",
    "\n",
    "## Introduction\n",
    "\n",
    ">Une fonction en **Python** est un bloc d'instructions réutilisable qui sert à effectuer une opération bien précise.\n",
    ">\n",
    ">Nous avons déjà vu des exemples de fonctions prédéfinies dans **Python** comme :\n",
    ">\n",
    ">> La fonction **print** : Permet d'afficher un objet.\n",
    ">>\n",
    ">> La fonction **range** : Permet de créer une suite de nombre entiers.\n",
    ">\n",
    ">\n",
    "> Nous ne connaissons pas le code exact à l'intérieur de ces fonctions. Pourtant nous sommes capables de prévoir leur résultat. Ceci est dû au fait que leur résultat dépend uniquement des paramètres (ou arguments) qui leur sont donnés en entrée.\n",
    ">\n",
    "> La syntaxe pour la définition d’une fonction est la suivante :\n",
    ">\n",
    "> ```python \n",
    "> def ma_fonction(paramètres):\n",
    ">    # Bloc d'instructions\n",
    ">     ...\n",
    ">     ...\n",
    ">     ...\n",
    ">    # Le resultat de la fonction est donné par la variable sortie\n",
    ">     return sortie\n",
    "> ```\n",
    ">\n",
    "> Vous pouvez choisir n’importe quel nom pour la fonction que vous créez, à l’exception des mots-clés réservés du langage, et à la condition de n’utiliser aucun caractère spécial ou accentué **(le caractère souligné « _ » est permis)**.\n",
    "> \n",
    "> **Le corps de la fonction** : \n",
    "> \n",
    "> Lorsque vous définissez une fonction, elle doit contenir un bloc d'instruction à éxécuter. Ces instructions peuvent correspondre à de simples calculs mais peuvent aussi faire référence aux instructions **if**, **else**, **elif** ou encore les boucles **for** et **while** vues précedemment.\n",
    ">\n",
    "> De plus, la fonction doit obligatoirement renvoyer un objet. Le mot-clé **return** définit le résultat de la fonction. Ce mot-clé fixe aussi la fin de l'exécution de la fonction. Tout ce qui suit dans la définition de la fonction ne sera pas exécuté.\n",
    ">\n",
    "> Cela permettera par la suite de récupérer un ou plusieurs éléments de l'objet renvoyé. Il est également possible d'utiliser un **print** afin que la fonctions puisse renvoyer un objet mais ce dernier ne sera pas récupérable, réutilisable directement par la suite. \n",
    ">\n",
    "> **Exemples :**\n",
    "> ```python\n",
    "> # Fonction permettant de renvoyer le taux de variation entre deux valeurs\n",
    ">\n",
    ">def variation(valeur_initiale,valeur_finale):\n",
    ">\n",
    ">     taux_de_variation = ((valeur_initiale - valeur_finale)/valeur_initiale) * 100 \n",
    ">     return taux_de_variation\n",
    ">\n",
    "> variation(2000,1000)\n",
    "> >>> 100.0\n",
    ">\n",
    "> # Fonction qui renvoie la somme des éléments d'une liste\n",
    ">\n",
    "> def somme(liste):\n",
    ">\n",
    ">     s = 0 # On initialise la somme à 0\n",
    ">     for element in liste: \n",
    ">         s+=element\n",
    ">     return(s)\n",
    ">\n",
    "> somme([1,2,3])\n",
    "> >>> 6\n",
    "> ```\n",
    ">\n",
    "> ```python\n",
    "> # Fonction qui renvoie le produit des élements d'une liste donnée en entreé.\n",
    "> \n",
    "> def prod(liste):\n",
    ">\n",
    ">     p = 1 # On initialise le produit à 1\n",
    ">     for element in liste: \n",
    ">         p*=element\n",
    ">     return(p)\n",
    ">\n",
    "> prod([0,1,2])\n",
    "> >>> 2\n",
    "> prod([0,1,2])\n",
    "> >>> 0\n",
    "> ```\n",
    ">\n",
    "* Définir une fonction nommée **suite** qui prend en entrée un nombre entier **n** et qui renvoie les **n** premiers termes de la suite\n",
    "$u(n) : n -> n^2 + 2$.\n",
    "\n",
    "\n",
    "* Afficher les **10** premiers termes de cette suite.\n"
   ]
  },
  {
   "cell_type": "code",
   "execution_count": null,
   "metadata": {},
   "outputs": [],
   "source": [
    "## Insérez votre code ici\n",
    "\n"
   ]
  },
  {
   "cell_type": "code",
   "execution_count": null,
   "metadata": {
    "deletable": false,
    "editable": false
   },
   "outputs": [],
   "source": [
    "def suite(n):\n",
    "    liste = []\n",
    "    for i in range(n):\n",
    "        liste.append(i**2+2)\n",
    "    return liste\n",
    "\n",
    "\n",
    "suite(10)"
   ]
  },
  {
   "cell_type": "markdown",
   "metadata": {
    "deletable": false,
    "editable": false,
    "run_control": {
     "frozen": true
    }
   },
   "source": [
    "> Si une fonction renvoie différents objets. Ils sont récupérables à l'aide des indices de la liste d'objets renvoyés : \n",
    "> ```python \n",
    "> # Fonction qui renvoie le double et le triple d'un nombre donné en entrée\n",
    ">\n",
    "> def double_triple(x):\n",
    ">     return(x*2,x*3)\n",
    ">\n",
    "> double_triple(10)\n",
    "> >>> (20,30)\n",
    "> double_triple(10)[0]\n",
    "> >>> 20\n",
    "> double_triple(10)[1]\n",
    "> >>> 30 \n",
    "> ```\n",
    "\n",
    "* Définir la fonction **puissance** qui prend en entrée un nombre réel **x** et qui renvoie les quatres premières puissances de ce nombre (de 1 à 4).\n",
    "\n",
    "\n",
    "* Afficher la somme des puissances de 10 en utilisant les objets renvoyés par la fonction."
   ]
  },
  {
   "cell_type": "code",
   "execution_count": null,
   "metadata": {},
   "outputs": [],
   "source": [
    "## Insérez votre code ici\n",
    "\n"
   ]
  },
  {
   "cell_type": "code",
   "execution_count": null,
   "metadata": {
    "deletable": false,
    "editable": false
   },
   "outputs": [],
   "source": [
    "def puissance(x):\n",
    "    return(x, x**2, x**3, x**4)\n",
    "\n",
    "\n",
    "somme = puissance(10)[0] + puissance(10)[1] + \\\n",
    "    puissance(10)[2] + puissance(10)[3]\n",
    "\n",
    "somme"
   ]
  },
  {
   "cell_type": "markdown",
   "metadata": {
    "deletable": false,
    "editable": false,
    "run_control": {
     "frozen": true
    }
   },
   "source": [
    "> Il est égalmement important de savoir qu'une fonction peut prendre en compte des arguments fixés à l'avance.\n",
    "> Si la valeur d'un des arguments de la fonction est déterminé à l'avance, lors de l'exécution de la fonction, si aucune autre valeur n'est renseignée, c'est celle par défaut qui sera appliquée. \n",
    ">\n",
    "> ```python \n",
    "> # Exemple de fonction avec un argument fixé\n",
    "> def suite(n=10):\n",
    ">     liste = []\n",
    ">     for i in range(n):\n",
    ">         liste.append(i**2+2)\n",
    ">     return(liste)\n",
    ">\n",
    "> suite()\n",
    "> >>> [2, 3, 6, 11, 18, 27, 38, 51, 66, 83]\n",
    "> suite(3)\n",
    "> >>> [2, 3, 6]\n",
    "> ```\n",
    "> Il est également possible de ne pas rentrer d'arguments dans une fonction. Cette dernière ne fera qu'exécuter le bloc d'instruction qui s'y trouve lors de son appel.\n",
    "> ```python\n",
    "> def suite():\n",
    ">     liste = []\n",
    ">     for i in range(5):\n",
    ">         liste.append(i**2+2)\n",
    ">     return(liste)\n",
    ">\n",
    "> suite()\n",
    "> >>> [2, 3, 6, 11, 18]\n",
    "> ```\n",
    "> L'inconvéniant de cette méthode est que la fonction n'est pas paramétrable simplement. Dans le cas ci-dessus, elle est facilement modifiable mais il suffit que la fonction soit un peu plus complexe et qu'elle dépende de plusieurs paramètres et il devient rapidement difficile de s'en sortir. Ainsi, il vaut mieux favoriser les fonctions avec des arguments.\n",
    ">\n",
    "\n",
    "* Définir une fonction qui permet de faire la somme des produits 2 à 2 des éléments de deux listes (équivalent à un **SOMMEPROD** sur **Excel**).  Cette fonction prendra alors deux arguments. Un premier qui sera une liste de votre choix et une deuxième qui sera une liste prédéfinie : **[1.5, 2, 3, 1, 2]**.\n",
    "\n",
    "\n",
    "* Afficher le résulat avec la liste de votre choix."
   ]
  },
  {
   "cell_type": "code",
   "execution_count": null,
   "metadata": {},
   "outputs": [],
   "source": [
    "## Insérez votre code ici\n",
    "\n"
   ]
  },
  {
   "cell_type": "code",
   "execution_count": null,
   "metadata": {
    "deletable": false,
    "editable": false
   },
   "outputs": [],
   "source": [
    "def somme_prod(liste_1, liste_2=[1.5, 2, 3, 1, 2]):\n",
    "\n",
    "    somme_prod = 1\n",
    "\n",
    "    for l1, l2 in zip(liste_1, liste_2):\n",
    "\n",
    "        somme_prod += l1*l2\n",
    "\n",
    "    return(somme_prod)\n",
    "\n",
    "\n",
    "somme_prod([1, 2, 3, 4, 5])"
   ]
  },
  {
   "cell_type": "markdown",
   "metadata": {
    "deletable": false,
    "editable": false,
    "run_control": {
     "frozen": true
    }
   },
   "source": [
    "> Comme vous avez pu le voir, les fonctions prédéfinies comme **range**, **print** sont utilisables dans vos fonctions, boucles ... C'est le cas aussi pour les fonction que vous définissez. \n",
    ">\n",
    ">```python \n",
    "> ## Fonction permettant de calculer les termes de la suites u(n) précédente \n",
    ">def suite(n):\n",
    ">     liste = []\n",
    ">     for i in range(n):\n",
    ">        liste.append(i**2+2)\n",
    ">     return(liste)\n",
    ">\n",
    "> ## Fonction permettant de calculer le produit des termes d'une suite\n",
    "> def produit_suite(n):\n",
    ">     p=1\n",
    ">     for element in suite(n) :\n",
    ">         p*=element\n",
    ">     return(p)\n",
    "> ```\n",
    ">\n",
    ">  Définir une fonction **somme** qui somme les éléments d'une liste donnée.\n",
    "\n",
    "\n",
    "* Définir une fonction moyenne qui à l'aide des fonctions **somme_prod** et **somme** permet de calculer la moyenne général d'un élève qui renseigne ses notes dans la fonction et auxquelles sont appliquées les coefficients : [1.5, 2, 3, 1, 2] "
   ]
  },
  {
   "cell_type": "code",
   "execution_count": null,
   "metadata": {},
   "outputs": [],
   "source": [
    "## Insérez votre code ici\n",
    "\n",
    "\n"
   ]
  },
  {
   "cell_type": "code",
   "execution_count": null,
   "metadata": {
    "deletable": false,
    "editable": false
   },
   "outputs": [],
   "source": [
    "def somme(liste):\n",
    "    s = 0\n",
    "    for element in liste:\n",
    "        s += element\n",
    "    return(s)\n",
    "\n",
    "\n",
    "def moyenne(liste_1, liste_2=[1.5, 2, 3, 1, 2]):\n",
    "\n",
    "    moyenne = somme_prod(liste_1, liste_2)/somme(liste_2)\n",
    "\n",
    "    return(moyenne)\n",
    "\n",
    "moyenne([11,13,16.5,10,9])"
   ]
  },
  {
   "cell_type": "markdown",
   "metadata": {
    "deletable": false,
    "editable": false,
    "run_control": {
     "frozen": true
    }
   },
   "source": [
    "## Conclusion & récapitulatif \n",
    "\n",
    "> * Les fonctions vont vous permettre de réaliser des taches plus ou moins complexes de manière automatisé.\n",
    ">\n",
    ">\n",
    "> * Pour définir une fonction, il suffit de respecter la syntaxe suivante : \n",
    "> ```python \n",
    "> def ma_fonction(paramètres):\n",
    ">    # Bloc d'instructions\n",
    ">     ...\n",
    ">     ...\n",
    ">     ...\n",
    ">    # Le resultat de la fonction est donné par la variable sortie\n",
    ">     return sortie\n",
    "> ```\n",
    ">\n",
    "> * Il est obligatoire de renvoyer un objet dans votre fonction grâce au **`return`**.\n",
    ">\n",
    ">\n",
    "> * Le **`return`** peut renvoyer plusieurs objets.\n",
    ">\n",
    ">\n",
    "> * Les fonctions que vous définissez sont réutilisable dans d'autres fonctions comme les fonctions natives de **Python**."
   ]
  }
 ],
 "metadata": {
  "kernelspec": {
   "display_name": "Python 3",
   "language": "python",
   "name": "python3"
  },
  "language_info": {
   "codemirror_mode": {
    "name": "ipython",
    "version": 3
   },
   "file_extension": ".py",
   "mimetype": "text/x-python",
   "name": "python",
   "nbconvert_exporter": "python",
   "pygments_lexer": "ipython3",
   "version": "3.8.3"
  }
 },
 "nbformat": 4,
 "nbformat_minor": 4
}
