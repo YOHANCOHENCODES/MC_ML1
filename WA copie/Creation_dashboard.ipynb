{
 "cells": [
  {
   "cell_type": "markdown",
   "metadata": {
    "deletable": false,
    "editable": false,
    "run_control": {
     "frozen": true
    }
   },
   "source": [
    "<img src=\"https://datascientest.fr/train/assets/logo_datascientest.png\" style=\"height:150px\">\n",
    "\n",
    "<hr style=\"border-width:2px;border-color:#75DFC1\">\n",
    "<center><h1> Création de Dashboard </h1></center>\n",
    "<hr style=\"border-width:2px;border-color:#75DFC1\">\n",
    "\n",
    "# Partie I\n",
    "> Dans ce premier exercice, nous nous intéresserons aux jeux de données **private_data** et **final_stamp**.\n",
    ">\n",
    "> Ces données sont issues d'une plateforme qui a pour but d'analyser les données en provenance de sites e-commerce basés au Vietnam **([Lazada](https://www.lazada.com.my/) et [Shopee](https://shopee.com/))**.\n",
    ">\n",
    "> Le premier que nous allons analyser est le jeux de données **private_data**.\n",
    ">\n",
    "> **En voici une description :**\n",
    ">\n",
    ">> * **`date`** : Date de la transaction au format **Annee/Mois/Jour**.\n",
    ">>\n",
    ">> * **`quantity`** : Quantité du produit vendu.\n",
    ">>\n",
    ">> * **`order_count`** : Panier de l'acheteur.\n",
    ">>\n",
    ">> * **`average_retail_price`** : Prix de vente du produit avant promotion (Prix barré).\n",
    ">>\n",
    ">> * **`average_selling_price`** : prix de vente du produit apres promotion (Prix appliqué).\n",
    ">>\n",
    ">> * **`marketplace`** : Plateforme de vente du produit **(LAZ : Lazada / SHP : Shopee)**.\n",
    ">>\n",
    ">> * **`seller_id`** : Identifiant du revendeur.\n",
    ">>\n",
    ">> * **`product_id`** : Identifiant unique du produit vendu.\n",
    ">>\n",
    ">> * **`variation_id`** : Identifaint de la déclinaison du produit (Exemple : Crème pour le visage 50ml/100ml)\n",
    ">\n",
    ">Les produits présents sur la plateforme sont des produits cosmétiques. Ce sont donc des produits concurrents.\n",
    "\n",
    "* Importez les packages suivants :"
   ]
  },
  {
   "cell_type": "code",
   "execution_count": null,
   "metadata": {
    "deletable": false,
    "editable": false
   },
   "outputs": [],
   "source": [
    "import pandas as pd\n",
    "import numpy as np\n",
    "import matplotlib.pyplot as plt\n",
    "import seaborn as sns\n",
    "from IPython.display import display"
   ]
  },
  {
   "cell_type": "markdown",
   "metadata": {
    "deletable": false,
    "editable": false,
    "run_control": {
     "frozen": true
    }
   },
   "source": [
    "* **(a)** Dans un premier temps, nous allons lire le jeux de donnéees **`private_data.csv`** dans un **Dataframe** reprenant le même nom.\n",
    "* **(b)** Affichez les premieres lignes de ce **Dataframe**"
   ]
  },
  {
   "cell_type": "code",
   "execution_count": null,
   "metadata": {},
   "outputs": [],
   "source": [
    "## Insérez votre code ici\n",
    "\n"
   ]
  },
  {
   "cell_type": "code",
   "execution_count": null,
   "metadata": {
    "deletable": false,
    "editable": false,
    "scrolled": false
   },
   "outputs": [],
   "source": [
    "# Question a\n",
    "private_data=pd.read_csv('private_data.csv')\n",
    "\n",
    "# Question b \n",
    "private_data.head()"
   ]
  },
  {
   "cell_type": "markdown",
   "metadata": {},
   "source": [
    "\n",
    "\n",
    "* **(c)** Affichez les informations de **private_data**"
   ]
  },
  {
   "cell_type": "code",
   "execution_count": null,
   "metadata": {},
   "outputs": [],
   "source": [
    "## Insérez votre code ici\n",
    "\n"
   ]
  },
  {
   "cell_type": "code",
   "execution_count": null,
   "metadata": {
    "deletable": false,
    "editable": false
   },
   "outputs": [],
   "source": [
    "# Question c \n",
    "private_data.info()"
   ]
  },
  {
   "cell_type": "markdown",
   "metadata": {
    "deletable": false,
    "editable": false,
    "run_control": {
     "frozen": true
    }
   },
   "source": [
    "> Avant de pouvoir réaliser différents graphes sur nos données, il est essentiel de traiter la variable **`date`**. En effet, c'est elle qui va vous permettre par la suite de tracer l'historique de ventes de votre site e-commerce et faire d'autres analyses un peu plus poussées. \n",
    ">\n",
    "> Nous remarquons bien que la variable **`date`** n'est pas au format **Datetime**.\n",
    "\n",
    "* **(d)** Transformez cette variable au bon format à l'aide de la fonction `to_datetime`."
   ]
  },
  {
   "cell_type": "code",
   "execution_count": null,
   "metadata": {},
   "outputs": [],
   "source": [
    "## Insérez votre code ici\n",
    "\n"
   ]
  },
  {
   "cell_type": "code",
   "execution_count": null,
   "metadata": {
    "deletable": false,
    "editable": false
   },
   "outputs": [],
   "source": [
    "# Question d \n",
    "private_data['date']=pd.to_datetime(private_data['date'])"
   ]
  },
  {
   "cell_type": "markdown",
   "metadata": {
    "deletable": false,
    "editable": false,
    "run_control": {
     "frozen": true
    }
   },
   "source": [
    "> Lorsque vous avez un site de ce type, un des éléments les plus importants est **l'évolution des ventes** dans le temps afin d'avoir une vue d'ensemble sur vos données et de pouvoir expliquer certains pics ou chutes de ventes afin de prendre une décision.\n",
    "\n",
    "* **(e)** Dans un premier temps, nous allons stocker dans une série nommée **`values_2019_2020`**, les différentes dates en les regroupant dans l'odre chronologique à l'aide des méthodes **`value_counts()`**puis **`sort_index()`**.\n",
    "* **(f)** A l'aide de la fonction **`plot_date`**de **`matplotlib`**, affichez l'évolution du nombre de ventes."
   ]
  },
  {
   "cell_type": "code",
   "execution_count": null,
   "metadata": {},
   "outputs": [],
   "source": [
    "## Insérez votre code ici\n",
    "\n"
   ]
  },
  {
   "cell_type": "code",
   "execution_count": null,
   "metadata": {
    "deletable": false,
    "editable": false,
    "scrolled": false
   },
   "outputs": [],
   "source": [
    "# Question e \n",
    "values_2019_2020 = private_data['date'].value_counts().sort_index()\n",
    "\n",
    "# Question f\n",
    "plt.figure(figsize=(17, 8))\n",
    "\n",
    "plt.plot_date(values_2019_2020.index, values_2019_2020, linestyle='-',color='blue')\n",
    "\n",
    "plt.title(\"Nombre de ventes par jour\");\n"
   ]
  },
  {
   "cell_type": "markdown",
   "metadata": {
    "deletable": false,
    "editable": false,
    "run_control": {
     "frozen": true
    }
   },
   "source": [
    "> Comme nous pouvons le remarquer, il y a un vide sur une partie de l'année 2019. C'est à ce moment là qu'un expert en **web analytics** doit se poser des questions. Voici une liste **non exhaustive** des possibles raisons de cet événement : \n",
    "* Un **manque de données** sur cette année là.\n",
    "* Une période creuse du à un **événement exeptionnel** **(Ex: Crise sanitaire liée au Covid-19)**.\n",
    "* Des **photographies** de mauvaise qualité sur un produit.\n",
    "* Un problème avec les **fonctionnalités** proposées sur votre site web.\n",
    "* De mauvaises **descriptions** produits.\n",
    ">\n",
    "> **Si ce creu nous pose problème, alors nous allons afficher les ventes qu'à partir de l'année 2020.**\n",
    "\n",
    "* **(g)** Affcihez les ventes seulement sur l'année 2020, en filtrant **`private_data`** seulement sur l'année 2020."
   ]
  },
  {
   "cell_type": "code",
   "execution_count": null,
   "metadata": {},
   "outputs": [],
   "source": [
    "## Insérez votre code ici\n",
    "\n"
   ]
  },
  {
   "cell_type": "code",
   "execution_count": null,
   "metadata": {
    "deletable": false,
    "editable": false
   },
   "outputs": [],
   "source": [
    "# Question g \n",
    "\n",
    "values_2020 = private_data['date'][private_data['date'].dt.year==2020].value_counts().sort_index()\n",
    "\n",
    "plt.figure(figsize=(17, 8))\n",
    "\n",
    "plt.plot_date(values_2020.index, values_2020, linestyle='-',color='blue')\n",
    "\n",
    "plt.title(\"Nombre de ventes par jour\");"
   ]
  },
  {
   "cell_type": "markdown",
   "metadata": {
    "deletable": false,
    "editable": false,
    "run_control": {
     "frozen": true
    }
   },
   "source": [
    "> Nous avons maintenant une vision plus claire de l'**évolution** des ventes sur l'année 2020. En effet, entre les mois de **Janvier** et **Février**, il y a eu une chute alors qu'au mois de **Septembre**, il y a un pique de ventes.\n",
    ">\n",
    ">Nous allons à présent extraire les différentes informations de la date afin d'établir des comptes rendus au niveau **journaliser/Hebdomadaire/Mensuel/Annuel**.\n",
    "\n",
    "* **(h)** Créez des colonnes day/week/month/year sur **`private_data`** à l'aide de la variable **`date`**."
   ]
  },
  {
   "cell_type": "code",
   "execution_count": null,
   "metadata": {},
   "outputs": [],
   "source": [
    "## Insérez votre code ici\n",
    "\n"
   ]
  },
  {
   "cell_type": "code",
   "execution_count": null,
   "metadata": {
    "deletable": false,
    "editable": false
   },
   "outputs": [],
   "source": [
    "# Question h \n",
    "private_data['day']=private_data['date'].dt.weekday\n",
    "private_data['month']=private_data['date'].dt.month\n",
    "private_data['year']=private_data['date'].dt.year\n",
    "private_data['week']=private_data['date'].dt.week\n"
   ]
  },
  {
   "cell_type": "markdown",
   "metadata": {
    "deletable": false,
    "editable": false,
    "run_control": {
     "frozen": true
    }
   },
   "source": [
    "> Maintenant que l'extraction des différents indices temporelles est réalisée, nous allons nous intéresser aux sommes et moyennes de ventes par jour.\n",
    "\n",
    "* **(i)** Créez à l'aide d'un `.groupby`, un nouveau **Dataframe**, **`df_day_sum`** qui reprend la somme des quantités vendus par jour.\n",
    "* **(j)** Faire de même en créant **`df_day_mean`** pour la moyenne des ventes par jour.\n",
    "* **(k)** Affichez les premières lignes de ces deux **Dataframe**.\n",
    "\n",
    "> Attention : N'affichez que les varaibles 'quantity','order_count', 'average_retail_price' et 'average_selling_price'."
   ]
  },
  {
   "cell_type": "code",
   "execution_count": null,
   "metadata": {},
   "outputs": [],
   "source": [
    "## Insérez votre code ici\n",
    "\n"
   ]
  },
  {
   "cell_type": "code",
   "execution_count": null,
   "metadata": {
    "deletable": false,
    "editable": false
   },
   "outputs": [],
   "source": [
    "# Question i \n",
    "df_day_sum=private_data.groupby('day').sum().iloc[:,:4]\n",
    "\n",
    "# Question j \n",
    "df_day_mean=private_data.groupby('day').mean().iloc[:,:4]\n",
    "\n",
    "# Question k \n",
    "display(df_day_sum.head())\n",
    "\n",
    "display(df_day_mean.head())"
   ]
  },
  {
   "cell_type": "markdown",
   "metadata": {
    "deletable": false,
    "editable": false,
    "run_control": {
     "frozen": true
    }
   },
   "source": [
    "* **(l)** A l'aide d'un graphique en barre et d'un camembert, affichez le nombre de ventes par jour pour les deux plateformes et leurs revendeurs. (Sur une même grille) "
   ]
  },
  {
   "cell_type": "code",
   "execution_count": null,
   "metadata": {},
   "outputs": [],
   "source": [
    "## Insérez votre code ici\n",
    "\n"
   ]
  },
  {
   "cell_type": "code",
   "execution_count": null,
   "metadata": {
    "deletable": false,
    "editable": false
   },
   "outputs": [],
   "source": [
    "# Question l\n",
    "\n",
    "fig, axes = plt.subplots(1, 2, figsize=(15, 5)) # Taille de la figure et création de la grille\n",
    "\n",
    "\n",
    "sns.barplot(ax=axes[0], x=df_day_sum.index, y=df_day_sum.quantity) # barplot\n",
    "\n",
    "axes[0].set_title('Nombre de ventes par jour'); # Titre\n",
    "\n",
    "\n",
    "\n",
    "axes[1].pie(df_day_sum.quantity,radius=1.5,labels=['Lundi','Mardi','Mercredi','Jeudi'\n",
    "                                                   ,'Vendredi','Samedi','Dimanche']\n",
    "                                                   ,autopct='%1.0f%%',labeldistance=1.1,pctdistance=0.5); # pieplot\n"
   ]
  },
  {
   "cell_type": "markdown",
   "metadata": {
    "deletable": false,
    "editable": false,
    "run_control": {
     "frozen": true
    }
   },
   "source": [
    "* **(m)** Faire de même pour la moyenne des ventes par jour."
   ]
  },
  {
   "cell_type": "code",
   "execution_count": null,
   "metadata": {},
   "outputs": [],
   "source": [
    "## Insérez votre code ici\n",
    "\n"
   ]
  },
  {
   "cell_type": "code",
   "execution_count": null,
   "metadata": {
    "deletable": false,
    "editable": false,
    "scrolled": false
   },
   "outputs": [],
   "source": [
    "# Question m\n",
    "\n",
    "fig, axes = plt.subplots(1, 2, figsize=(15, 5)) # Taille de la figure et création de la grille\n",
    "\n",
    "\n",
    "sns.barplot(ax=axes[0], x=df_day_mean.index, y=df_day_mean.quantity) # barplot\n",
    "\n",
    "axes[0].set_title('Moyenne de ventes par jour') # Titre \n",
    "\n",
    "\n",
    "axes[1].pie(df_day_mean.quantity,radius=1.5,labels=df_day_mean.index,autopct='%1.0f%%'); # pieplot\n",
    "\n",
    "plt.legend(loc='center');"
   ]
  },
  {
   "cell_type": "markdown",
   "metadata": {
    "deletable": false,
    "editable": false,
    "run_control": {
     "frozen": true
    }
   },
   "source": [
    "* **(n)** Dans deux dataframe nommés **`df_week_sum`** et **`df_week_mean`**, stockez à l'aide d'un `.groupby` la somme et moyenne des ventes par semaine.\n",
    "* **(o)** Affichez sur deux graphiques en barres la somme et la moyenne des ventes par semaine.\n"
   ]
  },
  {
   "cell_type": "code",
   "execution_count": null,
   "metadata": {},
   "outputs": [],
   "source": [
    "## Insérez votre code ici\n",
    "\n"
   ]
  },
  {
   "cell_type": "code",
   "execution_count": null,
   "metadata": {
    "deletable": false,
    "editable": false
   },
   "outputs": [],
   "source": [
    "# Question n\n",
    "\n",
    "df_week_sum=private_data.groupby('week').sum()\n",
    "\n",
    "df_week_mean=private_data.groupby('week').mean()\n",
    "\n",
    "\n",
    "# Question o\n",
    "\n",
    "\n",
    "fig, axes = plt.subplots(1, 2, figsize=(22,5 ))\n",
    "\n",
    "\n",
    "sns.barplot(ax=axes[0], x=df_week_mean.index, y=df_week_mean.quantity)\n",
    "axes[0].set_title('Moyenne de ventes par semaine');\n",
    "\n",
    "sns.barplot(ax=axes[1], x=df_week_sum.index, y=df_week_sum.quantity)\n",
    "axes[1].set_title('Somme de ventes par semaine');\n"
   ]
  },
  {
   "cell_type": "markdown",
   "metadata": {
    "deletable": false,
    "editable": false,
    "run_control": {
     "frozen": true
    }
   },
   "source": [
    "* **(p)** Faire de même que sur les jour pour la moyenne sur les mois de l'année."
   ]
  },
  {
   "cell_type": "code",
   "execution_count": null,
   "metadata": {},
   "outputs": [],
   "source": [
    "## Insérez votre code ici\n",
    "\n"
   ]
  },
  {
   "cell_type": "code",
   "execution_count": null,
   "metadata": {
    "deletable": false,
    "editable": false
   },
   "outputs": [],
   "source": [
    "# Question p\n",
    "\n",
    "df_month_sum=private_data.groupby('month').sum()\n",
    "\n",
    "df_month_mean=private_data.groupby('month').mean()\n",
    "\n",
    "\n",
    "###################\n",
    "\n",
    "\n",
    "fig, axes = plt.subplots(1, 2, figsize=(15,5 ))\n",
    "\n",
    "\n",
    "sns.barplot(ax=axes[0], x=df_month_mean.index, y=df_month_mean.quantity)\n",
    "axes[0].set_title('Moyenne de ventes par Mois');\n",
    "\n",
    "axes[1].pie(df_month_sum.quantity,radius=1.5,labels=['Janvier','Février','Mars',\n",
    "                                                     'Avril','Mai','Juin','Juillet','Aout',\n",
    "                                                     'Septembre','Octobre'],autopct='%1.0f%%',\n",
    "            labeldistance=1);\n",
    "axes[1].set_title('Moyenne de ventes par Mois');\n",
    "\n"
   ]
  },
  {
   "cell_type": "markdown",
   "metadata": {
    "deletable": false,
    "editable": false,
    "run_control": {
     "frozen": true
    }
   },
   "source": [
    "> La majorité des ventes se concentrent alors sur les mois de **Juillet** et **Aout**. Nous aurions aimé avoir les mois de **Novembre** et **Décembre** afin d'observer si les périodes de fêtes ont une influence sur le nombre de ventes.\n",
    ">\n",
    "> Concentrons nous à présent sur les **vendeurs** et **marketplace**.\n",
    "\n",
    "* **(q)** Dans un **Dataframe** nommé **`df_seller`** regroupez **`private_data`** par `seller_id` en affichant la **somme des produits vendus** ainsi que le **nombre de produit** dans la commande concernée."
   ]
  },
  {
   "cell_type": "code",
   "execution_count": null,
   "metadata": {},
   "outputs": [],
   "source": [
    "## Insérez votre code ici\n",
    "\n"
   ]
  },
  {
   "cell_type": "code",
   "execution_count": null,
   "metadata": {
    "deletable": false,
    "editable": false
   },
   "outputs": [],
   "source": [
    "# Question q \n",
    "df_seller=private_data.groupby('seller_id').sum().iloc[:,:2]\n",
    "\n",
    "df_seller"
   ]
  },
  {
   "cell_type": "markdown",
   "metadata": {
    "deletable": false,
    "editable": false,
    "run_control": {
     "frozen": true
    }
   },
   "source": [
    "* **(r)** Dans un graphique en barre, affichez les quantités vendus par `seller_id`."
   ]
  },
  {
   "cell_type": "code",
   "execution_count": null,
   "metadata": {},
   "outputs": [],
   "source": [
    "## Insérez votre code ici\n",
    "\n"
   ]
  },
  {
   "cell_type": "code",
   "execution_count": null,
   "metadata": {
    "deletable": false,
    "editable": false
   },
   "outputs": [],
   "source": [
    "# Question r\n",
    "\n",
    "plt.figure(figsize=(17,8))\n",
    "sns.barplot(x=df_seller.index,y=df_seller.quantity);"
   ]
  },
  {
   "cell_type": "markdown",
   "metadata": {
    "deletable": false,
    "editable": false,
    "run_control": {
     "frozen": true
    }
   },
   "source": [
    "> Lorsque vous avez un site de e-commerce, il est important de savoir quels sont les **bestsellers**\n",
    "\n",
    "* **(s)** Dans un **Dataframe** nommé **`df_product`**, stockez la somme des quantités vendues par produit.\n",
    "* **(t)** Triez la variable **`'quantity'`** par odre décroissant."
   ]
  },
  {
   "cell_type": "code",
   "execution_count": null,
   "metadata": {},
   "outputs": [],
   "source": [
    "## Insérez votre code ici\n",
    "\n"
   ]
  },
  {
   "cell_type": "code",
   "execution_count": null,
   "metadata": {
    "deletable": false,
    "editable": false
   },
   "outputs": [],
   "source": [
    "# Question s\n",
    "df_product=private_data.groupby('product_id').sum()\n",
    "\n",
    "# Question t\n",
    "df_product=df_product.quantity.sort_values(ascending=False)"
   ]
  },
  {
   "cell_type": "markdown",
   "metadata": {
    "deletable": false,
    "editable": false,
    "run_control": {
     "frozen": true
    }
   },
   "source": [
    "* **(u)** Affichez dans un graphique en barre les quantités vendues pour les 20 premiers produits."
   ]
  },
  {
   "cell_type": "code",
   "execution_count": null,
   "metadata": {},
   "outputs": [],
   "source": [
    "## Insérez votre code ici\n",
    "\n"
   ]
  },
  {
   "cell_type": "code",
   "execution_count": null,
   "metadata": {
    "deletable": false,
    "editable": false
   },
   "outputs": [],
   "source": [
    "# Question u\n",
    "\n",
    "plt.figure(figsize=(17,8))\n",
    "sns.barplot(x=df_product.index[:20],y=df_product.values[:20])\n",
    "plt.title('Somme des ventes par numéro de produit');"
   ]
  },
  {
   "cell_type": "markdown",
   "metadata": {
    "deletable": false,
    "editable": false,
    "run_control": {
     "frozen": true
    }
   },
   "source": [
    "> Le produit le plus vendu est le n°1948.\n",
    ">\n",
    "> Concentrons nous un instant sur ce produit en particulier. \n",
    ">\n",
    "> **(v)** Quelles sont les questions que peut se poser le detenteur de ce site e-commerce : \n",
    "> * Par **qui** est vendu ce produit ? Sur quel **Marketplace** ? \n",
    "> * Quel est le **chiffre d'affaire** réalisé sur ce produit ? Quelle part du **chiffre d'affaire** représente-t-il ? \n",
    "> * Quelle **déclinaison** du produit est la plus vendue ? Pour savoir laquelle mettre en vente plus que l'autre ? "
   ]
  },
  {
   "cell_type": "code",
   "execution_count": null,
   "metadata": {},
   "outputs": [],
   "source": [
    "## Insérez votre code ici\n",
    "\n"
   ]
  },
  {
   "cell_type": "code",
   "execution_count": null,
   "metadata": {
    "deletable": false,
    "editable": false
   },
   "outputs": [],
   "source": [
    "# Par qui est vendu le produit ? Sur quel Marketplace ? \n",
    "\n",
    "Product_1948=private_data[private_data['product_id']==1948] # Seller n°9 sur Shopee\n",
    "\n",
    "# Quel est le chiffre réalisé sur ce produit ? Quelle part du chiffre d'affaire représente-t-il ?\n",
    "\n",
    "df_product.values[0]*Product_1948.average_selling_price.mean()\n",
    "\n",
    "# Chiffre d'affaire du vendeur\n",
    "\n",
    "df_c9=Product_1948['quantity']*Product_1948['average_selling_price']\n",
    "\n",
    "df_c9.sum()\n",
    "\n",
    "\n",
    "# Quel jour ce porduit est le plus vendu ? \n",
    "\n",
    "Product_1948['month'].value_counts()\n",
    "\n",
    "\n",
    "# La déclinaison \n",
    "\n",
    "Product_1948['variation_id'].value_counts()"
   ]
  },
  {
   "cell_type": "markdown",
   "metadata": {
    "deletable": false,
    "editable": false,
    "run_control": {
     "frozen": true
    }
   },
   "source": [
    "* **(w)** A vous de jouer et de faire de même sur le produit comptabilisant le moins de ventes."
   ]
  },
  {
   "cell_type": "code",
   "execution_count": null,
   "metadata": {},
   "outputs": [],
   "source": [
    "## Insérez votre code ici\n",
    "\n"
   ]
  },
  {
   "cell_type": "markdown",
   "metadata": {
    "deletable": false,
    "editable": false,
    "run_control": {
     "frozen": true
    }
   },
   "source": [
    "> Analyser les ventes par **marketplace** et par **seller** séparément ne permet pas forcément de comparer réellement les ventes.\n",
    "Par exemple, si **Lazada** fait le plus de ventes, il faudrait comparer cela au nombre de vendeurs pour voir si c'est seulement la proportion de vendeurs qui influe sur le nombres de ventes.\n",
    "\n",
    "* **(x)** A l'aide de la méthode `.groupby`. Affichez la somme des quantités vendues par Marketplace dans un **Dataframe** nommé **`df_marketplace`**.\n",
    "* **(y)** A l'aide de la méthode `.groupby` puis `.agg`. Affichez la somme des quantitées vendues par **`'marketplace'`** et par **`'seller_id'`** dans un **Dataframe** nommé `df_seller`."
   ]
  },
  {
   "cell_type": "code",
   "execution_count": null,
   "metadata": {},
   "outputs": [],
   "source": [
    "## Insérez votre code ici\n",
    "\n"
   ]
  },
  {
   "cell_type": "code",
   "execution_count": null,
   "metadata": {
    "deletable": false,
    "editable": false,
    "scrolled": false
   },
   "outputs": [],
   "source": [
    "# Question x\n",
    "df_marketplace=private_data.groupby(['marketplace']).agg({'quantity':sum})\n",
    "\n",
    "\n",
    "\n",
    "# Questio y\n",
    "\n",
    "df_seller=private_data.groupby(['marketplace','seller_id']).agg({'quantity':sum})\n"
   ]
  },
  {
   "cell_type": "markdown",
   "metadata": {
    "deletable": false,
    "editable": false,
    "run_control": {
     "frozen": true
    }
   },
   "source": [
    "* **(z)** Affichez dans deux camembert cote a cote les quantitées par marketplace puis par marketplace et vendeur."
   ]
  },
  {
   "cell_type": "code",
   "execution_count": null,
   "metadata": {},
   "outputs": [],
   "source": [
    "## Insérez votre code ici\n",
    "\n"
   ]
  },
  {
   "cell_type": "code",
   "execution_count": null,
   "metadata": {
    "deletable": false,
    "editable": false
   },
   "outputs": [],
   "source": [
    "# Question z\n",
    "fig, axes = plt.subplots(1, 2, figsize=(17,5))\n",
    "\n",
    "\n",
    "# pieplot 1 \n",
    "axes[0].pie(df_marketplace.quantity,labels=df_marketplace.index,autopct='%1.0f%%'\n",
    "        ,radius=1.5,labeldistance=1.1);\n",
    "axes[0].legend(loc='center');\n",
    "\n",
    "\n",
    "\n",
    "# pieplot 2 \n",
    "\n",
    "axes[1].pie(df_seller.quantity,labels=df_seller.index,autopct='%1.0f%%'\n",
    "        ,radius=1.5,labeldistance=1.1);\n",
    "\n",
    "axes[1].legend(loc='center');\n",
    "\n"
   ]
  },
  {
   "cell_type": "markdown",
   "metadata": {
    "deletable": false,
    "editable": false,
    "run_control": {
     "frozen": true
    }
   },
   "source": [
    "> Nous pouvons alors remarquer que 'shopee' comptabilise le plus de vente avec le moins de revendeur (62% pour 4 vendeurs VS 38% pour 7 vendeurs)\n",
    ">\n",
    "# Partie II\n",
    "> Nous allons à présent nous pencher sur le deuxième jeu de données. Les analyses ne seront pas complètes. Le but est que vous trouviez par vous même des graphiques pertinents à réaliser en fonction de la première partie que vous venez de terminer. N'hésitez pas à demander de l'aide à Daniel si besoin ! \n",
    ">\n",
    "> Voici un descriptif des données de **`final_stamp`** :\n",
    ">\n",
    ">> * **`marketplace`**: plateforme ecommerce sur laquelle les informations ont été récupérées. LAZ (Lazada) ou SHP (Shopee)\n",
    ">>\n",
    ">> * **`seller_id`**: identifiant anonymisé du vendeur\n",
    ">>\n",
    ">> * **`product_id`**: identifiant anonymisé du produit \n",
    ">>\n",
    ">> * **`stamp`**:  horodatage du moment où les informations ont été enregistrées.\n",
    ">>\n",
    ">> * **`retail_price`**: prix de vente avant promotion affiché, en VND (Vietnam Dong).\n",
    ">>\n",
    ">> * **`selling_price`**: prix de vente après promotion affiché, en VND (Vietnam Dong).\n",
    ">>\n",
    ">> * **`rating_i(pour i de 1 à 5)`**: nombre totales de notes i données\n",
    ">>\n",
    ">> * **`rating_avg`**: moyenne pondérée du total des notes, entre 1 et 5 **(La note 3 n'est pas présente)**.\n",
    ">>\n",
    ">> * **`rating_count`**: nombre total de notes\n",
    ">>\n",
    ">> * **`review_count`**: nombre total de notes ayant donné lieu à un commentaire\t\n",
    ">>\n",
    ">> * **`stock`**: nombre d'unités en stock\n",
    ">>\n",
    ">> * **`historical_sales`**: Shopee uniquement: indicateur du nombre \n",
    ">>\n",
    "* **(a)** Lire le fichier **`final_stamp.csv`** dans un **Dataframe** porant le même nom.\n",
    "* **(b)** Affcihez les premières lignes et informations de ce **Dataframe**."
   ]
  },
  {
   "cell_type": "code",
   "execution_count": null,
   "metadata": {},
   "outputs": [],
   "source": [
    "## Insérez votre code ici\n",
    "\n"
   ]
  },
  {
   "cell_type": "code",
   "execution_count": null,
   "metadata": {
    "deletable": false,
    "editable": false
   },
   "outputs": [],
   "source": [
    "# Question a \n",
    "final_stamp=pd.read_csv('final_stamp.csv')\n",
    "\n",
    "final_stamp=final_stamp.drop('Unnamed: 0',axis=1)\n",
    "\n",
    "# Question b \n",
    "display(final_stamp.head())\n",
    "\n",
    "display(final_stamp.info())"
   ]
  },
  {
   "cell_type": "markdown",
   "metadata": {
    "deletable": false,
    "editable": false,
    "run_control": {
     "frozen": true
    }
   },
   "source": [
    "* **(c)** Créez un **Dataframe** nommé `df_rating_marketplace`dans lequel vous allez afficher la moyenne des notes obtenues pour chaque **`'marketplace'`**.\n",
    "* **(d)** Affichez ces données dans un graphique en barres."
   ]
  },
  {
   "cell_type": "code",
   "execution_count": null,
   "metadata": {},
   "outputs": [],
   "source": [
    "## Insérez votre code ici\n",
    "\n"
   ]
  },
  {
   "cell_type": "code",
   "execution_count": null,
   "metadata": {
    "deletable": false,
    "editable": false
   },
   "outputs": [],
   "source": [
    "# Question c\n",
    "\n",
    "df_rating_marketplace=final_stamp.groupby('marketplace').agg({'rating_avg' : 'mean'})\n",
    "\n",
    "display(df_rating_marketplace)\n",
    "\n",
    "# Question d\n",
    "\n",
    "sns.barplot(x=df_rating_marketplace.index,y=df_rating_marketplace.rating_avg);"
   ]
  },
  {
   "cell_type": "markdown",
   "metadata": {
    "deletable": false,
    "editable": false,
    "run_control": {
     "frozen": true
    }
   },
   "source": [
    "> Ces moyennes sont très proches. De plus, les informations présentent dans **`final_stamp`** sont difficilement exploitbles. Par conséquent, nous allons effectuer une jointure entre nos différents jeu de données.\n",
    ">\n",
    "* **(e)** Dans un **Dataframe** nommé **`final_stamp_bis`**, regroupez par **`product_id`** pour afficher le nombre de notes 1,2,4,5 dans l'ordre croissant. \n",
    "* N'affichez que les colonnes : \n",
    ">'rating_1', 'rating_2','rating_4','rating_5','rating_avg', 'rating_count', 'retail_price', 'review_count','selling_price'"
   ]
  },
  {
   "cell_type": "code",
   "execution_count": null,
   "metadata": {},
   "outputs": [],
   "source": [
    "## Insérez votre code ici\n",
    "\n"
   ]
  },
  {
   "cell_type": "code",
   "execution_count": null,
   "metadata": {
    "deletable": false,
    "editable": false
   },
   "outputs": [],
   "source": [
    "# Question e\n",
    "final_stamp_bis=final_stamp.groupby('product_id').max().sort_values(\n",
    "    by=['rating_1','rating_2','rating_4','rating_5'],ascending=False).iloc[:,1:10]"
   ]
  },
  {
   "cell_type": "markdown",
   "metadata": {
    "deletable": false,
    "editable": false,
    "run_control": {
     "frozen": true
    }
   },
   "source": [
    "* **(f)** Dans un **Dataframe** nommé **`private_data_bis`**, regroupez par **`product_id`** pour afficher la somme des quantités vendues."
   ]
  },
  {
   "cell_type": "code",
   "execution_count": null,
   "metadata": {},
   "outputs": [],
   "source": [
    "## Insérez votre code ici \n",
    "\n"
   ]
  },
  {
   "cell_type": "code",
   "execution_count": null,
   "metadata": {},
   "outputs": [],
   "source": [
    "private_data_bis=private_sales_data.groupby('product_id').sum()['quantity']"
   ]
  },
  {
   "cell_type": "markdown",
   "metadata": {
    "deletable": false,
    "editable": false,
    "run_control": {
     "frozen": true
    }
   },
   "source": [
    "* **(g)** A l'aide d'un `.merge`, fusionnez ces deux jeu de données par leur index commun dans un **Dataframe** nommé **fusion**.\n",
    "* **(h)** Supprimez les valeurs manquantes de **fusion** et affichez ses premières lignes."
   ]
  },
  {
   "cell_type": "code",
   "execution_count": null,
   "metadata": {
    "deletable": false,
    "editable": false
   },
   "outputs": [],
   "source": [
    "# Question g\n",
    "fusion=final_stamp_bis.merge(private_data_bis,on='product_id')\n",
    "\n",
    "# Question h \n",
    "fusion=fusion.dropna()\n",
    "\n",
    "display(fusion.head())"
   ]
  },
  {
   "cell_type": "markdown",
   "metadata": {
    "deletable": false,
    "editable": false,
    "run_control": {
     "frozen": true
    }
   },
   "source": [
    "> Ainsi, nous avons une vision d'ensemble sur nos données. Ce dernier est assez facilement interpretable. Il est complet dans le sens où il n'y a plus de valeurs manquantes et les principales informations sont disponibles sur chacun des produits.\n",
    ">\n",
    "> Avant de se quitter, nous allons par exemple nous interréssé au produit n°345. Pour cela, nous allons construire une fonction capable de faire un détail de la fiche produit en question."
   ]
  },
  {
   "cell_type": "code",
   "execution_count": null,
   "metadata": {
    "deletable": false,
    "editable": false
   },
   "outputs": [],
   "source": [
    "def fiche_produit(product_id,data):\n",
    "    \n",
    "    fiche=data[data.index==product_id]\n",
    "    \n",
    "    CA=fiche['selling_price']*fiche['quantity']*0.000044 # Conversion VND --> Dollar \n",
    "    \n",
    "    print(\"Le produit n°\"+ str(product_id) + \" a été vendu en \" + \n",
    "          str(fiche['quantity'].values[0])+ \" exemplaires\"+ \n",
    "\"\\nLe chiffre d'affaire réalisé sur la vente de ce produit est de : \" + str(CA.values[0]) + ' Dollars '+ \n",
    "\"\\nSa note moyenne est de \" + str(fiche['rating_avg'].values[0]))"
   ]
  },
  {
   "cell_type": "markdown",
   "metadata": {
    "deletable": false,
    "editable": false,
    "run_control": {
     "frozen": true
    }
   },
   "source": [
    "* **(i)** Appliquez la fonction **fiche_produit** sur le produit n°789"
   ]
  },
  {
   "cell_type": "code",
   "execution_count": null,
   "metadata": {},
   "outputs": [],
   "source": [
    "## Insérez votre code ici"
   ]
  },
  {
   "cell_type": "code",
   "execution_count": null,
   "metadata": {
    "deletable": false,
    "editable": false
   },
   "outputs": [],
   "source": [
    "fiche_produit(789,fusion)"
   ]
  },
  {
   "cell_type": "markdown",
   "metadata": {
    "deletable": false,
    "editable": false,
    "run_control": {
     "frozen": true
    }
   },
   "source": [
    "> A vous de jouer ! Vous avez maitenant toutes les clès en mains pour afficher les comptes rendus souhaités."
   ]
  }
 ],
 "metadata": {
  "kernelspec": {
   "display_name": "Python 3",
   "language": "python",
   "name": "python3"
  },
  "language_info": {
   "codemirror_mode": {
    "name": "ipython",
    "version": 3
   },
   "file_extension": ".py",
   "mimetype": "text/x-python",
   "name": "python",
   "nbconvert_exporter": "python",
   "pygments_lexer": "ipython3",
   "version": "3.8.3"
  }
 },
 "nbformat": 4,
 "nbformat_minor": 4
}
